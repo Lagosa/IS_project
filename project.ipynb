{
 "cells": [
  {
   "cell_type": "markdown",
   "id": "c13630a2-c2a9-4047-9e04-af40080b69f2",
   "metadata": {},
   "source": [
    "<center><h1> Intelligent Systems </h1>\n",
    "    <h2> <b>Assignment #1</b> </h2>\n",
    "    <h3> Done by: Ghinea Cristian and Varga Zoltan </h3></center>"
   ]
  },
  {
   "cell_type": "markdown",
   "id": "4c4d106c-aca1-4700-8ec5-5302ead7bd93",
   "metadata": {
    "tags": []
   },
   "source": [
    "<h3> Abstract </h3>\n",
    "<p> We decided to examine a dataset which holds data about the shopping habits of citizens living in Istanbul. It holds data related to 10 shopping malls collected between 2021 and 2023. As the authors state it should provide a \"comprehensive view of shopping habits in Istanbul\".</p>\n",
    "<p> The model built by us is able to predict <i> the likelihood of someone paying by credit card, debit card or cash. </i></p>\n",
    "<p> <i>The dataset can be downloaded from here: <a href=\"https://www.kaggle.com/datasets/mehmettahiraslan/customer-shopping-dataset\"> click here </a></i><p>"
   ]
  },
  {
   "cell_type": "code",
   "execution_count": 207,
   "id": "17683b9b-79c7-4bc3-aa67-082ea696d807",
   "metadata": {
    "tags": []
   },
   "outputs": [
    {
     "ename": "ImportError",
     "evalue": "cannot import name 'plot_confusion_matrix' from 'sklearn.metrics' (/home/zoli/.local/lib/python3.10/site-packages/sklearn/metrics/__init__.py)",
     "output_type": "error",
     "traceback": [
      "\u001b[0;31m---------------------------------------------------------------------------\u001b[0m",
      "\u001b[0;31mImportError\u001b[0m                               Traceback (most recent call last)",
      "Cell \u001b[0;32mIn[207], line 46\u001b[0m\n\u001b[1;32m     44\u001b[0m \u001b[38;5;28;01mfrom\u001b[39;00m \u001b[38;5;21;01msklearn\u001b[39;00m\u001b[38;5;21;01m.\u001b[39;00m\u001b[38;5;21;01mtree\u001b[39;00m \u001b[38;5;28;01mimport\u001b[39;00m DecisionTreeClassifier\n\u001b[1;32m     45\u001b[0m \u001b[38;5;28;01mfrom\u001b[39;00m \u001b[38;5;21;01msklearn\u001b[39;00m \u001b[38;5;28;01mimport\u001b[39;00m tree\n\u001b[0;32m---> 46\u001b[0m \u001b[38;5;28;01mfrom\u001b[39;00m \u001b[38;5;21;01msklearn\u001b[39;00m\u001b[38;5;21;01m.\u001b[39;00m\u001b[38;5;21;01mmetrics\u001b[39;00m \u001b[38;5;28;01mimport\u001b[39;00m plot_confusion_matrix\n",
      "\u001b[0;31mImportError\u001b[0m: cannot import name 'plot_confusion_matrix' from 'sklearn.metrics' (/home/zoli/.local/lib/python3.10/site-packages/sklearn/metrics/__init__.py)"
     ]
    }
   ],
   "source": [
    "# Start by including some essential libraries\n",
    "\n",
    "import pandas as pd\n",
    "import numpy as np\n",
    "import seaborn as sns\n",
    "\n",
    "\n",
    "from pandas.plotting import scatter_matrix\n",
    "from seaborn import scatterplot, heatmap\n",
    "import matplotlib.pyplot as plt\n",
    "\n",
    "from sklearn.model_selection import train_test_split\n",
    "\n",
    "from sklearn.compose import ColumnTransformer\n",
    "from sklearn.pipeline import Pipeline\n",
    "\n",
    "from sklearn.impute import SimpleImputer\n",
    "\n",
    "from sklearn.experimental import enable_iterative_imputer\n",
    "from sklearn.impute import KNNImputer\n",
    "from sklearn.impute import IterativeImputer\n",
    "\n",
    "\n",
    "from sklearn.preprocessing import StandardScaler\n",
    "from sklearn.preprocessing import MinMaxScaler\n",
    "from sklearn.preprocessing import RobustScaler\n",
    "\n",
    "from sklearn.preprocessing import OneHotEncoder\n",
    "\n",
    "from sklearn.base import BaseEstimator, TransformerMixin\n",
    "\n",
    "from sklearn.model_selection import ShuffleSplit\n",
    "\n",
    "from sklearn.linear_model import Ridge\n",
    "from sklearn.neighbors import KNeighborsRegressor\n",
    "from sklearn.linear_model import LinearRegression\n",
    "\n",
    "from sklearn.model_selection import GridSearchCV\n",
    "from sklearn.model_selection import cross_validate\n",
    "\n",
    "from sklearn.metrics import mean_absolute_error\n",
    "from sklearn.ensemble import RandomForestClassifier\n",
    "\n",
    "from sklearn.tree import DecisionTreeClassifier\n",
    "from sklearn import tree"
   ]
  },
  {
   "cell_type": "code",
   "execution_count": 159,
   "id": "d58577fb-ff43-4cde-b71d-c6c8dbcc307e",
   "metadata": {
    "tags": []
   },
   "outputs": [],
   "source": [
    "# read the dataset\n",
    "df = pd.read_csv(\"./dataset/customer_shopping_data.csv\")"
   ]
  },
  {
   "cell_type": "markdown",
   "id": "e66b06b1-d2b1-4114-bdbc-fff8c2f0d35d",
   "metadata": {
    "tags": []
   },
   "source": [
    "<h3> Start by taking a look at our data </h3>"
   ]
  },
  {
   "cell_type": "markdown",
   "id": "afdec3a7-b6e9-4c1a-97e2-318584ba55e0",
   "metadata": {},
   "source": [
    "<p> \n",
    "    Here we can se that the types of the columns are as expected. This fact predicts us that there is no garbage (at least no mix of types within the columns).\n",
    "</p>"
   ]
  },
  {
   "cell_type": "code",
   "execution_count": 160,
   "id": "227d1f93-7210-46b1-9760-4ff2026de63f",
   "metadata": {
    "tags": []
   },
   "outputs": [
    {
     "data": {
      "text/plain": [
       "Index(['invoice_no', 'customer_id', 'gender', 'age', 'category', 'quantity',\n",
       "       'price', 'payment_method', 'invoice_date', 'shopping_mall'],\n",
       "      dtype='object')"
      ]
     },
     "execution_count": 160,
     "metadata": {},
     "output_type": "execute_result"
    }
   ],
   "source": [
    "df.columns"
   ]
  },
  {
   "cell_type": "code",
   "execution_count": 161,
   "id": "78da05dd-0001-4b8b-b842-55e341d1bf08",
   "metadata": {
    "tags": []
   },
   "outputs": [
    {
     "data": {
      "text/plain": [
       "invoice_no         object\n",
       "customer_id        object\n",
       "gender             object\n",
       "age                 int64\n",
       "category           object\n",
       "quantity            int64\n",
       "price             float64\n",
       "payment_method     object\n",
       "invoice_date       object\n",
       "shopping_mall      object\n",
       "dtype: object"
      ]
     },
     "execution_count": 161,
     "metadata": {},
     "output_type": "execute_result"
    }
   ],
   "source": [
    "df.dtypes"
   ]
  },
  {
   "cell_type": "markdown",
   "id": "97cb8f60-eb5f-4e16-bb37-e13080c814f9",
   "metadata": {},
   "source": [
    "<p>\n",
    "    This description gives us a better insight. The first two columns seem to be unique identifiers of the rows as there are as many unique values there as rows. The first decision of ours will be to delete these two columns because unique identifiers don't hold meaningful information.\n",
    "</p>\n",
    "<p>\n",
    "    Going further, the remaining columns seem to have correct data, without any noise. We must mention that the age is neatly distributed, which is promising as this can be an important predictor.\n",
    "</p>"
   ]
  },
  {
   "cell_type": "code",
   "execution_count": 162,
   "id": "ad782b04-369a-49bd-8342-f4f4ddedbc9a",
   "metadata": {
    "tags": []
   },
   "outputs": [
    {
     "data": {
      "text/html": [
       "<div>\n",
       "<style scoped>\n",
       "    .dataframe tbody tr th:only-of-type {\n",
       "        vertical-align: middle;\n",
       "    }\n",
       "\n",
       "    .dataframe tbody tr th {\n",
       "        vertical-align: top;\n",
       "    }\n",
       "\n",
       "    .dataframe thead th {\n",
       "        text-align: right;\n",
       "    }\n",
       "</style>\n",
       "<table border=\"1\" class=\"dataframe\">\n",
       "  <thead>\n",
       "    <tr style=\"text-align: right;\">\n",
       "      <th></th>\n",
       "      <th>invoice_no</th>\n",
       "      <th>customer_id</th>\n",
       "      <th>gender</th>\n",
       "      <th>age</th>\n",
       "      <th>category</th>\n",
       "      <th>quantity</th>\n",
       "      <th>price</th>\n",
       "      <th>payment_method</th>\n",
       "      <th>invoice_date</th>\n",
       "      <th>shopping_mall</th>\n",
       "    </tr>\n",
       "  </thead>\n",
       "  <tbody>\n",
       "    <tr>\n",
       "      <th>count</th>\n",
       "      <td>99457</td>\n",
       "      <td>99457</td>\n",
       "      <td>99457</td>\n",
       "      <td>99457.000000</td>\n",
       "      <td>99457</td>\n",
       "      <td>99457.000000</td>\n",
       "      <td>99457.000000</td>\n",
       "      <td>99457</td>\n",
       "      <td>99457</td>\n",
       "      <td>99457</td>\n",
       "    </tr>\n",
       "    <tr>\n",
       "      <th>unique</th>\n",
       "      <td>99457</td>\n",
       "      <td>99457</td>\n",
       "      <td>2</td>\n",
       "      <td>NaN</td>\n",
       "      <td>8</td>\n",
       "      <td>NaN</td>\n",
       "      <td>NaN</td>\n",
       "      <td>3</td>\n",
       "      <td>797</td>\n",
       "      <td>10</td>\n",
       "    </tr>\n",
       "    <tr>\n",
       "      <th>top</th>\n",
       "      <td>I138884</td>\n",
       "      <td>C241288</td>\n",
       "      <td>Female</td>\n",
       "      <td>NaN</td>\n",
       "      <td>Clothing</td>\n",
       "      <td>NaN</td>\n",
       "      <td>NaN</td>\n",
       "      <td>Cash</td>\n",
       "      <td>24/11/2021</td>\n",
       "      <td>Mall of Istanbul</td>\n",
       "    </tr>\n",
       "    <tr>\n",
       "      <th>freq</th>\n",
       "      <td>1</td>\n",
       "      <td>1</td>\n",
       "      <td>59482</td>\n",
       "      <td>NaN</td>\n",
       "      <td>34487</td>\n",
       "      <td>NaN</td>\n",
       "      <td>NaN</td>\n",
       "      <td>44447</td>\n",
       "      <td>159</td>\n",
       "      <td>19943</td>\n",
       "    </tr>\n",
       "    <tr>\n",
       "      <th>mean</th>\n",
       "      <td>NaN</td>\n",
       "      <td>NaN</td>\n",
       "      <td>NaN</td>\n",
       "      <td>43.427089</td>\n",
       "      <td>NaN</td>\n",
       "      <td>3.003429</td>\n",
       "      <td>689.256321</td>\n",
       "      <td>NaN</td>\n",
       "      <td>NaN</td>\n",
       "      <td>NaN</td>\n",
       "    </tr>\n",
       "    <tr>\n",
       "      <th>std</th>\n",
       "      <td>NaN</td>\n",
       "      <td>NaN</td>\n",
       "      <td>NaN</td>\n",
       "      <td>14.990054</td>\n",
       "      <td>NaN</td>\n",
       "      <td>1.413025</td>\n",
       "      <td>941.184567</td>\n",
       "      <td>NaN</td>\n",
       "      <td>NaN</td>\n",
       "      <td>NaN</td>\n",
       "    </tr>\n",
       "    <tr>\n",
       "      <th>min</th>\n",
       "      <td>NaN</td>\n",
       "      <td>NaN</td>\n",
       "      <td>NaN</td>\n",
       "      <td>18.000000</td>\n",
       "      <td>NaN</td>\n",
       "      <td>1.000000</td>\n",
       "      <td>5.230000</td>\n",
       "      <td>NaN</td>\n",
       "      <td>NaN</td>\n",
       "      <td>NaN</td>\n",
       "    </tr>\n",
       "    <tr>\n",
       "      <th>25%</th>\n",
       "      <td>NaN</td>\n",
       "      <td>NaN</td>\n",
       "      <td>NaN</td>\n",
       "      <td>30.000000</td>\n",
       "      <td>NaN</td>\n",
       "      <td>2.000000</td>\n",
       "      <td>45.450000</td>\n",
       "      <td>NaN</td>\n",
       "      <td>NaN</td>\n",
       "      <td>NaN</td>\n",
       "    </tr>\n",
       "    <tr>\n",
       "      <th>50%</th>\n",
       "      <td>NaN</td>\n",
       "      <td>NaN</td>\n",
       "      <td>NaN</td>\n",
       "      <td>43.000000</td>\n",
       "      <td>NaN</td>\n",
       "      <td>3.000000</td>\n",
       "      <td>203.300000</td>\n",
       "      <td>NaN</td>\n",
       "      <td>NaN</td>\n",
       "      <td>NaN</td>\n",
       "    </tr>\n",
       "    <tr>\n",
       "      <th>75%</th>\n",
       "      <td>NaN</td>\n",
       "      <td>NaN</td>\n",
       "      <td>NaN</td>\n",
       "      <td>56.000000</td>\n",
       "      <td>NaN</td>\n",
       "      <td>4.000000</td>\n",
       "      <td>1200.320000</td>\n",
       "      <td>NaN</td>\n",
       "      <td>NaN</td>\n",
       "      <td>NaN</td>\n",
       "    </tr>\n",
       "    <tr>\n",
       "      <th>max</th>\n",
       "      <td>NaN</td>\n",
       "      <td>NaN</td>\n",
       "      <td>NaN</td>\n",
       "      <td>69.000000</td>\n",
       "      <td>NaN</td>\n",
       "      <td>5.000000</td>\n",
       "      <td>5250.000000</td>\n",
       "      <td>NaN</td>\n",
       "      <td>NaN</td>\n",
       "      <td>NaN</td>\n",
       "    </tr>\n",
       "  </tbody>\n",
       "</table>\n",
       "</div>"
      ],
      "text/plain": [
       "       invoice_no customer_id  gender           age  category      quantity  \\\n",
       "count       99457       99457   99457  99457.000000     99457  99457.000000   \n",
       "unique      99457       99457       2           NaN         8           NaN   \n",
       "top       I138884     C241288  Female           NaN  Clothing           NaN   \n",
       "freq            1           1   59482           NaN     34487           NaN   \n",
       "mean          NaN         NaN     NaN     43.427089       NaN      3.003429   \n",
       "std           NaN         NaN     NaN     14.990054       NaN      1.413025   \n",
       "min           NaN         NaN     NaN     18.000000       NaN      1.000000   \n",
       "25%           NaN         NaN     NaN     30.000000       NaN      2.000000   \n",
       "50%           NaN         NaN     NaN     43.000000       NaN      3.000000   \n",
       "75%           NaN         NaN     NaN     56.000000       NaN      4.000000   \n",
       "max           NaN         NaN     NaN     69.000000       NaN      5.000000   \n",
       "\n",
       "               price payment_method invoice_date     shopping_mall  \n",
       "count   99457.000000          99457        99457             99457  \n",
       "unique           NaN              3          797                10  \n",
       "top              NaN           Cash   24/11/2021  Mall of Istanbul  \n",
       "freq             NaN          44447          159             19943  \n",
       "mean      689.256321            NaN          NaN               NaN  \n",
       "std       941.184567            NaN          NaN               NaN  \n",
       "min         5.230000            NaN          NaN               NaN  \n",
       "25%        45.450000            NaN          NaN               NaN  \n",
       "50%       203.300000            NaN          NaN               NaN  \n",
       "75%      1200.320000            NaN          NaN               NaN  \n",
       "max      5250.000000            NaN          NaN               NaN  "
      ]
     },
     "execution_count": 162,
     "metadata": {},
     "output_type": "execute_result"
    }
   ],
   "source": [
    "df.describe(include=\"all\")"
   ]
  },
  {
   "cell_type": "code",
   "execution_count": 163,
   "id": "ba65b79a-a163-4d8d-912a-8ef4cd9deb78",
   "metadata": {
    "tags": []
   },
   "outputs": [],
   "source": [
    "# delete the columns containing unique identifiers\n",
    "df = df[['gender','age','category','quantity','price','payment_method','invoice_date','shopping_mall']]"
   ]
  },
  {
   "cell_type": "code",
   "execution_count": 164,
   "id": "64198f62-f324-462d-ac37-8c61d1e838ed",
   "metadata": {
    "tags": []
   },
   "outputs": [
    {
     "data": {
      "text/plain": [
       "array(['Clothing', 'Shoes', 'Books', 'Cosmetics', 'Food & Beverage',\n",
       "       'Toys', 'Technology', 'Souvenir'], dtype=object)"
      ]
     },
     "execution_count": 164,
     "metadata": {},
     "output_type": "execute_result"
    }
   ],
   "source": [
    "# check what categories we have\n",
    "df['category'].unique()"
   ]
  },
  {
   "cell_type": "markdown",
   "id": "682ec4cf-fa15-4344-bfad-fa32e2050f0e",
   "metadata": {},
   "source": [
    "<p>\n",
    "    We decided to encode the categories, however we might use one-hot encoding in the future.\n",
    "</p>"
   ]
  },
  {
   "cell_type": "code",
   "execution_count": 165,
   "id": "18c4b622-f162-4000-bbc7-69d400428460",
   "metadata": {
    "tags": []
   },
   "outputs": [],
   "source": [
    "# df['category_num'] = 0\n",
    "# df.loc[df['category'] == 'Clothing', 'category_num'] = 0\n",
    "# df.loc[df['category'] == 'Shoes', 'category_num'] = 1\n",
    "# df.loc[df['category'] == 'Books', 'category_num'] = 2\n",
    "# df.loc[df['category'] == 'Cosmetics', 'category_num'] = 3\n",
    "# df.loc[df['category'] == 'Food & Beverage', 'category_num'] = 4\n",
    "# df.loc[df['category'] == 'Toys', 'category_num'] = 5\n",
    "# df.loc[df['category'] == 'Technology', 'category_num'] = 6\n",
    "# df.loc[df['category'] == 'Souvenir', 'category_num'] = 7"
   ]
  },
  {
   "cell_type": "code",
   "execution_count": 166,
   "id": "6e084ee6-e6c3-4fd6-9f05-ee692835f379",
   "metadata": {
    "tags": []
   },
   "outputs": [
    {
     "data": {
      "text/plain": [
       "array(['Credit Card', 'Debit Card', 'Cash'], dtype=object)"
      ]
     },
     "execution_count": 166,
     "metadata": {},
     "output_type": "execute_result"
    }
   ],
   "source": [
    "# check the payment methods\n",
    "df['payment_method'].unique()"
   ]
  },
  {
   "cell_type": "code",
   "execution_count": 167,
   "id": "02cbace7-fe82-482d-a03a-0a3758977910",
   "metadata": {
    "tags": []
   },
   "outputs": [],
   "source": [
    "# one hot encode them here in order to have them on the scatter plot\n",
    "df['payment_method_cash'] = 0\n",
    "df['payment_method_credit'] = 0\n",
    "df['payment_method_debit'] = 0\n",
    "\n",
    "df.loc[df['payment_method'] == 'Credit Card', 'payment_method_credit'] = 1\n",
    "df.loc[df['payment_method'] == 'Debit Card', 'payment_method_debit'] = 1\n",
    "df.loc[df['payment_method'] == 'Cash', 'payment_method_cash'] = 1"
   ]
  },
  {
   "cell_type": "code",
   "execution_count": 168,
   "id": "cc0cc154-dbee-40f2-82b5-4b2e7a097e81",
   "metadata": {
    "tags": []
   },
   "outputs": [
    {
     "data": {
      "text/plain": [
       "array(['Kanyon', 'Forum Istanbul', 'Metrocity', 'Metropol AVM',\n",
       "       'Istinye Park', 'Mall of Istanbul', 'Emaar Square Mall',\n",
       "       'Cevahir AVM', 'Viaport Outlet', 'Zorlu Center'], dtype=object)"
      ]
     },
     "execution_count": 168,
     "metadata": {},
     "output_type": "execute_result"
    }
   ],
   "source": [
    "df['shopping_mall'].unique()"
   ]
  },
  {
   "cell_type": "markdown",
   "id": "45d86c4a-31b8-4fb2-b1e4-77ad5bdc46bd",
   "metadata": {},
   "source": [
    "<p>\n",
    "    As the names of the malls didn't provide us with any information, we opted to categorize them into two groups: expensive (1) and affordable (0) malls. We conducted research online to distinguish between the two.\n",
    "</p>"
   ]
  },
  {
   "cell_type": "code",
   "execution_count": 169,
   "id": "f8f2c548-e61d-4eb2-8904-c9248e345049",
   "metadata": {
    "tags": []
   },
   "outputs": [],
   "source": [
    "df['mall_category'] = ''\n",
    "df.loc[df['shopping_mall'] == 'Kanyon','mall_category'] = 1\n",
    "df.loc[df['shopping_mall'] == 'Forum Istanbul','mall_category'] = 1\n",
    "df.loc[df['shopping_mall'] == 'Metrocity','mall_category'] = 1\n",
    "df.loc[df['shopping_mall'] == 'Metropol AVM','mall_category'] = 0\n",
    "df.loc[df['shopping_mall'] == 'Istinye Park','mall_category'] = 1\n",
    "df.loc[df['shopping_mall'] == 'Mall of Istanbul','mall_category'] = 0\n",
    "df.loc[df['shopping_mall'] == 'Emaar Square Mall','mall_category'] = 1\n",
    "df.loc[df['shopping_mall'] == 'Cevahir AVM','mall_category'] = 0\n",
    "df.loc[df['shopping_mall'] == 'Viaport Outlet','mall_category'] = 0\n",
    "df.loc[df['shopping_mall'] == 'Zorlu Center','mall_category'] = 1"
   ]
  },
  {
   "cell_type": "code",
   "execution_count": 170,
   "id": "db21d397-9f3e-4549-8e6f-b7c94417661b",
   "metadata": {
    "tags": []
   },
   "outputs": [],
   "source": [
    "# df['gender_num'] = 0\n",
    "# df.loc[df['gender'] == 'Male', 'gender_num'] = 1"
   ]
  },
  {
   "cell_type": "code",
   "execution_count": 171,
   "id": "9426e009-6eb1-47f3-93da-b7c275d97f84",
   "metadata": {
    "tags": []
   },
   "outputs": [],
   "source": [
    "# categorise the years as the prefference of using debit/credit card or cash does not change over 1 year, but over a generation\n",
    "# we grouped them in 8 year intervals\n",
    "\n",
    "df['age_cat_1'] = 0\n",
    "df['age_cat_2'] = 0\n",
    "df['age_cat_3'] = 0\n",
    "df['age_cat_4'] = 0\n",
    "df['age_cat_5'] = 0\n",
    "df['age_cat_6'] = 0\n",
    "df['age_cat_7'] = 0\n",
    "\n",
    "df.loc[df['age'].between(18,25), 'age_cat_1'] = 1\n",
    "df.loc[df['age'].between(26,33), 'age_cat_2'] = 1\n",
    "df.loc[df['age'].between(34,41), 'age_cat_3'] = 1\n",
    "df.loc[df['age'].between(42,49), 'age_cat_4'] = 1\n",
    "df.loc[df['age'].between(50,57), 'age_cat_5'] = 1\n",
    "df.loc[df['age'].between(58,65), 'age_cat_6'] = 1\n",
    "df.loc[df['age'].between(66,73), 'age_cat_7'] = 1"
   ]
  },
  {
   "cell_type": "markdown",
   "id": "9d8c529c-45cb-4e0d-abda-018cd10b8d06",
   "metadata": {},
   "source": [
    "<p> \n",
    "    We extracted only the year and the month of the payment, as the day is not relevant. By the month maybe we can observe some patterns regarding high-sale periods such as holidays. At first we wanted to remove the year as well, but we quickly changed our minds as the preference for paying with card over cash drastically changed during the pandemic, and the dataset captures this period.\n",
    "</p>"
   ]
  },
  {
   "cell_type": "code",
   "execution_count": 172,
   "id": "99d27fe9-e619-4d3f-93e2-ada77c01578b",
   "metadata": {
    "tags": []
   },
   "outputs": [],
   "source": [
    "df['year'] = pd.to_datetime(df['invoice_date'],format='%d/%m/%Y').dt.year\n",
    "df['month'] = pd.to_datetime(df['invoice_date'],format='%d/%m/%Y').dt.month"
   ]
  },
  {
   "cell_type": "code",
   "execution_count": 173,
   "id": "8025a554-5850-496e-a626-31e0a389242b",
   "metadata": {
    "tags": []
   },
   "outputs": [
    {
     "data": {
      "text/plain": [
       "count    99457.000000\n",
       "mean       689.256321\n",
       "std        941.184567\n",
       "min          5.230000\n",
       "25%         45.450000\n",
       "50%        203.300000\n",
       "75%       1200.320000\n",
       "max       5250.000000\n",
       "Name: price, dtype: float64"
      ]
     },
     "execution_count": 173,
     "metadata": {},
     "output_type": "execute_result"
    }
   ],
   "source": [
    "df['price'].describe()"
   ]
  },
  {
   "cell_type": "code",
   "execution_count": 174,
   "id": "2e7f37b5-16cf-491c-92ec-b2892207dd45",
   "metadata": {
    "tags": []
   },
   "outputs": [
    {
     "data": {
      "text/html": [
       "<div>\n",
       "<style scoped>\n",
       "    .dataframe tbody tr th:only-of-type {\n",
       "        vertical-align: middle;\n",
       "    }\n",
       "\n",
       "    .dataframe tbody tr th {\n",
       "        vertical-align: top;\n",
       "    }\n",
       "\n",
       "    .dataframe thead th {\n",
       "        text-align: right;\n",
       "    }\n",
       "</style>\n",
       "<table border=\"1\" class=\"dataframe\">\n",
       "  <thead>\n",
       "    <tr style=\"text-align: right;\">\n",
       "      <th></th>\n",
       "      <th>gender</th>\n",
       "      <th>age</th>\n",
       "      <th>category</th>\n",
       "      <th>quantity</th>\n",
       "      <th>price</th>\n",
       "      <th>payment_method</th>\n",
       "      <th>invoice_date</th>\n",
       "      <th>shopping_mall</th>\n",
       "      <th>payment_method_cash</th>\n",
       "      <th>payment_method_credit</th>\n",
       "      <th>...</th>\n",
       "      <th>mall_category</th>\n",
       "      <th>age_cat_1</th>\n",
       "      <th>age_cat_2</th>\n",
       "      <th>age_cat_3</th>\n",
       "      <th>age_cat_4</th>\n",
       "      <th>age_cat_5</th>\n",
       "      <th>age_cat_6</th>\n",
       "      <th>age_cat_7</th>\n",
       "      <th>year</th>\n",
       "      <th>month</th>\n",
       "    </tr>\n",
       "  </thead>\n",
       "  <tbody>\n",
       "    <tr>\n",
       "      <th>0</th>\n",
       "      <td>Female</td>\n",
       "      <td>28</td>\n",
       "      <td>Clothing</td>\n",
       "      <td>5</td>\n",
       "      <td>1500.40</td>\n",
       "      <td>2</td>\n",
       "      <td>5/8/2022</td>\n",
       "      <td>Kanyon</td>\n",
       "      <td>0</td>\n",
       "      <td>1</td>\n",
       "      <td>...</td>\n",
       "      <td>1</td>\n",
       "      <td>0</td>\n",
       "      <td>1</td>\n",
       "      <td>0</td>\n",
       "      <td>0</td>\n",
       "      <td>0</td>\n",
       "      <td>0</td>\n",
       "      <td>0</td>\n",
       "      <td>2022</td>\n",
       "      <td>8</td>\n",
       "    </tr>\n",
       "    <tr>\n",
       "      <th>1</th>\n",
       "      <td>Male</td>\n",
       "      <td>21</td>\n",
       "      <td>Shoes</td>\n",
       "      <td>3</td>\n",
       "      <td>1800.51</td>\n",
       "      <td>2</td>\n",
       "      <td>12/12/2021</td>\n",
       "      <td>Forum Istanbul</td>\n",
       "      <td>0</td>\n",
       "      <td>0</td>\n",
       "      <td>...</td>\n",
       "      <td>1</td>\n",
       "      <td>1</td>\n",
       "      <td>0</td>\n",
       "      <td>0</td>\n",
       "      <td>0</td>\n",
       "      <td>0</td>\n",
       "      <td>0</td>\n",
       "      <td>0</td>\n",
       "      <td>2021</td>\n",
       "      <td>12</td>\n",
       "    </tr>\n",
       "    <tr>\n",
       "      <th>2</th>\n",
       "      <td>Male</td>\n",
       "      <td>20</td>\n",
       "      <td>Clothing</td>\n",
       "      <td>1</td>\n",
       "      <td>300.08</td>\n",
       "      <td>2</td>\n",
       "      <td>9/11/2021</td>\n",
       "      <td>Metrocity</td>\n",
       "      <td>1</td>\n",
       "      <td>0</td>\n",
       "      <td>...</td>\n",
       "      <td>1</td>\n",
       "      <td>1</td>\n",
       "      <td>0</td>\n",
       "      <td>0</td>\n",
       "      <td>0</td>\n",
       "      <td>0</td>\n",
       "      <td>0</td>\n",
       "      <td>0</td>\n",
       "      <td>2021</td>\n",
       "      <td>11</td>\n",
       "    </tr>\n",
       "    <tr>\n",
       "      <th>3</th>\n",
       "      <td>Female</td>\n",
       "      <td>66</td>\n",
       "      <td>Shoes</td>\n",
       "      <td>5</td>\n",
       "      <td>3000.85</td>\n",
       "      <td>2</td>\n",
       "      <td>16/05/2021</td>\n",
       "      <td>Metropol AVM</td>\n",
       "      <td>0</td>\n",
       "      <td>1</td>\n",
       "      <td>...</td>\n",
       "      <td>0</td>\n",
       "      <td>0</td>\n",
       "      <td>0</td>\n",
       "      <td>0</td>\n",
       "      <td>0</td>\n",
       "      <td>0</td>\n",
       "      <td>0</td>\n",
       "      <td>1</td>\n",
       "      <td>2021</td>\n",
       "      <td>5</td>\n",
       "    </tr>\n",
       "    <tr>\n",
       "      <th>4</th>\n",
       "      <td>Female</td>\n",
       "      <td>53</td>\n",
       "      <td>Books</td>\n",
       "      <td>4</td>\n",
       "      <td>60.60</td>\n",
       "      <td>2</td>\n",
       "      <td>24/10/2021</td>\n",
       "      <td>Kanyon</td>\n",
       "      <td>1</td>\n",
       "      <td>0</td>\n",
       "      <td>...</td>\n",
       "      <td>1</td>\n",
       "      <td>0</td>\n",
       "      <td>0</td>\n",
       "      <td>0</td>\n",
       "      <td>0</td>\n",
       "      <td>1</td>\n",
       "      <td>0</td>\n",
       "      <td>0</td>\n",
       "      <td>2021</td>\n",
       "      <td>10</td>\n",
       "    </tr>\n",
       "    <tr>\n",
       "      <th>5</th>\n",
       "      <td>Female</td>\n",
       "      <td>28</td>\n",
       "      <td>Clothing</td>\n",
       "      <td>5</td>\n",
       "      <td>1500.40</td>\n",
       "      <td>2</td>\n",
       "      <td>24/05/2022</td>\n",
       "      <td>Forum Istanbul</td>\n",
       "      <td>0</td>\n",
       "      <td>1</td>\n",
       "      <td>...</td>\n",
       "      <td>1</td>\n",
       "      <td>0</td>\n",
       "      <td>1</td>\n",
       "      <td>0</td>\n",
       "      <td>0</td>\n",
       "      <td>0</td>\n",
       "      <td>0</td>\n",
       "      <td>0</td>\n",
       "      <td>2022</td>\n",
       "      <td>5</td>\n",
       "    </tr>\n",
       "    <tr>\n",
       "      <th>6</th>\n",
       "      <td>Female</td>\n",
       "      <td>49</td>\n",
       "      <td>Cosmetics</td>\n",
       "      <td>1</td>\n",
       "      <td>40.66</td>\n",
       "      <td>2</td>\n",
       "      <td>13/03/2022</td>\n",
       "      <td>Istinye Park</td>\n",
       "      <td>1</td>\n",
       "      <td>0</td>\n",
       "      <td>...</td>\n",
       "      <td>1</td>\n",
       "      <td>0</td>\n",
       "      <td>0</td>\n",
       "      <td>0</td>\n",
       "      <td>1</td>\n",
       "      <td>0</td>\n",
       "      <td>0</td>\n",
       "      <td>0</td>\n",
       "      <td>2022</td>\n",
       "      <td>3</td>\n",
       "    </tr>\n",
       "    <tr>\n",
       "      <th>7</th>\n",
       "      <td>Female</td>\n",
       "      <td>32</td>\n",
       "      <td>Clothing</td>\n",
       "      <td>2</td>\n",
       "      <td>600.16</td>\n",
       "      <td>2</td>\n",
       "      <td>13/01/2021</td>\n",
       "      <td>Mall of Istanbul</td>\n",
       "      <td>0</td>\n",
       "      <td>1</td>\n",
       "      <td>...</td>\n",
       "      <td>0</td>\n",
       "      <td>0</td>\n",
       "      <td>1</td>\n",
       "      <td>0</td>\n",
       "      <td>0</td>\n",
       "      <td>0</td>\n",
       "      <td>0</td>\n",
       "      <td>0</td>\n",
       "      <td>2021</td>\n",
       "      <td>1</td>\n",
       "    </tr>\n",
       "    <tr>\n",
       "      <th>8</th>\n",
       "      <td>Male</td>\n",
       "      <td>69</td>\n",
       "      <td>Clothing</td>\n",
       "      <td>3</td>\n",
       "      <td>900.24</td>\n",
       "      <td>2</td>\n",
       "      <td>4/11/2021</td>\n",
       "      <td>Metrocity</td>\n",
       "      <td>0</td>\n",
       "      <td>1</td>\n",
       "      <td>...</td>\n",
       "      <td>1</td>\n",
       "      <td>0</td>\n",
       "      <td>0</td>\n",
       "      <td>0</td>\n",
       "      <td>0</td>\n",
       "      <td>0</td>\n",
       "      <td>0</td>\n",
       "      <td>1</td>\n",
       "      <td>2021</td>\n",
       "      <td>11</td>\n",
       "    </tr>\n",
       "    <tr>\n",
       "      <th>9</th>\n",
       "      <td>Female</td>\n",
       "      <td>60</td>\n",
       "      <td>Clothing</td>\n",
       "      <td>2</td>\n",
       "      <td>600.16</td>\n",
       "      <td>2</td>\n",
       "      <td>22/08/2021</td>\n",
       "      <td>Kanyon</td>\n",
       "      <td>0</td>\n",
       "      <td>1</td>\n",
       "      <td>...</td>\n",
       "      <td>1</td>\n",
       "      <td>0</td>\n",
       "      <td>0</td>\n",
       "      <td>0</td>\n",
       "      <td>0</td>\n",
       "      <td>0</td>\n",
       "      <td>1</td>\n",
       "      <td>0</td>\n",
       "      <td>2021</td>\n",
       "      <td>8</td>\n",
       "    </tr>\n",
       "  </tbody>\n",
       "</table>\n",
       "<p>10 rows × 21 columns</p>\n",
       "</div>"
      ],
      "text/plain": [
       "   gender  age   category  quantity    price  payment_method invoice_date  \\\n",
       "0  Female   28   Clothing         5  1500.40               2     5/8/2022   \n",
       "1    Male   21      Shoes         3  1800.51               2   12/12/2021   \n",
       "2    Male   20   Clothing         1   300.08               2    9/11/2021   \n",
       "3  Female   66      Shoes         5  3000.85               2   16/05/2021   \n",
       "4  Female   53      Books         4    60.60               2   24/10/2021   \n",
       "5  Female   28   Clothing         5  1500.40               2   24/05/2022   \n",
       "6  Female   49  Cosmetics         1    40.66               2   13/03/2022   \n",
       "7  Female   32   Clothing         2   600.16               2   13/01/2021   \n",
       "8    Male   69   Clothing         3   900.24               2    4/11/2021   \n",
       "9  Female   60   Clothing         2   600.16               2   22/08/2021   \n",
       "\n",
       "      shopping_mall  payment_method_cash  payment_method_credit  ...  \\\n",
       "0            Kanyon                    0                      1  ...   \n",
       "1    Forum Istanbul                    0                      0  ...   \n",
       "2         Metrocity                    1                      0  ...   \n",
       "3      Metropol AVM                    0                      1  ...   \n",
       "4            Kanyon                    1                      0  ...   \n",
       "5    Forum Istanbul                    0                      1  ...   \n",
       "6      Istinye Park                    1                      0  ...   \n",
       "7  Mall of Istanbul                    0                      1  ...   \n",
       "8         Metrocity                    0                      1  ...   \n",
       "9            Kanyon                    0                      1  ...   \n",
       "\n",
       "   mall_category age_cat_1  age_cat_2  age_cat_3  age_cat_4  age_cat_5  \\\n",
       "0              1         0          1          0          0          0   \n",
       "1              1         1          0          0          0          0   \n",
       "2              1         1          0          0          0          0   \n",
       "3              0         0          0          0          0          0   \n",
       "4              1         0          0          0          0          1   \n",
       "5              1         0          1          0          0          0   \n",
       "6              1         0          0          0          1          0   \n",
       "7              0         0          1          0          0          0   \n",
       "8              1         0          0          0          0          0   \n",
       "9              1         0          0          0          0          0   \n",
       "\n",
       "   age_cat_6  age_cat_7  year  month  \n",
       "0          0          0  2022      8  \n",
       "1          0          0  2021     12  \n",
       "2          0          0  2021     11  \n",
       "3          0          1  2021      5  \n",
       "4          0          0  2021     10  \n",
       "5          0          0  2022      5  \n",
       "6          0          0  2022      3  \n",
       "7          0          0  2021      1  \n",
       "8          0          1  2021     11  \n",
       "9          1          0  2021      8  \n",
       "\n",
       "[10 rows x 21 columns]"
      ]
     },
     "execution_count": 174,
     "metadata": {},
     "output_type": "execute_result"
    }
   ],
   "source": [
    "# make the target value numerical\n",
    "df['payment_method'] = df[df['payment_method'] == 'Cash'] = 0\n",
    "df['payment_method'] = df[df['payment_method'] == 'Credit Card'] = 1\n",
    "df['payment_method'] = df[df['payment_method'] == 'Debit Card'] = 2\n",
    "\n",
    "df.head(10)"
   ]
  },
  {
   "cell_type": "markdown",
   "id": "9eb3c19b-2ce4-46d7-a2ec-f733d5537fdb",
   "metadata": {},
   "source": [
    "<h3> Separate the test set and the training set </h3>"
   ]
  },
  {
   "cell_type": "markdown",
   "id": "c1aa0e7e-0d92-430c-af82-9b4eefac2184",
   "metadata": {},
   "source": [
    "As in the followings we will dive deeper into the dataset we must lock the test set away. As we have plenty of data we can afford a 80% - 20% ratio between the size of the training and the test set."
   ]
  },
  {
   "cell_type": "code",
   "execution_count": 175,
   "id": "74051a45-132b-46dd-83ef-fbd71e60c31e",
   "metadata": {
    "tags": []
   },
   "outputs": [],
   "source": [
    "dev_df, test_df = train_test_split(df, train_size=0.8, random_state=2)"
   ]
  },
  {
   "cell_type": "markdown",
   "id": "9b3a4df4-ab28-4d42-8952-9de0de81af56",
   "metadata": {},
   "source": [
    "<h3> Data visualization </h3>"
   ]
  },
  {
   "cell_type": "markdown",
   "id": "5c704afa-6dbf-499f-b886-a996793a5a7c",
   "metadata": {},
   "source": [
    "We copied the training set in order not to modify them by chance. We made a scatter plot to visualize the eventual correlation between the columns. Unfortunately we have only a few columns that contain numerical values, so we couldn't draw a conclusion from these plots. But below we combined some features in graphs that we considered important."
   ]
  },
  {
   "cell_type": "code",
   "execution_count": 176,
   "id": "815cca4d-0576-485a-8d87-073c6b0fef6a",
   "metadata": {
    "tags": []
   },
   "outputs": [],
   "source": [
    "copy_dev_df = dev_df.copy()"
   ]
  },
  {
   "cell_type": "code",
   "execution_count": 177,
   "id": "e722ed72-2ca4-4203-94ef-b207c630bc4a",
   "metadata": {
    "tags": []
   },
   "outputs": [],
   "source": [
    "#m = scatter_matrix(copy_dev_df,figsize=(15,15))"
   ]
  },
  {
   "cell_type": "markdown",
   "id": "37bdb497-9f46-40f9-b8ff-d4e6f55bbebb",
   "metadata": {},
   "source": [
    "We suspected a high correlation between the age of a customer and the payment method it will use. So we tried to visualize these two. </p> <p> To our surprise there wasn't a high correlation between the age category and the payment method used. More specifically there is only a subtle change in the number of purchases where cash was used in the 4th and 5th category. This means that we cannot conclude that the young generation is more prone to using card than cash when making a payment."
   ]
  },
  {
   "cell_type": "code",
   "execution_count": 178,
   "id": "682e6816-f714-41c3-b40a-89bdccafbc18",
   "metadata": {
    "tags": []
   },
   "outputs": [
    {
     "data": {
      "text/plain": [
       "<Axes: xlabel='age_cat'>"
      ]
     },
     "execution_count": 178,
     "metadata": {},
     "output_type": "execute_result"
    },
    {
     "data": {
      "image/png": "[encoded data removed]",
      "text/plain": [
       "<Figure size 200x200 with 1 Axes>"
      ]
     },
     "metadata": {},
     "output_type": "display_data"
    }
   ],
   "source": [
    "# make the categories in one column, remove that column afterwards\n",
    "copy_dev_df['age_cat'] = 0\n",
    "copy_dev_df.loc[copy_dev_df['age'].between(18,25), 'age_cat'] = 1\n",
    "copy_dev_df.loc[copy_dev_df['age'].between(26,33), 'age_cat'] = 2\n",
    "copy_dev_df.loc[copy_dev_df['age'].between(34,41), 'age_cat'] = 3\n",
    "copy_dev_df.loc[copy_dev_df['age'].between(42,49), 'age_cat'] = 4\n",
    "copy_dev_df.loc[copy_dev_df['age'].between(50,57), 'age_cat'] = 5\n",
    "copy_dev_df.loc[copy_dev_df['age'].between(58,65), 'age_cat'] = 6\n",
    "copy_dev_df.loc[copy_dev_df['age'].between(66,73), 'age_cat'] = 7\n",
    "\n",
    "# Create a pivot table to capture the payment methods used for each age category\n",
    "age_payment_method_combined = copy_dev_df.pivot_table(index='age_cat', columns='payment_method', aggfunc='count')['age']\n",
    "# Plot the table\n",
    "age_payment_method_combined.plot.bar()"
   ]
  },
  {
   "cell_type": "markdown",
   "id": "041ca145-f8cb-4fea-857e-62a519e7d4cb",
   "metadata": {},
   "source": [
    "<p>The drop in the overall purchases in the 7th age category it is most probably due to the limited number of rows that are covering this age group. Also from the following plot one can see that there is an even distribution of the age groups.</p>"
   ]
  },
  {
   "cell_type": "code",
   "execution_count": 179,
   "id": "8c63c06f-3506-43a4-bd95-81bd54abc6c3",
   "metadata": {
    "tags": []
   },
   "outputs": [
    {
     "data": {
      "image/png": "[encoded data removed]",
      "text/plain": [
       "<Figure size 200x200 with 1 Axes>"
      ]
     },
     "metadata": {},
     "output_type": "display_data"
    }
   ],
   "source": [
    "copy_dev_df.sort_values(by='age_cat', ascending=True)\n",
    "sns.countplot(x = 'age_cat',\n",
    "              data = copy_dev_df)\n",
    "\n",
    "sns.set(rc={'figure.figsize':(2,2)})"
   ]
  },
  {
   "cell_type": "markdown",
   "id": "9ac934ff-9ceb-4694-97dd-73e43ae8b87f",
   "metadata": {},
   "source": [
    "<b>Sansele sa cumpere cineva cu card sunt mai mari in jurul sarbatorilor din iarna (black-friday -> Christmas). Diferenta dintre current date si mean of [BF, Xmas].?? major turkish celebrations??</b>"
   ]
  },
  {
   "cell_type": "markdown",
   "id": "6dcbecef-a278-46bf-8ea0-86c0f67b8814",
   "metadata": {},
   "source": [
    "We observed that there is a big difference between the number of cash payments and debit_card payments. We will tackle this issue by using a stratified k fold when splitting up the train and the validation sets. By this we will eliminate the chance of having just cash payments in one of the sets."
   ]
  },
  {
   "cell_type": "code",
   "execution_count": 180,
   "id": "292f27fa-9f84-482e-ba8f-3979af4ef819",
   "metadata": {
    "tags": []
   },
   "outputs": [
    {
     "data": {
      "text/plain": [
       "<Axes: xlabel='payment_method', ylabel='count'>"
      ]
     },
     "execution_count": 180,
     "metadata": {},
     "output_type": "execute_result"
    },
    {
     "data": {
      "image/png": "[encoded data removed]",
      "text/plain": [
       "<Figure size 200x200 with 1 Axes>"
      ]
     },
     "metadata": {},
     "output_type": "display_data"
    }
   ],
   "source": [
    "copy_dev_df.sort_values(by='payment_method', ascending=True)\n",
    "sns.countplot(x = 'payment_method', data = copy_dev_df)"
   ]
  },
  {
   "cell_type": "markdown",
   "id": "cfb27d60-72b2-4f5e-8a20-d588f61c6298",
   "metadata": {},
   "source": [
    "<p> \n",
    "    Next, we ploted the number number of payments made by all three payment methods along the price axis. From this we conluded that there are only a few payments above 3000. So we should remove the examples above 3000.\n",
    "</p>"
   ]
  },
  {
   "cell_type": "code",
   "execution_count": 181,
   "id": "4a4f73f9-3744-4450-96d6-79c2719d60b8",
   "metadata": {
    "tags": []
   },
   "outputs": [
    {
     "data": {
      "text/plain": [
       "<Axes: xlabel='price'>"
      ]
     },
     "execution_count": 181,
     "metadata": {},
     "output_type": "execute_result"
    },
    {
     "data": {
      "image/png": "[encoded data removed]",
      "text/plain": [
       "<Figure size 200x200 with 1 Axes>"
      ]
     },
     "metadata": {},
     "output_type": "display_data"
    }
   ],
   "source": [
    "# Create a pivot table to capture the payment methods used along prices\n",
    "age_payment_method_combined = copy_dev_df.pivot_table(index='price', columns='payment_method', aggfunc='count')['age']\n",
    "# Plot the table\n",
    "age_payment_method_combined.plot.line()"
   ]
  },
  {
   "cell_type": "code",
   "execution_count": 182,
   "id": "ac9fa90d-f9bf-4284-8f1e-25dbdd00be8b",
   "metadata": {},
   "outputs": [],
   "source": [
    "copy_dev_df = copy_dev_df[copy_dev_df['price'] <= 3250]"
   ]
  },
  {
   "cell_type": "markdown",
   "id": "c1de7797-0403-4e5e-9f12-83d3891c07fa",
   "metadata": {},
   "source": [
    "<p>\n",
    "    Now the chart looks better, since it focuses more on the price range that is representative. From this we observed some steep drops, that still havent been addressed.\n",
    "</p>"
   ]
  },
  {
   "cell_type": "code",
   "execution_count": 183,
   "id": "e4837075-0ee8-423d-8b3c-5d29ef12c14c",
   "metadata": {},
   "outputs": [
    {
     "data": {
      "text/plain": [
       "<Axes: xlabel='price'>"
      ]
     },
     "execution_count": 183,
     "metadata": {},
     "output_type": "execute_result"
    },
    {
     "data": {
      "image/png": "[encoded data removed]",
      "text/plain": [
       "<Figure size 200x200 with 1 Axes>"
      ]
     },
     "metadata": {},
     "output_type": "display_data"
    }
   ],
   "source": [
    "# Create a pivot table to capture the payment methods used along prices\n",
    "age_payment_method_combined = copy_dev_df.pivot_table(index='price', columns='payment_method', aggfunc='count')['age']\n",
    "# Plot the table\n",
    "age_payment_method_combined.plot.line()"
   ]
  },
  {
   "cell_type": "markdown",
   "id": "cfc660be-412b-4b5a-b2f8-497b69723407",
   "metadata": {},
   "source": [
    "From this plot we can see the cause of the steep peeks and drops. The amount of the payment is not evenly distributed. "
   ]
  },
  {
   "cell_type": "code",
   "execution_count": 184,
   "id": "cbf2d045-577e-4b92-93e9-00851469134c",
   "metadata": {
    "tags": []
   },
   "outputs": [
    {
     "data": {
      "text/plain": [
       "<Axes: xlabel='price'>"
      ]
     },
     "execution_count": 184,
     "metadata": {},
     "output_type": "execute_result"
    },
    {
     "data": {
      "image/png": "[encoded data removed]",
      "text/plain": [
       "<Figure size 200x200 with 1 Axes>"
      ]
     },
     "metadata": {},
     "output_type": "display_data"
    }
   ],
   "source": [
    "price_count = copy_dev_df.groupby('price').count()['gender']\n",
    "price_count.plot.line(x = 'price', y = 'gender')"
   ]
  },
  {
   "cell_type": "markdown",
   "id": "fb99a5a2-36ea-4400-ab94-207b469619fc",
   "metadata": {},
   "source": [
    "<p>\n",
    "    We can observe that there is are many transactions at the beginning of the year, there is a peak in the summer (maybe this can be a period when there are more tourists in the city), but a low point around september. The peak at the beginning of the year is very interesting, because at the end of the year there isn't a climbing tendency that would assure continuity along the timeline.\n",
    "</p>"
   ]
  },
  {
   "cell_type": "code",
   "execution_count": 185,
   "id": "79610766-b6d8-4553-8d3b-b6c352f4ee08",
   "metadata": {
    "tags": []
   },
   "outputs": [
    {
     "data": {
      "text/plain": [
       "<Axes: xlabel='month', ylabel='count'>"
      ]
     },
     "execution_count": 185,
     "metadata": {},
     "output_type": "execute_result"
    },
    {
     "data": {
      "image/png": "[encoded data removed]",
      "text/plain": [
       "<Figure size 200x200 with 1 Axes>"
      ]
     },
     "metadata": {},
     "output_type": "display_data"
    }
   ],
   "source": [
    "sns.countplot(x = 'month',\n",
    "              data = copy_dev_df)"
   ]
  },
  {
   "cell_type": "markdown",
   "id": "487b5610-57fd-46d5-a7f4-3be7022717b6",
   "metadata": {},
   "source": [
    "<p>\n",
    "    It can be seen a small increase in correlation between the the payment method, specifically payments made by debit card and age, also the period of the year seems to be slightly more corellated with the payment method. Based on these observations we will make feature engineering.\n",
    "</p>"
   ]
  },
  {
   "cell_type": "code",
   "execution_count": 186,
   "id": "06feab12-06aa-4217-af08-a203ee031d44",
   "metadata": {},
   "outputs": [
    {
     "name": "stderr",
     "output_type": "stream",
     "text": [
      "/tmp/ipykernel_16992/723102843.py:1: FutureWarning: The default value of numeric_only in DataFrame.corr is deprecated. In a future version, it will default to False. Select only valid columns or specify the value of numeric_only to silence this warning.\n",
      "  corr_matrix = copy_dev_df.corr()\n"
     ]
    },
    {
     "data": {
      "text/plain": [
       "payment_method_cash      1.000000\n",
       "month                    0.005815\n",
       "age_cat_6                0.005776\n",
       "age_cat_1                0.002108\n",
       "price                    0.000776\n",
       "age_cat_2                0.000771\n",
       "age                      0.000729\n",
       "age_cat                  0.000152\n",
       "age_cat_5               -0.000480\n",
       "quantity                -0.000560\n",
       "year                    -0.001490\n",
       "age_cat_3               -0.001506\n",
       "age_cat_7               -0.001766\n",
       "age_cat_4               -0.005362\n",
       "payment_method_debit    -0.451953\n",
       "payment_method_credit   -0.661949\n",
       "payment_method                NaN\n",
       "Name: payment_method_cash, dtype: float64"
      ]
     },
     "execution_count": 186,
     "metadata": {},
     "output_type": "execute_result"
    }
   ],
   "source": [
    "corr_matrix = copy_dev_df.corr()\n",
    "corr_matrix['payment_method_cash'].sort_values(ascending=False)"
   ]
  },
  {
   "cell_type": "code",
   "execution_count": 187,
   "id": "aa85823e-7a07-47e1-9972-7e1847ed054c",
   "metadata": {
    "tags": []
   },
   "outputs": [
    {
     "data": {
      "text/plain": [
       "payment_method_credit    1.000000\n",
       "year                     0.004631\n",
       "age_cat_4                0.004353\n",
       "age_cat_7                0.003921\n",
       "quantity                 0.002525\n",
       "age                      0.000213\n",
       "age_cat_3                0.000207\n",
       "age_cat                  0.000124\n",
       "age_cat_1               -0.000180\n",
       "age_cat_2               -0.001116\n",
       "age_cat_5               -0.001728\n",
       "price                   -0.002030\n",
       "age_cat_6               -0.004422\n",
       "month                   -0.004644\n",
       "payment_method_debit    -0.369459\n",
       "payment_method_cash     -0.661949\n",
       "payment_method                NaN\n",
       "Name: payment_method_credit, dtype: float64"
      ]
     },
     "execution_count": 187,
     "metadata": {},
     "output_type": "execute_result"
    }
   ],
   "source": [
    "corr_matrix['payment_method_credit'].sort_values(ascending=False)"
   ]
  },
  {
   "cell_type": "code",
   "execution_count": 188,
   "id": "d60b1355-1f30-4baf-8890-7c74e04a61c2",
   "metadata": {
    "tags": []
   },
   "outputs": [
    {
     "data": {
      "text/plain": [
       "payment_method_debit     1.000000\n",
       "age_cat_5                0.002651\n",
       "age_cat_3                0.001621\n",
       "age_cat_4                0.001468\n",
       "price                    0.001454\n",
       "age_cat_2                0.000372\n",
       "age_cat                 -0.000336\n",
       "age                     -0.001158\n",
       "month                   -0.001682\n",
       "age_cat_6               -0.001898\n",
       "quantity                -0.002310\n",
       "age_cat_1               -0.002400\n",
       "age_cat_7               -0.002477\n",
       "year                    -0.003664\n",
       "payment_method_credit   -0.369459\n",
       "payment_method_cash     -0.451953\n",
       "payment_method                NaN\n",
       "Name: payment_method_debit, dtype: float64"
      ]
     },
     "execution_count": 188,
     "metadata": {},
     "output_type": "execute_result"
    }
   ],
   "source": [
    "corr_matrix['payment_method_debit'].sort_values(ascending=False)"
   ]
  },
  {
   "cell_type": "markdown",
   "id": "afe80c5b-bce5-4b63-8d16-318027cb7a49",
   "metadata": {},
   "source": [
    "<h3> Feature engineering</h3>"
   ]
  },
  {
   "cell_type": "code",
   "execution_count": 189,
   "id": "07ff5ab7-87f5-42f3-b771-7a315ac7285b",
   "metadata": {
    "tags": []
   },
   "outputs": [
    {
     "data": {
      "text/plain": [
       "Index(['gender', 'age', 'category', 'quantity', 'price', 'payment_method',\n",
       "       'invoice_date', 'shopping_mall', 'payment_method_cash',\n",
       "       'payment_method_credit', 'payment_method_debit', 'mall_category',\n",
       "       'age_cat_1', 'age_cat_2', 'age_cat_3', 'age_cat_4', 'age_cat_5',\n",
       "       'age_cat_6', 'age_cat_7', 'year', 'month', 'age_cat'],\n",
       "      dtype='object')"
      ]
     },
     "execution_count": 189,
     "metadata": {},
     "output_type": "execute_result"
    }
   ],
   "source": [
    "dev_df.describe()\n",
    "\n",
    "copy_dev_df.columns"
   ]
  },
  {
   "cell_type": "markdown",
   "id": "14710598-d5d3-423c-92aa-6a8d5ade4a4a",
   "metadata": {},
   "source": [
    "<h3> Data preprocessing </h3>"
   ]
  },
  {
   "cell_type": "code",
   "execution_count": 190,
   "id": "552b9a77-b7f4-4e7b-b5d0-bdf378ca6830",
   "metadata": {},
   "outputs": [],
   "source": [
    "numeric_features = ['quantity','price','age_cat_1','age_cat_2','age_cat_3','age_cat_4','age_cat_5','age_cat_6','age_cat_7', 'year', 'month', 'mall_category']\n",
    "nominal_features = ['gender','category']\n",
    "\n",
    "features = ['quantity','price','age_cat_1','age_cat_2','age_cat_3','age_cat_4','age_cat_5','age_cat_6','age_cat_7', 'year', 'month', 'mall_category','gender','category']\n",
    "target_value = ['payment_method']"
   ]
  },
  {
   "cell_type": "code",
   "execution_count": 191,
   "id": "89020b4d-2574-467a-b44a-6057962e9892",
   "metadata": {
    "tags": []
   },
   "outputs": [],
   "source": [
    "preprocessor = ColumnTransformer([\n",
    "    (\"num\", Pipeline([\n",
    "        (\"imputer\", SimpleImputer(missing_values=np.nan,strategy=\"mean\")),\n",
    "        (\"scaler\", StandardScaler())\n",
    "    ]), numeric_features),\n",
    "    (\"nom\", Pipeline([\n",
    "        (\"binarizer\", OneHotEncoder(handle_unknown=\"ignore\"))\n",
    "    ]), nominal_features)    \n",
    "], remainder = \"passthrough\")"
   ]
  },
  {
   "cell_type": "markdown",
   "id": "17553fc6-edd2-41ec-9356-a9a335936d02",
   "metadata": {},
   "source": [
    "<h3> Model building </h3>"
   ]
  },
  {
   "cell_type": "code",
   "execution_count": 192,
   "id": "7c1b2561-fe62-47ab-b2b7-bd6df7ff6016",
   "metadata": {
    "tags": []
   },
   "outputs": [],
   "source": [
    "# Separate the features from the target value\n",
    "dev_X = copy_dev_df[features]\n",
    "test_X =  test_df[features]\n",
    "\n",
    "dev_y = copy_dev_df[target_value].values\n",
    "test_y = test_df['payment_method'].values\n",
    "\n",
    "# Create a splitter that splits the data into training set (60% of the original) and validation set (20% of the original)\n",
    "splitter = ShuffleSplit(n_splits = 1, train_size = 0.75, random_state = 2) "
   ]
  },
  {
   "cell_type": "code",
   "execution_count": 196,
   "id": "98cbd5f7-0b0d-4b3c-9bda-b3b136e8f288",
   "metadata": {
    "tags": []
   },
   "outputs": [
    {
     "data": {
      "text/plain": [
       "({'predictor__max_depth': 1, 'predictor__n_estimators': 1}, 0.0)"
      ]
     },
     "execution_count": 196,
     "metadata": {},
     "output_type": "execute_result"
    }
   ],
   "source": [
    "# Make a pipeline that contains the preprocessor and the regressor\n",
    "rf = Pipeline([\n",
    "    (\"preprocessor\",preprocessor),\n",
    "    (\"predictor\",RandomForestClassifier(random_state=42))\n",
    "])\n",
    "\n",
    "# Give the possible values to the hyperparameter n (no. of neighbors)\n",
    "rf_params = {\"predictor__n_estimators\": [1,5,100, 200, 500],\n",
    "             \"predictor__max_depth\": [1,5,10,20]}\n",
    "# I could not include my feature because it caused an error, so I just left it on false\n",
    "\n",
    "# Create a GridSearch to find the best value for the hyperparameter using the two sets \n",
    "# of data (training and validation) given by the splitter\n",
    "rf_gs = GridSearchCV(rf, rf_params, scoring=\"neg_mean_absolute_error\", cv=splitter, refit=True)\n",
    "\n",
    "# Run the grid search\n",
    "rf_gs.fit(dev_X, dev_y.ravel())\n",
    "\n",
    "# Display the result\n",
    "rf_gs.best_params_, rf_gs.best_score_"
   ]
  },
  {
   "cell_type": "code",
   "execution_count": 209,
   "id": "1da65e6f-331c-4af6-a109-2e9f20663871",
   "metadata": {
    "tags": []
   },
   "outputs": [
    {
     "ename": "AttributeError",
     "evalue": "'Pipeline' object has no attribute 'tree_'",
     "output_type": "error",
     "traceback": [
      "\u001b[0;31m---------------------------------------------------------------------------\u001b[0m",
      "\u001b[0;31mAttributeError\u001b[0m                            Traceback (most recent call last)",
      "Cell \u001b[0;32mIn[209], line 11\u001b[0m\n\u001b[1;32m      7\u001b[0m rf\u001b[38;5;241m.\u001b[39mfit(dev_X, dev_y\u001b[38;5;241m.\u001b[39mravel())\n\u001b[1;32m      9\u001b[0m \u001b[38;5;28;01mfrom\u001b[39;00m \u001b[38;5;21;01msklearn\u001b[39;00m\u001b[38;5;21;01m.\u001b[39;00m\u001b[38;5;21;01mtree\u001b[39;00m \u001b[38;5;28;01mimport\u001b[39;00m export_text\n\u001b[0;32m---> 11\u001b[0m r \u001b[38;5;241m=\u001b[39m \u001b[43mexport_text\u001b[49m\u001b[43m(\u001b[49m\u001b[43mrf\u001b[49m\u001b[43m,\u001b[49m\u001b[43m \u001b[49m\u001b[43mfeature_names\u001b[49m\u001b[43m \u001b[49m\u001b[38;5;241;43m=\u001b[39;49m\u001b[43m \u001b[49m\u001b[43mfeatures\u001b[49m\u001b[43m)\u001b[49m\n\u001b[1;32m     12\u001b[0m \u001b[38;5;28mprint\u001b[39m(r)\n",
      "File \u001b[0;32m~/.local/lib/python3.10/site-packages/sklearn/tree/_export.py:987\u001b[0m, in \u001b[0;36mexport_text\u001b[0;34m(decision_tree, feature_names, max_depth, spacing, decimals, show_weights)\u001b[0m\n\u001b[1;32m    931\u001b[0m \u001b[38;5;250m\u001b[39m\u001b[38;5;124;03m\"\"\"Build a text report showing the rules of a decision tree.\u001b[39;00m\n\u001b[1;32m    932\u001b[0m \n\u001b[1;32m    933\u001b[0m \u001b[38;5;124;03mNote that backwards compatibility may not be supported.\u001b[39;00m\n\u001b[0;32m   (...)\u001b[0m\n\u001b[1;32m    984\u001b[0m \u001b[38;5;124;03m|   |   |--- class: 2\u001b[39;00m\n\u001b[1;32m    985\u001b[0m \u001b[38;5;124;03m\"\"\"\u001b[39;00m\n\u001b[1;32m    986\u001b[0m check_is_fitted(decision_tree)\n\u001b[0;32m--> 987\u001b[0m tree_ \u001b[38;5;241m=\u001b[39m \u001b[43mdecision_tree\u001b[49m\u001b[38;5;241;43m.\u001b[39;49m\u001b[43mtree_\u001b[49m\n\u001b[1;32m    988\u001b[0m \u001b[38;5;28;01mif\u001b[39;00m is_classifier(decision_tree):\n\u001b[1;32m    989\u001b[0m     class_names \u001b[38;5;241m=\u001b[39m decision_tree\u001b[38;5;241m.\u001b[39mclasses_\n",
      "\u001b[0;31mAttributeError\u001b[0m: 'Pipeline' object has no attribute 'tree_'"
     ]
    }
   ],
   "source": [
    "rf = Pipeline([\n",
    "    (\"preprocessor\",preprocessor),\n",
    "    (\"predictor\",DecisionTreeClassifier(random_state=42))\n",
    "])\n",
    "\n",
    "# Run the grid search\n",
    "rf.fit(dev_X, dev_y.ravel())\n",
    "\n",
    "from sklearn.tree import export_text\n",
    "\n",
    "r = export_text(rf, feature_names = features)\n",
    "print(r)"
   ]
  },
  {
   "cell_type": "markdown",
   "id": "5bd6d959-9e58-474f-83a0-1ae1fc20e87c",
   "metadata": {},
   "source": [
    "<h3> Checking on the test set </h3>"
   ]
  },
  {
   "cell_type": "code",
   "execution_count": null,
   "id": "cbebb238-845f-43d9-8733-36e3eb274d4f",
   "metadata": {},
   "outputs": [],
   "source": []
  },
  {
   "cell_type": "code",
   "execution_count": null,
   "id": "8f8bfb9b-4d3a-4995-9bf8-6fff9796485e",
   "metadata": {},
   "outputs": [],
   "source": []
  },
  {
   "cell_type": "code",
   "execution_count": null,
   "id": "e947612a-83c2-4705-8e60-40ccaeded46e",
   "metadata": {},
   "outputs": [],
   "source": []
  },
  {
   "cell_type": "code",
   "execution_count": null,
   "id": "62a259e4-1a33-4dc6-9e1c-1e702ce199b2",
   "metadata": {},
   "outputs": [],
   "source": []
  },
  {
   "cell_type": "code",
   "execution_count": null,
   "id": "759522ff-0681-4832-a1a2-689dff7705ef",
   "metadata": {},
   "outputs": [],
   "source": []
  }
 ],
 "metadata": {
  "kernelspec": {
   "display_name": "Python 3 (ipykernel)",
   "language": "python",
   "name": "python3"
  },
  "language_info": {
   "codemirror_mode": {
    "name": "ipython",
    "version": 3
   },
   "file_extension": ".py",
   "mimetype": "text/x-python",
   "name": "python",
   "nbconvert_exporter": "python",
   "pygments_lexer": "ipython3",
   "version": "3.10.6"
  }
 },
 "nbformat": 4,
 "nbformat_minor": 5
}
