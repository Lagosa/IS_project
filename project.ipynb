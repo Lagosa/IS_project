{
 "cells": [
  {
   "cell_type": "markdown",
   "id": "c13630a2-c2a9-4047-9e04-af40080b69f2",
   "metadata": {},
   "source": [
    "<center><h1> Intelligent Systems </h1>\n",
    "    <h2> <b>Assignment #1</b> </h2>\n",
    "    <h3> Done by: Ghinea Cristian and Varga Zoltan </h3></center>"
   ]
  },
  {
   "cell_type": "markdown",
   "id": "4c4d106c-aca1-4700-8ec5-5302ead7bd93",
   "metadata": {
    "tags": []
   },
   "source": [
    "<h3> Abstract </h3>\n",
    "<p> We decided to examine a dataset which holds data about the shopping habits of citizens living in Istanbul. It holds data related to 10 shopping malls collected between 2021 and 2023. As the authors state it should provide a \"comprehensive view of shopping habits in Istanbul\".</p>\n",
    "<p> The model built by us is able to predict <i> the likelihood of someone paying by credit card, debit card or cash. </i></p>\n",
    "<p> <i>The dataset can be downloaded from here: <a href=\"https://www.kaggle.com/datasets/mehmettahiraslan/customer-shopping-dataset\"> click here </a></i><p>"
   ]
  },
  {
   "cell_type": "code",
   "execution_count": 89,
   "id": "17683b9b-79c7-4bc3-aa67-082ea696d807",
   "metadata": {
    "tags": []
   },
   "outputs": [],
   "source": [
    "# Start by including some essential libraries\n",
    "\n",
    "import pandas as pd\n",
    "import numpy as np\n",
    "import seaborn as sns\n",
    "\n",
    "\n",
    "from pandas.plotting import scatter_matrix\n",
    "from seaborn import scatterplot, heatmap\n",
    "import matplotlib.pyplot as plt\n",
    "\n",
    "from sklearn.model_selection import train_test_split\n",
    "\n",
    "from sklearn.compose import ColumnTransformer\n",
    "from sklearn.pipeline import Pipeline\n",
    "\n",
    "from sklearn.impute import SimpleImputer\n",
    "\n",
    "from sklearn.experimental import enable_iterative_imputer\n",
    "from sklearn.impute import KNNImputer\n",
    "from sklearn.impute import IterativeImputer\n",
    "\n",
    "\n",
    "from sklearn.preprocessing import StandardScaler\n",
    "from sklearn.preprocessing import MinMaxScaler\n",
    "from sklearn.preprocessing import RobustScaler\n",
    "\n",
    "from sklearn.preprocessing import OneHotEncoder\n",
    "\n",
    "from sklearn.base import BaseEstimator, TransformerMixin\n",
    "\n",
    "from sklearn.model_selection import ShuffleSplit\n",
    "\n",
    "from sklearn.linear_model import Ridge\n",
    "from sklearn.neighbors import KNeighborsRegressor\n",
    "from sklearn.linear_model import LinearRegression\n",
    "\n",
    "from sklearn.model_selection import GridSearchCV\n",
    "from sklearn.model_selection import cross_validate\n",
    "\n",
    "from sklearn.metrics import mean_absolute_error\n",
    "from sklearn.ensemble import RandomForestClassifier\n",
    "\n",
    "from sklearn.tree import DecisionTreeClassifier\n",
    "from sklearn import tree"
   ]
  },
  {
   "cell_type": "code",
   "execution_count": 90,
   "id": "d58577fb-ff43-4cde-b71d-c6c8dbcc307e",
   "metadata": {
    "tags": []
   },
   "outputs": [],
   "source": [
    "# read the dataset\n",
    "df = pd.read_csv(\"./dataset/customer_shopping_data.csv\")"
   ]
  },
  {
   "cell_type": "markdown",
   "id": "e66b06b1-d2b1-4114-bdbc-fff8c2f0d35d",
   "metadata": {
    "tags": []
   },
   "source": [
    "<h3> Start by taking a look at our data </h3>"
   ]
  },
  {
   "cell_type": "markdown",
   "id": "afdec3a7-b6e9-4c1a-97e2-318584ba55e0",
   "metadata": {},
   "source": [
    "<p> \n",
    "    Here we can se that the types of the columns are as expected. This fact predicts us that there is no garbage (at least no mix of types within the columns).\n",
    "</p>"
   ]
  },
  {
   "cell_type": "code",
   "execution_count": 91,
   "id": "227d1f93-7210-46b1-9760-4ff2026de63f",
   "metadata": {
    "tags": []
   },
   "outputs": [
    {
     "data": {
      "text/plain": [
       "Index(['invoice_no', 'customer_id', 'gender', 'age', 'category', 'quantity',\n",
       "       'price', 'payment_method', 'invoice_date', 'shopping_mall'],\n",
       "      dtype='object')"
      ]
     },
     "execution_count": 91,
     "metadata": {},
     "output_type": "execute_result"
    }
   ],
   "source": [
    "df.columns"
   ]
  },
  {
   "cell_type": "code",
   "execution_count": 92,
   "id": "78da05dd-0001-4b8b-b842-55e341d1bf08",
   "metadata": {
    "tags": []
   },
   "outputs": [
    {
     "data": {
      "text/plain": [
       "invoice_no         object\n",
       "customer_id        object\n",
       "gender             object\n",
       "age                 int64\n",
       "category           object\n",
       "quantity            int64\n",
       "price             float64\n",
       "payment_method     object\n",
       "invoice_date       object\n",
       "shopping_mall      object\n",
       "dtype: object"
      ]
     },
     "execution_count": 92,
     "metadata": {},
     "output_type": "execute_result"
    }
   ],
   "source": [
    "df.dtypes"
   ]
  },
  {
   "cell_type": "markdown",
   "id": "97cb8f60-eb5f-4e16-bb37-e13080c814f9",
   "metadata": {},
   "source": [
    "<p>\n",
    "    This description gives us a better insight. The first two columns seem to be unique identifiers of the rows as there are as many unique values there as rows. The first decision of ours will be to delete these two columns because unique identifiers don't hold meaningful information.\n",
    "</p>\n",
    "<p>\n",
    "    Going further, the remaining columns seem to have correct data, without any noise. We must mention that the age is neatly distributed, which is promising as this can be an important predictor.\n",
    "</p>"
   ]
  },
  {
   "cell_type": "code",
   "execution_count": 93,
   "id": "ad782b04-369a-49bd-8342-f4f4ddedbc9a",
   "metadata": {
    "tags": []
   },
   "outputs": [
    {
     "data": {
      "text/html": [
       "<div>\n",
       "<style scoped>\n",
       "    .dataframe tbody tr th:only-of-type {\n",
       "        vertical-align: middle;\n",
       "    }\n",
       "\n",
       "    .dataframe tbody tr th {\n",
       "        vertical-align: top;\n",
       "    }\n",
       "\n",
       "    .dataframe thead th {\n",
       "        text-align: right;\n",
       "    }\n",
       "</style>\n",
       "<table border=\"1\" class=\"dataframe\">\n",
       "  <thead>\n",
       "    <tr style=\"text-align: right;\">\n",
       "      <th></th>\n",
       "      <th>invoice_no</th>\n",
       "      <th>customer_id</th>\n",
       "      <th>gender</th>\n",
       "      <th>age</th>\n",
       "      <th>category</th>\n",
       "      <th>quantity</th>\n",
       "      <th>price</th>\n",
       "      <th>payment_method</th>\n",
       "      <th>invoice_date</th>\n",
       "      <th>shopping_mall</th>\n",
       "    </tr>\n",
       "  </thead>\n",
       "  <tbody>\n",
       "    <tr>\n",
       "      <th>count</th>\n",
       "      <td>99457</td>\n",
       "      <td>99457</td>\n",
       "      <td>99457</td>\n",
       "      <td>99457.000000</td>\n",
       "      <td>99457</td>\n",
       "      <td>99457.000000</td>\n",
       "      <td>99457.000000</td>\n",
       "      <td>99457</td>\n",
       "      <td>99457</td>\n",
       "      <td>99457</td>\n",
       "    </tr>\n",
       "    <tr>\n",
       "      <th>unique</th>\n",
       "      <td>99457</td>\n",
       "      <td>99457</td>\n",
       "      <td>2</td>\n",
       "      <td>NaN</td>\n",
       "      <td>8</td>\n",
       "      <td>NaN</td>\n",
       "      <td>NaN</td>\n",
       "      <td>3</td>\n",
       "      <td>797</td>\n",
       "      <td>10</td>\n",
       "    </tr>\n",
       "    <tr>\n",
       "      <th>top</th>\n",
       "      <td>I138884</td>\n",
       "      <td>C241288</td>\n",
       "      <td>Female</td>\n",
       "      <td>NaN</td>\n",
       "      <td>Clothing</td>\n",
       "      <td>NaN</td>\n",
       "      <td>NaN</td>\n",
       "      <td>Cash</td>\n",
       "      <td>24/11/2021</td>\n",
       "      <td>Mall of Istanbul</td>\n",
       "    </tr>\n",
       "    <tr>\n",
       "      <th>freq</th>\n",
       "      <td>1</td>\n",
       "      <td>1</td>\n",
       "      <td>59482</td>\n",
       "      <td>NaN</td>\n",
       "      <td>34487</td>\n",
       "      <td>NaN</td>\n",
       "      <td>NaN</td>\n",
       "      <td>44447</td>\n",
       "      <td>159</td>\n",
       "      <td>19943</td>\n",
       "    </tr>\n",
       "    <tr>\n",
       "      <th>mean</th>\n",
       "      <td>NaN</td>\n",
       "      <td>NaN</td>\n",
       "      <td>NaN</td>\n",
       "      <td>43.427089</td>\n",
       "      <td>NaN</td>\n",
       "      <td>3.003429</td>\n",
       "      <td>689.256321</td>\n",
       "      <td>NaN</td>\n",
       "      <td>NaN</td>\n",
       "      <td>NaN</td>\n",
       "    </tr>\n",
       "    <tr>\n",
       "      <th>std</th>\n",
       "      <td>NaN</td>\n",
       "      <td>NaN</td>\n",
       "      <td>NaN</td>\n",
       "      <td>14.990054</td>\n",
       "      <td>NaN</td>\n",
       "      <td>1.413025</td>\n",
       "      <td>941.184567</td>\n",
       "      <td>NaN</td>\n",
       "      <td>NaN</td>\n",
       "      <td>NaN</td>\n",
       "    </tr>\n",
       "    <tr>\n",
       "      <th>min</th>\n",
       "      <td>NaN</td>\n",
       "      <td>NaN</td>\n",
       "      <td>NaN</td>\n",
       "      <td>18.000000</td>\n",
       "      <td>NaN</td>\n",
       "      <td>1.000000</td>\n",
       "      <td>5.230000</td>\n",
       "      <td>NaN</td>\n",
       "      <td>NaN</td>\n",
       "      <td>NaN</td>\n",
       "    </tr>\n",
       "    <tr>\n",
       "      <th>25%</th>\n",
       "      <td>NaN</td>\n",
       "      <td>NaN</td>\n",
       "      <td>NaN</td>\n",
       "      <td>30.000000</td>\n",
       "      <td>NaN</td>\n",
       "      <td>2.000000</td>\n",
       "      <td>45.450000</td>\n",
       "      <td>NaN</td>\n",
       "      <td>NaN</td>\n",
       "      <td>NaN</td>\n",
       "    </tr>\n",
       "    <tr>\n",
       "      <th>50%</th>\n",
       "      <td>NaN</td>\n",
       "      <td>NaN</td>\n",
       "      <td>NaN</td>\n",
       "      <td>43.000000</td>\n",
       "      <td>NaN</td>\n",
       "      <td>3.000000</td>\n",
       "      <td>203.300000</td>\n",
       "      <td>NaN</td>\n",
       "      <td>NaN</td>\n",
       "      <td>NaN</td>\n",
       "    </tr>\n",
       "    <tr>\n",
       "      <th>75%</th>\n",
       "      <td>NaN</td>\n",
       "      <td>NaN</td>\n",
       "      <td>NaN</td>\n",
       "      <td>56.000000</td>\n",
       "      <td>NaN</td>\n",
       "      <td>4.000000</td>\n",
       "      <td>1200.320000</td>\n",
       "      <td>NaN</td>\n",
       "      <td>NaN</td>\n",
       "      <td>NaN</td>\n",
       "    </tr>\n",
       "    <tr>\n",
       "      <th>max</th>\n",
       "      <td>NaN</td>\n",
       "      <td>NaN</td>\n",
       "      <td>NaN</td>\n",
       "      <td>69.000000</td>\n",
       "      <td>NaN</td>\n",
       "      <td>5.000000</td>\n",
       "      <td>5250.000000</td>\n",
       "      <td>NaN</td>\n",
       "      <td>NaN</td>\n",
       "      <td>NaN</td>\n",
       "    </tr>\n",
       "  </tbody>\n",
       "</table>\n",
       "</div>"
      ],
      "text/plain": [
       "       invoice_no customer_id  gender           age  category      quantity  \\\n",
       "count       99457       99457   99457  99457.000000     99457  99457.000000   \n",
       "unique      99457       99457       2           NaN         8           NaN   \n",
       "top       I138884     C241288  Female           NaN  Clothing           NaN   \n",
       "freq            1           1   59482           NaN     34487           NaN   \n",
       "mean          NaN         NaN     NaN     43.427089       NaN      3.003429   \n",
       "std           NaN         NaN     NaN     14.990054       NaN      1.413025   \n",
       "min           NaN         NaN     NaN     18.000000       NaN      1.000000   \n",
       "25%           NaN         NaN     NaN     30.000000       NaN      2.000000   \n",
       "50%           NaN         NaN     NaN     43.000000       NaN      3.000000   \n",
       "75%           NaN         NaN     NaN     56.000000       NaN      4.000000   \n",
       "max           NaN         NaN     NaN     69.000000       NaN      5.000000   \n",
       "\n",
       "               price payment_method invoice_date     shopping_mall  \n",
       "count   99457.000000          99457        99457             99457  \n",
       "unique           NaN              3          797                10  \n",
       "top              NaN           Cash   24/11/2021  Mall of Istanbul  \n",
       "freq             NaN          44447          159             19943  \n",
       "mean      689.256321            NaN          NaN               NaN  \n",
       "std       941.184567            NaN          NaN               NaN  \n",
       "min         5.230000            NaN          NaN               NaN  \n",
       "25%        45.450000            NaN          NaN               NaN  \n",
       "50%       203.300000            NaN          NaN               NaN  \n",
       "75%      1200.320000            NaN          NaN               NaN  \n",
       "max      5250.000000            NaN          NaN               NaN  "
      ]
     },
     "execution_count": 93,
     "metadata": {},
     "output_type": "execute_result"
    }
   ],
   "source": [
    "df.describe(include=\"all\")"
   ]
  },
  {
   "cell_type": "code",
   "execution_count": 94,
   "id": "ba65b79a-a163-4d8d-912a-8ef4cd9deb78",
   "metadata": {
    "tags": []
   },
   "outputs": [],
   "source": [
    "# delete the columns containing unique identifiers\n",
    "df = df[['gender','age','category','quantity','price','payment_method','invoice_date','shopping_mall']]"
   ]
  },
  {
   "cell_type": "code",
   "execution_count": 95,
   "id": "64198f62-f324-462d-ac37-8c61d1e838ed",
   "metadata": {
    "tags": []
   },
   "outputs": [
    {
     "data": {
      "text/plain": [
       "array(['Clothing', 'Shoes', 'Books', 'Cosmetics', 'Food & Beverage',\n",
       "       'Toys', 'Technology', 'Souvenir'], dtype=object)"
      ]
     },
     "execution_count": 95,
     "metadata": {},
     "output_type": "execute_result"
    }
   ],
   "source": [
    "# check what categories we have\n",
    "df['category'].unique()"
   ]
  },
  {
   "cell_type": "markdown",
   "id": "682ec4cf-fa15-4344-bfad-fa32e2050f0e",
   "metadata": {},
   "source": [
    "<p>\n",
    "    We decided to encode the categories, however we might use one-hot encoding in the future.\n",
    "</p>"
   ]
  },
  {
   "cell_type": "code",
   "execution_count": 96,
   "id": "18c4b622-f162-4000-bbc7-69d400428460",
   "metadata": {
    "tags": []
   },
   "outputs": [],
   "source": [
    "# df['category_num'] = 0\n",
    "# df.loc[df['category'] == 'Clothing', 'category_num'] = 0\n",
    "# df.loc[df['category'] == 'Shoes', 'category_num'] = 1\n",
    "# df.loc[df['category'] == 'Books', 'category_num'] = 2\n",
    "# df.loc[df['category'] == 'Cosmetics', 'category_num'] = 3\n",
    "# df.loc[df['category'] == 'Food & Beverage', 'category_num'] = 4\n",
    "# df.loc[df['category'] == 'Toys', 'category_num'] = 5\n",
    "# df.loc[df['category'] == 'Technology', 'category_num'] = 6\n",
    "# df.loc[df['category'] == 'Souvenir', 'category_num'] = 7"
   ]
  },
  {
   "cell_type": "code",
   "execution_count": 97,
   "id": "6e084ee6-e6c3-4fd6-9f05-ee692835f379",
   "metadata": {
    "tags": []
   },
   "outputs": [
    {
     "data": {
      "text/plain": [
       "array(['Credit Card', 'Debit Card', 'Cash'], dtype=object)"
      ]
     },
     "execution_count": 97,
     "metadata": {},
     "output_type": "execute_result"
    }
   ],
   "source": [
    "# check the payment methods\n",
    "df['payment_method'].unique()"
   ]
  },
  {
   "cell_type": "code",
   "execution_count": 98,
   "id": "02cbace7-fe82-482d-a03a-0a3758977910",
   "metadata": {
    "tags": []
   },
   "outputs": [],
   "source": [
    "# one hot encode them here in order to have them on the scatter plot\n",
    "df['payment_method_cash'] = 0\n",
    "df['payment_method_credit'] = 0\n",
    "df['payment_method_debit'] = 0\n",
    "\n",
    "df.loc[df['payment_method'] == 'Credit Card', 'payment_method_credit'] = 1\n",
    "df.loc[df['payment_method'] == 'Debit Card', 'payment_method_debit'] = 1\n",
    "df.loc[df['payment_method'] == 'Cash', 'payment_method_cash'] = 1"
   ]
  },
  {
   "cell_type": "code",
   "execution_count": 99,
   "id": "cc0cc154-dbee-40f2-82b5-4b2e7a097e81",
   "metadata": {
    "tags": []
   },
   "outputs": [
    {
     "data": {
      "text/plain": [
       "array(['Kanyon', 'Forum Istanbul', 'Metrocity', 'Metropol AVM',\n",
       "       'Istinye Park', 'Mall of Istanbul', 'Emaar Square Mall',\n",
       "       'Cevahir AVM', 'Viaport Outlet', 'Zorlu Center'], dtype=object)"
      ]
     },
     "execution_count": 99,
     "metadata": {},
     "output_type": "execute_result"
    }
   ],
   "source": [
    "df['shopping_mall'].unique()"
   ]
  },
  {
   "cell_type": "markdown",
   "id": "45d86c4a-31b8-4fb2-b1e4-77ad5bdc46bd",
   "metadata": {},
   "source": [
    "<p>\n",
    "    As the names of the malls didn't provide us with any information, we opted to categorize them into two groups: expensive (1) and affordable (0) malls. We conducted research online to distinguish between the two.\n",
    "</p>"
   ]
  },
  {
   "cell_type": "code",
   "execution_count": 100,
   "id": "f8f2c548-e61d-4eb2-8904-c9248e345049",
   "metadata": {
    "tags": []
   },
   "outputs": [],
   "source": [
    "df['mall_category'] = ''\n",
    "df.loc[df['shopping_mall'] == 'Kanyon','mall_category'] = 1\n",
    "df.loc[df['shopping_mall'] == 'Forum Istanbul','mall_category'] = 1\n",
    "df.loc[df['shopping_mall'] == 'Metrocity','mall_category'] = 1\n",
    "df.loc[df['shopping_mall'] == 'Metropol AVM','mall_category'] = 0\n",
    "df.loc[df['shopping_mall'] == 'Istinye Park','mall_category'] = 1\n",
    "df.loc[df['shopping_mall'] == 'Mall of Istanbul','mall_category'] = 0\n",
    "df.loc[df['shopping_mall'] == 'Emaar Square Mall','mall_category'] = 1\n",
    "df.loc[df['shopping_mall'] == 'Cevahir AVM','mall_category'] = 0\n",
    "df.loc[df['shopping_mall'] == 'Viaport Outlet','mall_category'] = 0\n",
    "df.loc[df['shopping_mall'] == 'Zorlu Center','mall_category'] = 1"
   ]
  },
  {
   "cell_type": "code",
   "execution_count": 101,
   "id": "db21d397-9f3e-4549-8e6f-b7c94417661b",
   "metadata": {
    "tags": []
   },
   "outputs": [],
   "source": [
    "# df['gender_num'] = 0\n",
    "# df.loc[df['gender'] == 'Male', 'gender_num'] = 1"
   ]
  },
  {
   "cell_type": "code",
   "execution_count": 102,
   "id": "9426e009-6eb1-47f3-93da-b7c275d97f84",
   "metadata": {
    "tags": []
   },
   "outputs": [],
   "source": [
    "# categorise the years as the prefference of using debit/credit card or cash does not change over 1 year, but over a generation\n",
    "# we grouped them in 8 year intervals\n",
    "\n",
    "df['age_cat_1'] = 0\n",
    "df['age_cat_2'] = 0\n",
    "df['age_cat_3'] = 0\n",
    "df['age_cat_4'] = 0\n",
    "df['age_cat_5'] = 0\n",
    "df['age_cat_6'] = 0\n",
    "df['age_cat_7'] = 0\n",
    "\n",
    "df.loc[df['age'].between(18,25), 'age_cat_1'] = 1\n",
    "df.loc[df['age'].between(26,33), 'age_cat_2'] = 1\n",
    "df.loc[df['age'].between(34,41), 'age_cat_3'] = 1\n",
    "df.loc[df['age'].between(42,49), 'age_cat_4'] = 1\n",
    "df.loc[df['age'].between(50,57), 'age_cat_5'] = 1\n",
    "df.loc[df['age'].between(58,65), 'age_cat_6'] = 1\n",
    "df.loc[df['age'].between(66,73), 'age_cat_7'] = 1"
   ]
  },
  {
   "cell_type": "markdown",
   "id": "9d8c529c-45cb-4e0d-abda-018cd10b8d06",
   "metadata": {},
   "source": [
    "<p> \n",
    "    We extracted only the year and the month of the payment, as the day is not relevant. By the month maybe we can observe some patterns regarding high-sale periods such as holidays. At first we wanted to remove the year as well, but we quickly changed our minds as the preference for paying with card over cash drastically changed during the pandemic, and the dataset captures this period.\n",
    "</p>"
   ]
  },
  {
   "cell_type": "code",
   "execution_count": 103,
   "id": "99d27fe9-e619-4d3f-93e2-ada77c01578b",
   "metadata": {
    "tags": []
   },
   "outputs": [],
   "source": [
    "df['year'] = pd.to_datetime(df['invoice_date'],format='%d/%m/%Y').dt.year\n",
    "df['month'] = pd.to_datetime(df['invoice_date'],format='%d/%m/%Y').dt.month"
   ]
  },
  {
   "cell_type": "code",
   "execution_count": 104,
   "id": "8025a554-5850-496e-a626-31e0a389242b",
   "metadata": {
    "tags": []
   },
   "outputs": [
    {
     "data": {
      "text/plain": [
       "count    99457.000000\n",
       "mean       689.256321\n",
       "std        941.184567\n",
       "min          5.230000\n",
       "25%         45.450000\n",
       "50%        203.300000\n",
       "75%       1200.320000\n",
       "max       5250.000000\n",
       "Name: price, dtype: float64"
      ]
     },
     "execution_count": 104,
     "metadata": {},
     "output_type": "execute_result"
    }
   ],
   "source": [
    "df['price'].describe()"
   ]
  },
  {
   "cell_type": "code",
   "execution_count": 105,
   "id": "ecc0b513-1d92-4dcf-89db-79718afc2bcf",
   "metadata": {
    "tags": []
   },
   "outputs": [
    {
     "data": {
      "text/plain": [
       "array(['Credit Card', 'Debit Card', 'Cash'], dtype=object)"
      ]
     },
     "execution_count": 105,
     "metadata": {},
     "output_type": "execute_result"
    }
   ],
   "source": [
    "df['payment_method'].unique()"
   ]
  },
  {
   "cell_type": "code",
   "execution_count": 106,
   "id": "2e7f37b5-16cf-491c-92ec-b2892207dd45",
   "metadata": {
    "tags": []
   },
   "outputs": [
    {
     "data": {
      "text/plain": [
       "gender                    object\n",
       "age                        int64\n",
       "category                  object\n",
       "quantity                   int64\n",
       "price                    float64\n",
       "payment_method            object\n",
       "invoice_date              object\n",
       "shopping_mall             object\n",
       "payment_method_cash        int64\n",
       "payment_method_credit      int64\n",
       "payment_method_debit       int64\n",
       "mall_category             object\n",
       "age_cat_1                  int64\n",
       "age_cat_2                  int64\n",
       "age_cat_3                  int64\n",
       "age_cat_4                  int64\n",
       "age_cat_5                  int64\n",
       "age_cat_6                  int64\n",
       "age_cat_7                  int64\n",
       "year                       int64\n",
       "month                      int64\n",
       "payment_method_cat         int64\n",
       "dtype: object"
      ]
     },
     "execution_count": 106,
     "metadata": {},
     "output_type": "execute_result"
    }
   ],
   "source": [
    "# make the target value numerical\n",
    "df['payment_method_cat'] = 0\n",
    "df.loc[df['payment_method'] == 'Cash','payment_method_cat'] = 1\n",
    "df.loc[df['payment_method'] == 'Debit Card','payment_method_cat'] = 2\n",
    "df.loc[df['payment_method'] == 'Credit Card','payment_method_cat'] = 3\n",
    "\n",
    "df.dtypes"
   ]
  },
  {
   "cell_type": "markdown",
   "id": "9eb3c19b-2ce4-46d7-a2ec-f733d5537fdb",
   "metadata": {},
   "source": [
    "<h3> Separate the test set and the training set </h3>"
   ]
  },
  {
   "cell_type": "markdown",
   "id": "c1aa0e7e-0d92-430c-af82-9b4eefac2184",
   "metadata": {},
   "source": [
    "As in the followings we will dive deeper into the dataset we must lock the test set away. As we have plenty of data we can afford a 80% - 20% ratio between the size of the training and the test set."
   ]
  },
  {
   "cell_type": "code",
   "execution_count": 107,
   "id": "74051a45-132b-46dd-83ef-fbd71e60c31e",
   "metadata": {
    "tags": []
   },
   "outputs": [],
   "source": [
    "dev_df, test_df = train_test_split(df, train_size=0.8, random_state=2)"
   ]
  },
  {
   "cell_type": "markdown",
   "id": "9b3a4df4-ab28-4d42-8952-9de0de81af56",
   "metadata": {},
   "source": [
    "<h3> Data visualization </h3>"
   ]
  },
  {
   "cell_type": "markdown",
   "id": "5c704afa-6dbf-499f-b886-a996793a5a7c",
   "metadata": {},
   "source": [
    "We copied the training set in order not to modify them by chance. We made a scatter plot to visualize the eventual correlation between the columns. Unfortunately we have only a few columns that contain numerical values, so we couldn't draw a conclusion from these plots. But below we combined some features in graphs that we considered important."
   ]
  },
  {
   "cell_type": "code",
   "execution_count": 108,
   "id": "815cca4d-0576-485a-8d87-073c6b0fef6a",
   "metadata": {
    "tags": []
   },
   "outputs": [],
   "source": [
    "copy_dev_df = dev_df.copy()"
   ]
  },
  {
   "cell_type": "code",
   "execution_count": 109,
   "id": "e722ed72-2ca4-4203-94ef-b207c630bc4a",
   "metadata": {
    "tags": []
   },
   "outputs": [],
   "source": [
    "#m = scatter_matrix(copy_dev_df,figsize=(15,15))"
   ]
  },
  {
   "cell_type": "markdown",
   "id": "37bdb497-9f46-40f9-b8ff-d4e6f55bbebb",
   "metadata": {},
   "source": [
    "We suspected a high correlation between the age of a customer and the payment method it will use. So we tried to visualize these two. </p> <p> To our surprise there wasn't a high correlation between the age category and the payment method used. More specifically there is only a subtle change in the number of purchases where cash was used in the 4th and 5th category. This means that we cannot conclude that the young generation is more prone to using card than cash when making a payment."
   ]
  },
  {
   "cell_type": "code",
   "execution_count": 110,
   "id": "682e6816-f714-41c3-b40a-89bdccafbc18",
   "metadata": {
    "tags": []
   },
   "outputs": [
    {
     "data": {
      "text/plain": [
       "<Axes: xlabel='age_cat'>"
      ]
     },
     "execution_count": 110,
     "metadata": {},
     "output_type": "execute_result"
    },
    {
     "data": {
      "image/png": "[encoded data removed]",
      "text/plain": [
       "<Figure size 200x200 with 1 Axes>"
      ]
     },
     "metadata": {},
     "output_type": "display_data"
    }
   ],
   "source": [
    "# make the categories in one column, remove that column afterwards\n",
    "copy_dev_df['age_cat'] = 0\n",
    "copy_dev_df.loc[copy_dev_df['age'].between(18,25), 'age_cat'] = 1\n",
    "copy_dev_df.loc[copy_dev_df['age'].between(26,33), 'age_cat'] = 2\n",
    "copy_dev_df.loc[copy_dev_df['age'].between(34,41), 'age_cat'] = 3\n",
    "copy_dev_df.loc[copy_dev_df['age'].between(42,49), 'age_cat'] = 4\n",
    "copy_dev_df.loc[copy_dev_df['age'].between(50,57), 'age_cat'] = 5\n",
    "copy_dev_df.loc[copy_dev_df['age'].between(58,65), 'age_cat'] = 6\n",
    "copy_dev_df.loc[copy_dev_df['age'].between(66,73), 'age_cat'] = 7\n",
    "\n",
    "# Create a pivot table to capture the payment methods used for each age category\n",
    "age_payment_method_combined = copy_dev_df.pivot_table(index='age_cat', columns='payment_method', aggfunc='count')['age']\n",
    "# Plot the table\n",
    "age_payment_method_combined.plot.bar()"
   ]
  },
  {
   "cell_type": "markdown",
   "id": "041ca145-f8cb-4fea-857e-62a519e7d4cb",
   "metadata": {},
   "source": [
    "<p>The drop in the overall purchases in the 7th age category it is most probably due to the limited number of rows that are covering this age group. Also from the following plot one can see that there is an even distribution of the age groups.</p>"
   ]
  },
  {
   "cell_type": "code",
   "execution_count": 111,
   "id": "8c63c06f-3506-43a4-bd95-81bd54abc6c3",
   "metadata": {
    "tags": []
   },
   "outputs": [
    {
     "data": {
      "image/png": "[encoded data removed]",
      "text/plain": [
       "<Figure size 200x200 with 1 Axes>"
      ]
     },
     "metadata": {},
     "output_type": "display_data"
    }
   ],
   "source": [
    "copy_dev_df.sort_values(by='age_cat', ascending=True)\n",
    "sns.countplot(x = 'age_cat',\n",
    "              data = copy_dev_df)\n",
    "\n",
    "sns.set(rc={'figure.figsize':(2,2)})"
   ]
  },
  {
   "cell_type": "markdown",
   "id": "9ac934ff-9ceb-4694-97dd-73e43ae8b87f",
   "metadata": {},
   "source": [
    "<b>Sansele sa cumpere cineva cu card sunt mai mari in jurul sarbatorilor din iarna (black-friday -> Christmas). Diferenta dintre current date si mean of [BF, Xmas].?? major turkish celebrations??</b>"
   ]
  },
  {
   "cell_type": "markdown",
   "id": "6dcbecef-a278-46bf-8ea0-86c0f67b8814",
   "metadata": {},
   "source": [
    "We observed that there is a big difference between the number of cash payments and debit_card payments. We will tackle this issue by using a stratified k fold when splitting up the train and the validation sets. By this we will eliminate the chance of having just cash payments in one of the sets."
   ]
  },
  {
   "cell_type": "code",
   "execution_count": 112,
   "id": "292f27fa-9f84-482e-ba8f-3979af4ef819",
   "metadata": {
    "tags": []
   },
   "outputs": [
    {
     "data": {
      "text/plain": [
       "<Axes: xlabel='payment_method', ylabel='count'>"
      ]
     },
     "execution_count": 112,
     "metadata": {},
     "output_type": "execute_result"
    },
    {
     "data": {
      "image/png": "[encoded data removed]",
      "text/plain": [
       "<Figure size 200x200 with 1 Axes>"
      ]
     },
     "metadata": {},
     "output_type": "display_data"
    }
   ],
   "source": [
    "copy_dev_df.sort_values(by='payment_method', ascending=True)\n",
    "sns.countplot(x = 'payment_method', data = copy_dev_df)"
   ]
  },
  {
   "cell_type": "markdown",
   "id": "cfb27d60-72b2-4f5e-8a20-d588f61c6298",
   "metadata": {},
   "source": [
    "<p> \n",
    "    Next, we ploted the number number of payments made by all three payment methods along the price axis. From this we conluded that there are only a few payments above 3000. So we should remove the examples above 3000.\n",
    "</p>"
   ]
  },
  {
   "cell_type": "code",
   "execution_count": 113,
   "id": "4a4f73f9-3744-4450-96d6-79c2719d60b8",
   "metadata": {
    "tags": []
   },
   "outputs": [
    {
     "data": {
      "text/plain": [
       "<Axes: xlabel='price'>"
      ]
     },
     "execution_count": 113,
     "metadata": {},
     "output_type": "execute_result"
    },
    {
     "data": {
      "image/png": "[encoded data removed]",
      "text/plain": [
       "<Figure size 200x200 with 1 Axes>"
      ]
     },
     "metadata": {},
     "output_type": "display_data"
    }
   ],
   "source": [
    "# Create a pivot table to capture the payment methods used along prices\n",
    "age_payment_method_combined = copy_dev_df.pivot_table(index='price', columns='payment_method', aggfunc='count')['age']\n",
    "# Plot the table\n",
    "age_payment_method_combined.plot.line()"
   ]
  },
  {
   "cell_type": "code",
   "execution_count": 114,
   "id": "ac9fa90d-f9bf-4284-8f1e-25dbdd00be8b",
   "metadata": {},
   "outputs": [],
   "source": [
    "copy_dev_df = copy_dev_df[copy_dev_df['price'] <= 3250]"
   ]
  },
  {
   "cell_type": "markdown",
   "id": "c1de7797-0403-4e5e-9f12-83d3891c07fa",
   "metadata": {},
   "source": [
    "<p>\n",
    "    Now the chart looks better, since it focuses more on the price range that is representative. From this we observed some steep drops, that still havent been addressed.\n",
    "</p>"
   ]
  },
  {
   "cell_type": "code",
   "execution_count": 115,
   "id": "e4837075-0ee8-423d-8b3c-5d29ef12c14c",
   "metadata": {},
   "outputs": [
    {
     "data": {
      "text/plain": [
       "<Axes: xlabel='price'>"
      ]
     },
     "execution_count": 115,
     "metadata": {},
     "output_type": "execute_result"
    },
    {
     "data": {
      "image/png": "[encoded data removed]",
      "text/plain": [
       "<Figure size 200x200 with 1 Axes>"
      ]
     },
     "metadata": {},
     "output_type": "display_data"
    }
   ],
   "source": [
    "# Create a pivot table to capture the payment methods used along prices\n",
    "age_payment_method_combined = copy_dev_df.pivot_table(index='price', columns='payment_method', aggfunc='count')['age']\n",
    "# Plot the table\n",
    "age_payment_method_combined.plot.line()"
   ]
  },
  {
   "cell_type": "markdown",
   "id": "cfc660be-412b-4b5a-b2f8-497b69723407",
   "metadata": {},
   "source": [
    "From this plot we can see the cause of the steep peeks and drops. The amount of the payment is not evenly distributed. "
   ]
  },
  {
   "cell_type": "code",
   "execution_count": 116,
   "id": "cbf2d045-577e-4b92-93e9-00851469134c",
   "metadata": {
    "tags": []
   },
   "outputs": [
    {
     "data": {
      "text/plain": [
       "<Axes: xlabel='price'>"
      ]
     },
     "execution_count": 116,
     "metadata": {},
     "output_type": "execute_result"
    },
    {
     "data": {
      "image/png": "[encoded data removed]",
      "text/plain": [
       "<Figure size 200x200 with 1 Axes>"
      ]
     },
     "metadata": {},
     "output_type": "display_data"
    }
   ],
   "source": [
    "price_count = copy_dev_df.groupby('price').count()['gender']\n",
    "price_count.plot.line(x = 'price', y = 'gender')"
   ]
  },
  {
   "cell_type": "markdown",
   "id": "fb99a5a2-36ea-4400-ab94-207b469619fc",
   "metadata": {},
   "source": [
    "<p>\n",
    "    We can observe that there is are many transactions at the beginning of the year, there is a peak in the summer (maybe this can be a period when there are more tourists in the city), but a low point around september. The peak at the beginning of the year is very interesting, because at the end of the year there isn't a climbing tendency that would assure continuity along the timeline.\n",
    "</p>"
   ]
  },
  {
   "cell_type": "code",
   "execution_count": 117,
   "id": "79610766-b6d8-4553-8d3b-b6c352f4ee08",
   "metadata": {
    "tags": []
   },
   "outputs": [
    {
     "data": {
      "text/plain": [
       "<Axes: xlabel='month', ylabel='count'>"
      ]
     },
     "execution_count": 117,
     "metadata": {},
     "output_type": "execute_result"
    },
    {
     "data": {
      "image/png": "[encoded data removed]",
      "text/plain": [
       "<Figure size 200x200 with 1 Axes>"
      ]
     },
     "metadata": {},
     "output_type": "display_data"
    }
   ],
   "source": [
    "sns.countplot(x = 'month',\n",
    "              data = copy_dev_df)"
   ]
  },
  {
   "cell_type": "markdown",
   "id": "487b5610-57fd-46d5-a7f4-3be7022717b6",
   "metadata": {},
   "source": [
    "<p>\n",
    "    It can be seen a small increase in correlation between the the payment method, specifically payments made by debit card and age, also the period of the year seems to be slightly more corellated with the payment method. Based on these observations we will make feature engineering.\n",
    "</p>"
   ]
  },
  {
   "cell_type": "code",
   "execution_count": 118,
   "id": "06feab12-06aa-4217-af08-a203ee031d44",
   "metadata": {},
   "outputs": [
    {
     "name": "stderr",
     "output_type": "stream",
     "text": [
      "/tmp/ipykernel_6273/723102843.py:1: FutureWarning: The default value of numeric_only in DataFrame.corr is deprecated. In a future version, it will default to False. Select only valid columns or specify the value of numeric_only to silence this warning.\n",
      "  corr_matrix = copy_dev_df.corr()\n"
     ]
    },
    {
     "data": {
      "text/plain": [
       "payment_method_cash      1.000000\n",
       "month                    0.005815\n",
       "age_cat_6                0.005776\n",
       "age_cat_1                0.002108\n",
       "price                    0.000776\n",
       "age_cat_2                0.000771\n",
       "age                      0.000729\n",
       "age_cat                  0.000152\n",
       "age_cat_5               -0.000480\n",
       "quantity                -0.000560\n",
       "year                    -0.001490\n",
       "age_cat_3               -0.001506\n",
       "age_cat_7               -0.001766\n",
       "age_cat_4               -0.005362\n",
       "payment_method_debit    -0.451953\n",
       "payment_method_credit   -0.661949\n",
       "payment_method_cat      -0.915327\n",
       "Name: payment_method_cash, dtype: float64"
      ]
     },
     "execution_count": 118,
     "metadata": {},
     "output_type": "execute_result"
    }
   ],
   "source": [
    "corr_matrix = copy_dev_df.corr()\n",
    "corr_matrix['payment_method_cash'].sort_values(ascending=False)"
   ]
  },
  {
   "cell_type": "code",
   "execution_count": 119,
   "id": "aa85823e-7a07-47e1-9972-7e1847ed054c",
   "metadata": {
    "tags": []
   },
   "outputs": [
    {
     "data": {
      "text/plain": [
       "payment_method_credit    1.000000\n",
       "payment_method_cat       0.907752\n",
       "year                     0.004631\n",
       "age_cat_4                0.004353\n",
       "age_cat_7                0.003921\n",
       "quantity                 0.002525\n",
       "age                      0.000213\n",
       "age_cat_3                0.000207\n",
       "age_cat                  0.000124\n",
       "age_cat_1               -0.000180\n",
       "age_cat_2               -0.001116\n",
       "age_cat_5               -0.001728\n",
       "price                   -0.002030\n",
       "age_cat_6               -0.004422\n",
       "month                   -0.004644\n",
       "payment_method_debit    -0.369459\n",
       "payment_method_cash     -0.661949\n",
       "Name: payment_method_credit, dtype: float64"
      ]
     },
     "execution_count": 119,
     "metadata": {},
     "output_type": "execute_result"
    }
   ],
   "source": [
    "corr_matrix['payment_method_credit'].sort_values(ascending=False)"
   ]
  },
  {
   "cell_type": "code",
   "execution_count": 120,
   "id": "d60b1355-1f30-4baf-8890-7c74e04a61c2",
   "metadata": {
    "tags": []
   },
   "outputs": [
    {
     "data": {
      "text/plain": [
       "payment_method_debit     1.000000\n",
       "payment_method_cat       0.054449\n",
       "age_cat_5                0.002651\n",
       "age_cat_3                0.001621\n",
       "age_cat_4                0.001468\n",
       "price                    0.001454\n",
       "age_cat_2                0.000372\n",
       "age_cat                 -0.000336\n",
       "age                     -0.001158\n",
       "month                   -0.001682\n",
       "age_cat_6               -0.001898\n",
       "quantity                -0.002310\n",
       "age_cat_1               -0.002400\n",
       "age_cat_7               -0.002477\n",
       "year                    -0.003664\n",
       "payment_method_credit   -0.369459\n",
       "payment_method_cash     -0.451953\n",
       "Name: payment_method_debit, dtype: float64"
      ]
     },
     "execution_count": 120,
     "metadata": {},
     "output_type": "execute_result"
    }
   ],
   "source": [
    "corr_matrix['payment_method_debit'].sort_values(ascending=False)"
   ]
  },
  {
   "cell_type": "markdown",
   "id": "afe80c5b-bce5-4b63-8d16-318027cb7a49",
   "metadata": {},
   "source": [
    "<h3> Feature engineering</h3>"
   ]
  },
  {
   "cell_type": "code",
   "execution_count": 121,
   "id": "07ff5ab7-87f5-42f3-b771-7a315ac7285b",
   "metadata": {
    "tags": []
   },
   "outputs": [
    {
     "data": {
      "text/plain": [
       "Index(['gender', 'age', 'category', 'quantity', 'price', 'payment_method',\n",
       "       'invoice_date', 'shopping_mall', 'payment_method_cash',\n",
       "       'payment_method_credit', 'payment_method_debit', 'mall_category',\n",
       "       'age_cat_1', 'age_cat_2', 'age_cat_3', 'age_cat_4', 'age_cat_5',\n",
       "       'age_cat_6', 'age_cat_7', 'year', 'month', 'payment_method_cat',\n",
       "       'age_cat'],\n",
       "      dtype='object')"
      ]
     },
     "execution_count": 121,
     "metadata": {},
     "output_type": "execute_result"
    }
   ],
   "source": [
    "dev_df.describe()\n",
    "\n",
    "copy_dev_df.columns"
   ]
  },
  {
   "cell_type": "markdown",
   "id": "14710598-d5d3-423c-92aa-6a8d5ade4a4a",
   "metadata": {},
   "source": [
    "<h3> Data preprocessing </h3>"
   ]
  },
  {
   "cell_type": "code",
   "execution_count": 122,
   "id": "552b9a77-b7f4-4e7b-b5d0-bdf378ca6830",
   "metadata": {},
   "outputs": [],
   "source": [
    "numeric_features = ['quantity','price','age_cat_1','age_cat_2','age_cat_3','age_cat_4','age_cat_5','age_cat_6','age_cat_7', 'year', 'month', 'mall_category']\n",
    "nominal_features = ['gender','category']\n",
    "\n",
    "features = ['quantity','price','age_cat_1','age_cat_2','age_cat_3','age_cat_4','age_cat_5','age_cat_6','age_cat_7', 'year', 'month', 'mall_category','gender','category']\n",
    "target_value = ['payment_method']"
   ]
  },
  {
   "cell_type": "code",
   "execution_count": 123,
   "id": "89020b4d-2574-467a-b44a-6057962e9892",
   "metadata": {
    "tags": []
   },
   "outputs": [],
   "source": [
    "preprocessor = ColumnTransformer([\n",
    "    (\"num\", Pipeline([\n",
    "        (\"imputer\", SimpleImputer(missing_values=np.nan,strategy=\"mean\")),\n",
    "        (\"scaler\", StandardScaler())\n",
    "    ]), numeric_features),\n",
    "    (\"nom\", Pipeline([\n",
    "        (\"binarizer\", OneHotEncoder(handle_unknown=\"ignore\"))\n",
    "    ]), nominal_features)    \n",
    "], remainder = \"passthrough\")"
   ]
  },
  {
   "cell_type": "markdown",
   "id": "17553fc6-edd2-41ec-9356-a9a335936d02",
   "metadata": {},
   "source": [
    "<h3> Model building </h3>"
   ]
  },
  {
   "cell_type": "code",
   "execution_count": 127,
   "id": "7c1b2561-fe62-47ab-b2b7-bd6df7ff6016",
   "metadata": {
    "tags": []
   },
   "outputs": [
    {
     "data": {
      "text/plain": [
       "count    77984.000000\n",
       "mean         1.903685\n",
       "std          0.888423\n",
       "min          1.000000\n",
       "25%          1.000000\n",
       "50%          2.000000\n",
       "75%          3.000000\n",
       "max          3.000000\n",
       "Name: payment_method_cat, dtype: float64"
      ]
     },
     "execution_count": 127,
     "metadata": {},
     "output_type": "execute_result"
    }
   ],
   "source": [
    "# Separate the features from the target value\n",
    "dev_X = copy_dev_df[features]\n",
    "test_X =  test_df[features]\n",
    "\n",
    "dev_y = copy_dev_df['payment_method_cat'].values\n",
    "test_y = test_df['payment_method_cat'].values\n",
    "\n",
    "# Create a splitter that splits the data into training set (60% of the original) and validation set (20% of the original)\n",
    "splitter = ShuffleSplit(n_splits = 1, train_size = 0.75, random_state = 2) "
   ]
  },
  {
   "cell_type": "code",
   "execution_count": 144,
   "id": "98cbd5f7-0b0d-4b3c-9bda-b3b136e8f288",
   "metadata": {
    "tags": []
   },
   "outputs": [
    {
     "data": {
      "text/plain": [
       "({'predictor__max_depth': 20, 'predictor__n_estimators': 10},\n",
       " 0.3307634101262937)"
      ]
     },
     "execution_count": 144,
     "metadata": {},
     "output_type": "execute_result"
    }
   ],
   "source": [
    "# Make a pipeline that contains the preprocessor and the regressor\n",
    "rf = Pipeline([\n",
    "    (\"preprocessor\",preprocessor),\n",
    "    (\"predictor\",RandomForestClassifier(random_state=42, n_estimators=40,max_depth=5))\n",
    "])\n",
    "\n",
    "# Give the possible values to the hyperparameter n (no. of neighbors)\n",
    "rf_params = {\"predictor__n_estimators\": [10,40,75,100,],\n",
    "             \"predictor__max_depth\": [5,10,20]}\n",
    "\n",
    "# Create a GridSearch to find the best value for the hyperparameter using the two sets \n",
    "# of data (training and validation) given by the splitter\n",
    "rf_gs = GridSearchCV(rf, rf_params, scoring=\"f1_macro\", cv=splitter, refit=True)\n",
    "# rf.fit(dev_X,dev_y)\n",
    "# Run the grid search\n",
    "rf_gs.fit(dev_X, dev_y)\n",
    "\n",
    "# Display the result\n",
    "rf_gs.best_params_, rf_gs.best_score_"
   ]
  },
  {
   "cell_type": "code",
   "execution_count": 135,
   "id": "f8f0130b-7a08-4288-85dd-dc7f7127d308",
   "metadata": {
    "tags": []
   },
   "outputs": [
    {
     "data": {
      "text/plain": [
       "Index(['quantity', 'price', 'age_cat_1', 'age_cat_2', 'age_cat_3', 'age_cat_4',\n",
       "       'age_cat_5', 'age_cat_6', 'age_cat_7', 'year', 'month', 'mall_category',\n",
       "       'gender', 'category'],\n",
       "      dtype='object')"
      ]
     },
     "execution_count": 135,
     "metadata": {},
     "output_type": "execute_result"
    }
   ],
   "source": [
    "dev_X.columns"
   ]
  },
  {
   "cell_type": "code",
   "execution_count": 145,
   "id": "1da65e6f-331c-4af6-a109-2e9f20663871",
   "metadata": {
    "tags": []
   },
   "outputs": [
    {
     "data": {
      "image/svg+xml": [
       "<?xml version=\"1.0\" encoding=\"UTF-8\" standalone=\"no\"?>\n",
       "<!DOCTYPE svg PUBLIC \"-//W3C//DTD SVG 1.1//EN\"\n",
       " \"http://www.w3.org/Graphics/SVG/1.1/DTD/svg11.dtd\">\n",
       "<!-- Generated by graphviz version 2.43.0 (0)\n",
       " -->\n",
       "<!-- Title: Tree Pages: 1 -->\n",
       "<svg width=\"6202pt\" height=\"561pt\"\n",
       " viewBox=\"0.00 0.00 6202.00 561.00\" xmlns=\"http://www.w3.org/2000/svg\" xmlns:xlink=\"http://www.w3.org/1999/xlink\">\n",
       "<g id=\"graph0\" class=\"graph\" transform=\"scale(1 1) rotate(0) translate(4 557)\">\n",
       "<title>Tree</title>\n",
       "<polygon fill=\"white\" stroke=\"transparent\" points=\"-4,4 -4,-557 6198,-557 6198,4 -4,4\"/>\n",
       "<!-- 0 -->\n",
       "<g id=\"node1\" class=\"node\">\n",
       "<title>0</title>\n",
       "<path fill=\"#fbece2\" stroke=\"black\" d=\"M3698.5,-553C3698.5,-553 3483.5,-553 3483.5,-553 3477.5,-553 3471.5,-547 3471.5,-541 3471.5,-541 3471.5,-501 3471.5,-501 3471.5,-495 3477.5,-489 3483.5,-489 3483.5,-489 3698.5,-489 3698.5,-489 3704.5,-489 3710.5,-495 3710.5,-501 3710.5,-501 3710.5,-541 3710.5,-541 3710.5,-547 3704.5,-553 3698.5,-553\"/>\n",
       "<text text-anchor=\"start\" x=\"3556.5\" y=\"-538.8\" font-family=\"Helvetica,sans-Serif\" font-size=\"14.00\">x</text>\n",
       "<text text-anchor=\"start\" x=\"3565.5\" y=\"-538.8\" font-family=\"Helvetica,sans-Serif\" baseline-shift=\"sub\" font-size=\"14.00\">13</text>\n",
       "<text text-anchor=\"start\" x=\"3581.5\" y=\"-538.8\" font-family=\"Helvetica,sans-Serif\" font-size=\"14.00\"> ≤ 0.5</text>\n",
       "<text text-anchor=\"start\" x=\"3547\" y=\"-524.8\" font-family=\"Helvetica,sans-Serif\" font-size=\"14.00\">gini = 0.636</text>\n",
       "<text text-anchor=\"start\" x=\"3529\" y=\"-510.8\" font-family=\"Helvetica,sans-Serif\" font-size=\"14.00\">samples = 77984</text>\n",
       "<text text-anchor=\"start\" x=\"3479.5\" y=\"-496.8\" font-family=\"Helvetica,sans-Serif\" font-size=\"14.00\">value = [34893, 15709, 27382]</text>\n",
       "</g>\n",
       "<!-- 1 -->\n",
       "<g id=\"node2\" class=\"node\">\n",
       "<title>1</title>\n",
       "<path fill=\"#fbede3\" stroke=\"black\" d=\"M2660,-453C2660,-453 2454,-453 2454,-453 2448,-453 2442,-447 2442,-441 2442,-441 2442,-401 2442,-401 2442,-395 2448,-389 2454,-389 2454,-389 2660,-389 2660,-389 2666,-389 2672,-395 2672,-401 2672,-401 2672,-441 2672,-441 2672,-447 2666,-453 2660,-453\"/>\n",
       "<text text-anchor=\"start\" x=\"2522.5\" y=\"-438.8\" font-family=\"Helvetica,sans-Serif\" font-size=\"14.00\">x</text>\n",
       "<text text-anchor=\"start\" x=\"2531.5\" y=\"-438.8\" font-family=\"Helvetica,sans-Serif\" baseline-shift=\"sub\" font-size=\"14.00\">16</text>\n",
       "<text text-anchor=\"start\" x=\"2547.5\" y=\"-438.8\" font-family=\"Helvetica,sans-Serif\" font-size=\"14.00\"> ≤ 0.5</text>\n",
       "<text text-anchor=\"start\" x=\"2513\" y=\"-424.8\" font-family=\"Helvetica,sans-Serif\" font-size=\"14.00\">gini = 0.636</text>\n",
       "<text text-anchor=\"start\" x=\"2495\" y=\"-410.8\" font-family=\"Helvetica,sans-Serif\" font-size=\"14.00\">samples = 46611</text>\n",
       "<text text-anchor=\"start\" x=\"2450\" y=\"-396.8\" font-family=\"Helvetica,sans-Serif\" font-size=\"14.00\">value = [20777, 9329, 16505]</text>\n",
       "</g>\n",
       "<!-- 0&#45;&gt;1 -->\n",
       "<g id=\"edge1\" class=\"edge\">\n",
       "<title>0&#45;&gt;1</title>\n",
       "<path fill=\"none\" stroke=\"black\" d=\"M3471.38,-508.66C3274.29,-489.98 2883.19,-452.92 2682.39,-433.88\"/>\n",
       "<polygon fill=\"black\" stroke=\"black\" points=\"2682.67,-430.4 2672.39,-432.94 2682.01,-437.36 2682.67,-430.4\"/>\n",
       "<text text-anchor=\"middle\" x=\"2688.32\" y=\"-448.5\" font-family=\"Helvetica,sans-Serif\" font-size=\"14.00\">True</text>\n",
       "</g>\n",
       "<!-- 32 -->\n",
       "<g id=\"node33\" class=\"node\">\n",
       "<title>32</title>\n",
       "<path fill=\"#fbebe0\" stroke=\"black\" d=\"M3988,-453C3988,-453 3782,-453 3782,-453 3776,-453 3770,-447 3770,-441 3770,-441 3770,-401 3770,-401 3770,-395 3776,-389 3782,-389 3782,-389 3988,-389 3988,-389 3994,-389 4000,-395 4000,-401 4000,-401 4000,-441 4000,-441 4000,-447 3994,-453 3988,-453\"/>\n",
       "<text text-anchor=\"start\" x=\"3843\" y=\"-438.8\" font-family=\"Helvetica,sans-Serif\" font-size=\"14.00\">x</text>\n",
       "<text text-anchor=\"start\" x=\"3852\" y=\"-438.8\" font-family=\"Helvetica,sans-Serif\" baseline-shift=\"sub\" font-size=\"14.00\">9</text>\n",
       "<text text-anchor=\"start\" x=\"3860\" y=\"-438.8\" font-family=\"Helvetica,sans-Serif\" font-size=\"14.00\"> ≤ &#45;0.202</text>\n",
       "<text text-anchor=\"start\" x=\"3841\" y=\"-424.8\" font-family=\"Helvetica,sans-Serif\" font-size=\"14.00\">gini = 0.636</text>\n",
       "<text text-anchor=\"start\" x=\"3823\" y=\"-410.8\" font-family=\"Helvetica,sans-Serif\" font-size=\"14.00\">samples = 31373</text>\n",
       "<text text-anchor=\"start\" x=\"3778\" y=\"-396.8\" font-family=\"Helvetica,sans-Serif\" font-size=\"14.00\">value = [14116, 6380, 10877]</text>\n",
       "</g>\n",
       "<!-- 0&#45;&gt;32 -->\n",
       "<g id=\"edge32\" class=\"edge\">\n",
       "<title>0&#45;&gt;32</title>\n",
       "<path fill=\"none\" stroke=\"black\" d=\"M3684.02,-488.99C3715.2,-478.6 3750.14,-466.95 3782.03,-456.32\"/>\n",
       "<polygon fill=\"black\" stroke=\"black\" points=\"3783.45,-459.54 3791.83,-453.06 3781.23,-452.9 3783.45,-459.54\"/>\n",
       "<text text-anchor=\"middle\" x=\"3780.64\" y=\"-471.72\" font-family=\"Helvetica,sans-Serif\" font-size=\"14.00\">False</text>\n",
       "</g>\n",
       "<!-- 2 -->\n",
       "<g id=\"node3\" class=\"node\">\n",
       "<title>2</title>\n",
       "<path fill=\"#fbece2\" stroke=\"black\" d=\"M1373,-353C1373,-353 1167,-353 1167,-353 1161,-353 1155,-347 1155,-341 1155,-341 1155,-301 1155,-301 1155,-295 1161,-289 1167,-289 1167,-289 1373,-289 1373,-289 1379,-289 1385,-295 1385,-301 1385,-301 1385,-341 1385,-341 1385,-347 1379,-353 1373,-353\"/>\n",
       "<text text-anchor=\"start\" x=\"1230.5\" y=\"-338.8\" font-family=\"Helvetica,sans-Serif\" font-size=\"14.00\">x</text>\n",
       "<text text-anchor=\"start\" x=\"1239.5\" y=\"-338.8\" font-family=\"Helvetica,sans-Serif\" baseline-shift=\"sub\" font-size=\"14.00\">7</text>\n",
       "<text text-anchor=\"start\" x=\"1247.5\" y=\"-338.8\" font-family=\"Helvetica,sans-Serif\" font-size=\"14.00\"> ≤ 0.964</text>\n",
       "<text text-anchor=\"start\" x=\"1226\" y=\"-324.8\" font-family=\"Helvetica,sans-Serif\" font-size=\"14.00\">gini = 0.635</text>\n",
       "<text text-anchor=\"start\" x=\"1208\" y=\"-310.8\" font-family=\"Helvetica,sans-Serif\" font-size=\"14.00\">samples = 39360</text>\n",
       "<text text-anchor=\"start\" x=\"1163\" y=\"-296.8\" font-family=\"Helvetica,sans-Serif\" font-size=\"14.00\">value = [17644, 7865, 13851]</text>\n",
       "</g>\n",
       "<!-- 1&#45;&gt;2 -->\n",
       "<g id=\"edge2\" class=\"edge\">\n",
       "<title>1&#45;&gt;2</title>\n",
       "<path fill=\"none\" stroke=\"black\" d=\"M2441.94,-411.24C2200.98,-392.89 1645.01,-350.56 1395.35,-331.55\"/>\n",
       "<polygon fill=\"black\" stroke=\"black\" points=\"1395.39,-328.04 1385.15,-330.77 1394.86,-335.02 1395.39,-328.04\"/>\n",
       "</g>\n",
       "<!-- 17 -->\n",
       "<g id=\"node18\" class=\"node\">\n",
       "<title>17</title>\n",
       "<path fill=\"#fcf2ea\" stroke=\"black\" d=\"M2651,-353C2651,-353 2463,-353 2463,-353 2457,-353 2451,-347 2451,-341 2451,-341 2451,-301 2451,-301 2451,-295 2457,-289 2463,-289 2463,-289 2651,-289 2651,-289 2657,-289 2663,-295 2663,-301 2663,-301 2663,-341 2663,-341 2663,-347 2657,-353 2651,-353\"/>\n",
       "<text text-anchor=\"start\" x=\"2517.5\" y=\"-338.8\" font-family=\"Helvetica,sans-Serif\" font-size=\"14.00\">x</text>\n",
       "<text text-anchor=\"start\" x=\"2526.5\" y=\"-338.8\" font-family=\"Helvetica,sans-Serif\" baseline-shift=\"sub\" font-size=\"14.00\">3</text>\n",
       "<text text-anchor=\"start\" x=\"2534.5\" y=\"-338.8\" font-family=\"Helvetica,sans-Serif\" font-size=\"14.00\"> ≤ 0.953</text>\n",
       "<text text-anchor=\"start\" x=\"2513\" y=\"-324.8\" font-family=\"Helvetica,sans-Serif\" font-size=\"14.00\">gini = 0.639</text>\n",
       "<text text-anchor=\"start\" x=\"2499.5\" y=\"-310.8\" font-family=\"Helvetica,sans-Serif\" font-size=\"14.00\">samples = 7251</text>\n",
       "<text text-anchor=\"start\" x=\"2459\" y=\"-296.8\" font-family=\"Helvetica,sans-Serif\" font-size=\"14.00\">value = [3133, 1464, 2654]</text>\n",
       "</g>\n",
       "<!-- 1&#45;&gt;17 -->\n",
       "<g id=\"edge17\" class=\"edge\">\n",
       "<title>1&#45;&gt;17</title>\n",
       "<path fill=\"none\" stroke=\"black\" d=\"M2557,-388.99C2557,-380.86 2557,-371.96 2557,-363.38\"/>\n",
       "<polygon fill=\"black\" stroke=\"black\" points=\"2560.5,-363.14 2557,-353.14 2553.5,-363.14 2560.5,-363.14\"/>\n",
       "</g>\n",
       "<!-- 3 -->\n",
       "<g id=\"node4\" class=\"node\">\n",
       "<title>3</title>\n",
       "<path fill=\"#fbede3\" stroke=\"black\" d=\"M756,-253C756,-253 550,-253 550,-253 544,-253 538,-247 538,-241 538,-241 538,-201 538,-201 538,-195 544,-189 550,-189 550,-189 756,-189 756,-189 762,-189 768,-195 768,-201 768,-201 768,-241 768,-241 768,-247 762,-253 756,-253\"/>\n",
       "<text text-anchor=\"start\" x=\"607\" y=\"-238.8\" font-family=\"Helvetica,sans-Serif\" font-size=\"14.00\">x</text>\n",
       "<text text-anchor=\"start\" x=\"616\" y=\"-238.8\" font-family=\"Helvetica,sans-Serif\" baseline-shift=\"sub\" font-size=\"14.00\">10</text>\n",
       "<text text-anchor=\"start\" x=\"632\" y=\"-238.8\" font-family=\"Helvetica,sans-Serif\" font-size=\"14.00\"> ≤ &#45;0.172</text>\n",
       "<text text-anchor=\"start\" x=\"609\" y=\"-224.8\" font-family=\"Helvetica,sans-Serif\" font-size=\"14.00\">gini = 0.636</text>\n",
       "<text text-anchor=\"start\" x=\"591\" y=\"-210.8\" font-family=\"Helvetica,sans-Serif\" font-size=\"14.00\">samples = 33334</text>\n",
       "<text text-anchor=\"start\" x=\"546\" y=\"-196.8\" font-family=\"Helvetica,sans-Serif\" font-size=\"14.00\">value = [14853, 6678, 11803]</text>\n",
       "</g>\n",
       "<!-- 2&#45;&gt;3 -->\n",
       "<g id=\"edge3\" class=\"edge\">\n",
       "<title>2&#45;&gt;3</title>\n",
       "<path fill=\"none\" stroke=\"black\" d=\"M1154.67,-301.68C1047.54,-284.67 888.39,-259.39 778.2,-241.89\"/>\n",
       "<polygon fill=\"black\" stroke=\"black\" points=\"778.45,-238.38 768.02,-240.27 777.35,-245.3 778.45,-238.38\"/>\n",
       "</g>\n",
       "<!-- 10 -->\n",
       "<g id=\"node11\" class=\"node\">\n",
       "<title>10</title>\n",
       "<path fill=\"#fae7da\" stroke=\"black\" d=\"M1364,-253C1364,-253 1176,-253 1176,-253 1170,-253 1164,-247 1164,-241 1164,-241 1164,-201 1164,-201 1164,-195 1170,-189 1176,-189 1176,-189 1364,-189 1364,-189 1370,-189 1376,-195 1376,-201 1376,-201 1376,-241 1376,-241 1376,-247 1370,-253 1364,-253\"/>\n",
       "<text text-anchor=\"start\" x=\"1224\" y=\"-238.8\" font-family=\"Helvetica,sans-Serif\" font-size=\"14.00\">x</text>\n",
       "<text text-anchor=\"start\" x=\"1233\" y=\"-238.8\" font-family=\"Helvetica,sans-Serif\" baseline-shift=\"sub\" font-size=\"14.00\">11</text>\n",
       "<text text-anchor=\"start\" x=\"1249\" y=\"-238.8\" font-family=\"Helvetica,sans-Serif\" font-size=\"14.00\"> ≤ &#45;0.199</text>\n",
       "<text text-anchor=\"start\" x=\"1226\" y=\"-224.8\" font-family=\"Helvetica,sans-Serif\" font-size=\"14.00\">gini = 0.631</text>\n",
       "<text text-anchor=\"start\" x=\"1212.5\" y=\"-210.8\" font-family=\"Helvetica,sans-Serif\" font-size=\"14.00\">samples = 6026</text>\n",
       "<text text-anchor=\"start\" x=\"1172\" y=\"-196.8\" font-family=\"Helvetica,sans-Serif\" font-size=\"14.00\">value = [2791, 1187, 2048]</text>\n",
       "</g>\n",
       "<!-- 2&#45;&gt;10 -->\n",
       "<g id=\"edge10\" class=\"edge\">\n",
       "<title>2&#45;&gt;10</title>\n",
       "<path fill=\"none\" stroke=\"black\" d=\"M1270,-288.99C1270,-280.86 1270,-271.96 1270,-263.38\"/>\n",
       "<polygon fill=\"black\" stroke=\"black\" points=\"1273.5,-263.14 1270,-253.14 1266.5,-263.14 1273.5,-263.14\"/>\n",
       "</g>\n",
       "<!-- 4 -->\n",
       "<g id=\"node5\" class=\"node\">\n",
       "<title>4</title>\n",
       "<path fill=\"#fcefe6\" stroke=\"black\" d=\"M421,-153C421,-153 233,-153 233,-153 227,-153 221,-147 221,-141 221,-141 221,-101 221,-101 221,-95 227,-89 233,-89 233,-89 421,-89 421,-89 427,-89 433,-95 433,-101 433,-101 433,-141 433,-141 433,-147 427,-153 421,-153\"/>\n",
       "<text text-anchor=\"start\" x=\"287.5\" y=\"-138.8\" font-family=\"Helvetica,sans-Serif\" font-size=\"14.00\">x</text>\n",
       "<text text-anchor=\"start\" x=\"296.5\" y=\"-138.8\" font-family=\"Helvetica,sans-Serif\" baseline-shift=\"sub\" font-size=\"14.00\">3</text>\n",
       "<text text-anchor=\"start\" x=\"304.5\" y=\"-138.8\" font-family=\"Helvetica,sans-Serif\" font-size=\"14.00\"> ≤ 0.953</text>\n",
       "<text text-anchor=\"start\" x=\"283\" y=\"-124.8\" font-family=\"Helvetica,sans-Serif\" font-size=\"14.00\">gini = 0.638</text>\n",
       "<text text-anchor=\"start\" x=\"265\" y=\"-110.8\" font-family=\"Helvetica,sans-Serif\" font-size=\"14.00\">samples = 15457</text>\n",
       "<text text-anchor=\"start\" x=\"229\" y=\"-96.8\" font-family=\"Helvetica,sans-Serif\" font-size=\"14.00\">value = [6799, 3133, 5525]</text>\n",
       "</g>\n",
       "<!-- 3&#45;&gt;4 -->\n",
       "<g id=\"edge4\" class=\"edge\">\n",
       "<title>3&#45;&gt;4</title>\n",
       "<path fill=\"none\" stroke=\"black\" d=\"M549.85,-188.99C514.98,-178.51 475.87,-166.75 440.26,-156.05\"/>\n",
       "<polygon fill=\"black\" stroke=\"black\" points=\"440.9,-152.59 430.32,-153.06 438.89,-159.29 440.9,-152.59\"/>\n",
       "</g>\n",
       "<!-- 7 -->\n",
       "<g id=\"node8\" class=\"node\">\n",
       "<title>7</title>\n",
       "<path fill=\"#fbece1\" stroke=\"black\" d=\"M747,-153C747,-153 559,-153 559,-153 553,-153 547,-147 547,-141 547,-141 547,-101 547,-101 547,-95 553,-89 559,-89 559,-89 747,-89 747,-89 753,-89 759,-95 759,-101 759,-101 759,-141 759,-141 759,-147 753,-153 747,-153\"/>\n",
       "<text text-anchor=\"start\" x=\"611\" y=\"-138.8\" font-family=\"Helvetica,sans-Serif\" font-size=\"14.00\">x</text>\n",
       "<text text-anchor=\"start\" x=\"620\" y=\"-138.8\" font-family=\"Helvetica,sans-Serif\" baseline-shift=\"sub\" font-size=\"14.00\">1</text>\n",
       "<text text-anchor=\"start\" x=\"628\" y=\"-138.8\" font-family=\"Helvetica,sans-Serif\" font-size=\"14.00\"> ≤ &#45;0.802</text>\n",
       "<text text-anchor=\"start\" x=\"609\" y=\"-124.8\" font-family=\"Helvetica,sans-Serif\" font-size=\"14.00\">gini = 0.634</text>\n",
       "<text text-anchor=\"start\" x=\"591\" y=\"-110.8\" font-family=\"Helvetica,sans-Serif\" font-size=\"14.00\">samples = 17877</text>\n",
       "<text text-anchor=\"start\" x=\"555\" y=\"-96.8\" font-family=\"Helvetica,sans-Serif\" font-size=\"14.00\">value = [8054, 3545, 6278]</text>\n",
       "</g>\n",
       "<!-- 3&#45;&gt;7 -->\n",
       "<g id=\"edge7\" class=\"edge\">\n",
       "<title>3&#45;&gt;7</title>\n",
       "<path fill=\"none\" stroke=\"black\" d=\"M653,-188.99C653,-180.86 653,-171.96 653,-163.38\"/>\n",
       "<polygon fill=\"black\" stroke=\"black\" points=\"656.5,-163.14 653,-153.14 649.5,-163.14 656.5,-163.14\"/>\n",
       "</g>\n",
       "<!-- 5 -->\n",
       "<g id=\"node6\" class=\"node\">\n",
       "<title>5</title>\n",
       "<path fill=\"#fcf0e8\" stroke=\"black\" d=\"M200,-53C200,-53 12,-53 12,-53 6,-53 0,-47 0,-41 0,-41 0,-12 0,-12 0,-6 6,0 12,0 12,0 200,0 200,0 206,0 212,-6 212,-12 212,-12 212,-41 212,-41 212,-47 206,-53 200,-53\"/>\n",
       "<text text-anchor=\"start\" x=\"62\" y=\"-37.8\" font-family=\"Helvetica,sans-Serif\" font-size=\"14.00\">gini = 0.638</text>\n",
       "<text text-anchor=\"start\" x=\"44\" y=\"-22.8\" font-family=\"Helvetica,sans-Serif\" font-size=\"14.00\">samples = 12606</text>\n",
       "<text text-anchor=\"start\" x=\"8\" y=\"-7.8\" font-family=\"Helvetica,sans-Serif\" font-size=\"14.00\">value = [5501, 2542, 4563]</text>\n",
       "</g>\n",
       "<!-- 4&#45;&gt;5 -->\n",
       "<g id=\"edge5\" class=\"edge\">\n",
       "<title>4&#45;&gt;5</title>\n",
       "<path fill=\"none\" stroke=\"black\" d=\"M252.8,-88.94C228.22,-78.66 200.95,-67.24 176.65,-57.07\"/>\n",
       "<polygon fill=\"black\" stroke=\"black\" points=\"177.72,-53.72 167.14,-53.09 175.01,-60.18 177.72,-53.72\"/>\n",
       "</g>\n",
       "<!-- 6 -->\n",
       "<g id=\"node7\" class=\"node\">\n",
       "<title>6</title>\n",
       "<path fill=\"#fae9dc\" stroke=\"black\" d=\"M412,-53C412,-53 242,-53 242,-53 236,-53 230,-47 230,-41 230,-41 230,-12 230,-12 230,-6 236,0 242,0 242,0 412,0 412,0 418,0 424,-6 424,-12 424,-12 424,-41 424,-41 424,-47 418,-53 412,-53\"/>\n",
       "<text text-anchor=\"start\" x=\"283\" y=\"-37.8\" font-family=\"Helvetica,sans-Serif\" font-size=\"14.00\">gini = 0.636</text>\n",
       "<text text-anchor=\"start\" x=\"269.5\" y=\"-22.8\" font-family=\"Helvetica,sans-Serif\" font-size=\"14.00\">samples = 2851</text>\n",
       "<text text-anchor=\"start\" x=\"238\" y=\"-7.8\" font-family=\"Helvetica,sans-Serif\" font-size=\"14.00\">value = [1298, 591, 962]</text>\n",
       "</g>\n",
       "<!-- 4&#45;&gt;6 -->\n",
       "<g id=\"edge6\" class=\"edge\">\n",
       "<title>4&#45;&gt;6</title>\n",
       "<path fill=\"none\" stroke=\"black\" d=\"M327,-88.94C327,-80.66 327,-71.64 327,-63.13\"/>\n",
       "<polygon fill=\"black\" stroke=\"black\" points=\"330.5,-63.09 327,-53.09 323.5,-63.09 330.5,-63.09\"/>\n",
       "</g>\n",
       "<!-- 8 -->\n",
       "<g id=\"node9\" class=\"node\">\n",
       "<title>8</title>\n",
       "<path fill=\"#f8ddc9\" stroke=\"black\" d=\"M614.5,-53C614.5,-53 453.5,-53 453.5,-53 447.5,-53 441.5,-47 441.5,-41 441.5,-41 441.5,-12 441.5,-12 441.5,-6 447.5,0 453.5,0 453.5,0 614.5,0 614.5,0 620.5,0 626.5,-6 626.5,-12 626.5,-12 626.5,-41 626.5,-41 626.5,-47 620.5,-53 614.5,-53\"/>\n",
       "<text text-anchor=\"start\" x=\"490\" y=\"-37.8\" font-family=\"Helvetica,sans-Serif\" font-size=\"14.00\">gini = 0.618</text>\n",
       "<text text-anchor=\"start\" x=\"481\" y=\"-22.8\" font-family=\"Helvetica,sans-Serif\" font-size=\"14.00\">samples = 654</text>\n",
       "<text text-anchor=\"start\" x=\"449.5\" y=\"-7.8\" font-family=\"Helvetica,sans-Serif\" font-size=\"14.00\">value = [326, 124, 204]</text>\n",
       "</g>\n",
       "<!-- 7&#45;&gt;8 -->\n",
       "<g id=\"edge8\" class=\"edge\">\n",
       "<title>7&#45;&gt;8</title>\n",
       "<path fill=\"none\" stroke=\"black\" d=\"M613.04,-88.94C600.75,-79.38 587.2,-68.85 574.84,-59.25\"/>\n",
       "<polygon fill=\"black\" stroke=\"black\" points=\"576.97,-56.46 566.92,-53.09 572.67,-61.99 576.97,-56.46\"/>\n",
       "</g>\n",
       "<!-- 9 -->\n",
       "<g id=\"node10\" class=\"node\">\n",
       "<title>9</title>\n",
       "<path fill=\"#fbece2\" stroke=\"black\" d=\"M844,-53C844,-53 656,-53 656,-53 650,-53 644,-47 644,-41 644,-41 644,-12 644,-12 644,-6 650,0 656,0 656,0 844,0 844,0 850,0 856,-6 856,-12 856,-12 856,-41 856,-41 856,-47 850,-53 844,-53\"/>\n",
       "<text text-anchor=\"start\" x=\"706\" y=\"-37.8\" font-family=\"Helvetica,sans-Serif\" font-size=\"14.00\">gini = 0.635</text>\n",
       "<text text-anchor=\"start\" x=\"688\" y=\"-22.8\" font-family=\"Helvetica,sans-Serif\" font-size=\"14.00\">samples = 17223</text>\n",
       "<text text-anchor=\"start\" x=\"652\" y=\"-7.8\" font-family=\"Helvetica,sans-Serif\" font-size=\"14.00\">value = [7728, 3421, 6074]</text>\n",
       "</g>\n",
       "<!-- 7&#45;&gt;9 -->\n",
       "<g id=\"edge9\" class=\"edge\">\n",
       "<title>7&#45;&gt;9</title>\n",
       "<path fill=\"none\" stroke=\"black\" d=\"M685.57,-88.94C695.31,-79.66 706.01,-69.45 715.84,-60.07\"/>\n",
       "<polygon fill=\"black\" stroke=\"black\" points=\"718.34,-62.53 723.16,-53.09 713.51,-57.46 718.34,-62.53\"/>\n",
       "</g>\n",
       "<!-- 11 -->\n",
       "<g id=\"node12\" class=\"node\">\n",
       "<title>11</title>\n",
       "<path fill=\"#f9e1d0\" stroke=\"black\" d=\"M1247,-153C1247,-153 1077,-153 1077,-153 1071,-153 1065,-147 1065,-141 1065,-141 1065,-101 1065,-101 1065,-95 1071,-89 1077,-89 1077,-89 1247,-89 1247,-89 1253,-89 1259,-95 1259,-101 1259,-101 1259,-141 1259,-141 1259,-147 1253,-153 1247,-153\"/>\n",
       "<text text-anchor=\"start\" x=\"1122.5\" y=\"-138.8\" font-family=\"Helvetica,sans-Serif\" font-size=\"14.00\">x</text>\n",
       "<text text-anchor=\"start\" x=\"1131.5\" y=\"-138.8\" font-family=\"Helvetica,sans-Serif\" baseline-shift=\"sub\" font-size=\"14.00\">1</text>\n",
       "<text text-anchor=\"start\" x=\"1139.5\" y=\"-138.8\" font-family=\"Helvetica,sans-Serif\" font-size=\"14.00\"> ≤ 0.802</text>\n",
       "<text text-anchor=\"start\" x=\"1118\" y=\"-124.8\" font-family=\"Helvetica,sans-Serif\" font-size=\"14.00\">gini = 0.625</text>\n",
       "<text text-anchor=\"start\" x=\"1104.5\" y=\"-110.8\" font-family=\"Helvetica,sans-Serif\" font-size=\"14.00\">samples = 2419</text>\n",
       "<text text-anchor=\"start\" x=\"1073\" y=\"-96.8\" font-family=\"Helvetica,sans-Serif\" font-size=\"14.00\">value = [1169, 468, 782]</text>\n",
       "</g>\n",
       "<!-- 10&#45;&gt;11 -->\n",
       "<g id=\"edge11\" class=\"edge\">\n",
       "<title>10&#45;&gt;11</title>\n",
       "<path fill=\"none\" stroke=\"black\" d=\"M1235.83,-188.99C1225.68,-179.79 1214.45,-169.6 1203.88,-160\"/>\n",
       "<polygon fill=\"black\" stroke=\"black\" points=\"1206.08,-157.27 1196.32,-153.14 1201.37,-162.45 1206.08,-157.27\"/>\n",
       "</g>\n",
       "<!-- 14 -->\n",
       "<g id=\"node15\" class=\"node\">\n",
       "<title>14</title>\n",
       "<path fill=\"#fbece1\" stroke=\"black\" d=\"M1467.5,-153C1467.5,-153 1288.5,-153 1288.5,-153 1282.5,-153 1276.5,-147 1276.5,-141 1276.5,-141 1276.5,-101 1276.5,-101 1276.5,-95 1282.5,-89 1288.5,-89 1288.5,-89 1467.5,-89 1467.5,-89 1473.5,-89 1479.5,-95 1479.5,-101 1479.5,-101 1479.5,-141 1479.5,-141 1479.5,-147 1473.5,-153 1467.5,-153\"/>\n",
       "<text text-anchor=\"start\" x=\"1336\" y=\"-138.8\" font-family=\"Helvetica,sans-Serif\" font-size=\"14.00\">x</text>\n",
       "<text text-anchor=\"start\" x=\"1345\" y=\"-138.8\" font-family=\"Helvetica,sans-Serif\" baseline-shift=\"sub\" font-size=\"14.00\">1</text>\n",
       "<text text-anchor=\"start\" x=\"1353\" y=\"-138.8\" font-family=\"Helvetica,sans-Serif\" font-size=\"14.00\"> ≤ &#45;0.005</text>\n",
       "<text text-anchor=\"start\" x=\"1334\" y=\"-124.8\" font-family=\"Helvetica,sans-Serif\" font-size=\"14.00\">gini = 0.635</text>\n",
       "<text text-anchor=\"start\" x=\"1320.5\" y=\"-110.8\" font-family=\"Helvetica,sans-Serif\" font-size=\"14.00\">samples = 3607</text>\n",
       "<text text-anchor=\"start\" x=\"1284.5\" y=\"-96.8\" font-family=\"Helvetica,sans-Serif\" font-size=\"14.00\">value = [1622, 719, 1266]</text>\n",
       "</g>\n",
       "<!-- 10&#45;&gt;14 -->\n",
       "<g id=\"edge14\" class=\"edge\">\n",
       "<title>10&#45;&gt;14</title>\n",
       "<path fill=\"none\" stroke=\"black\" d=\"M1304.17,-188.99C1314.32,-179.79 1325.55,-169.6 1336.12,-160\"/>\n",
       "<polygon fill=\"black\" stroke=\"black\" points=\"1338.63,-162.45 1343.68,-153.14 1333.92,-157.27 1338.63,-162.45\"/>\n",
       "</g>\n",
       "<!-- 12 -->\n",
       "<g id=\"node13\" class=\"node\">\n",
       "<title>12</title>\n",
       "<path fill=\"#f9e1d0\" stroke=\"black\" d=\"M1046.5,-53C1046.5,-53 885.5,-53 885.5,-53 879.5,-53 873.5,-47 873.5,-41 873.5,-41 873.5,-12 873.5,-12 873.5,-6 879.5,0 885.5,0 885.5,0 1046.5,0 1046.5,0 1052.5,0 1058.5,-6 1058.5,-12 1058.5,-12 1058.5,-41 1058.5,-41 1058.5,-47 1052.5,-53 1046.5,-53\"/>\n",
       "<text text-anchor=\"start\" x=\"926.5\" y=\"-37.8\" font-family=\"Helvetica,sans-Serif\" font-size=\"14.00\">gini = 0.62</text>\n",
       "<text text-anchor=\"start\" x=\"908.5\" y=\"-22.8\" font-family=\"Helvetica,sans-Serif\" font-size=\"14.00\">samples = 1919</text>\n",
       "<text text-anchor=\"start\" x=\"881.5\" y=\"-7.8\" font-family=\"Helvetica,sans-Serif\" font-size=\"14.00\">value = [936, 350, 633]</text>\n",
       "</g>\n",
       "<!-- 11&#45;&gt;12 -->\n",
       "<g id=\"edge12\" class=\"edge\">\n",
       "<title>11&#45;&gt;12</title>\n",
       "<path fill=\"none\" stroke=\"black\" d=\"M1096.19,-88.94C1074.68,-78.79 1050.85,-67.54 1029.52,-57.48\"/>\n",
       "<polygon fill=\"black\" stroke=\"black\" points=\"1030.76,-54.19 1020.22,-53.09 1027.77,-60.52 1030.76,-54.19\"/>\n",
       "</g>\n",
       "<!-- 13 -->\n",
       "<g id=\"node14\" class=\"node\">\n",
       "<title>13</title>\n",
       "<path fill=\"#f9e1d0\" stroke=\"black\" d=\"M1249.5,-53C1249.5,-53 1088.5,-53 1088.5,-53 1082.5,-53 1076.5,-47 1076.5,-41 1076.5,-41 1076.5,-12 1076.5,-12 1076.5,-6 1082.5,0 1088.5,0 1088.5,0 1249.5,0 1249.5,0 1255.5,0 1261.5,-6 1261.5,-12 1261.5,-12 1261.5,-41 1261.5,-41 1261.5,-47 1255.5,-53 1249.5,-53\"/>\n",
       "<text text-anchor=\"start\" x=\"1125\" y=\"-37.8\" font-family=\"Helvetica,sans-Serif\" font-size=\"14.00\">gini = 0.638</text>\n",
       "<text text-anchor=\"start\" x=\"1116\" y=\"-22.8\" font-family=\"Helvetica,sans-Serif\" font-size=\"14.00\">samples = 500</text>\n",
       "<text text-anchor=\"start\" x=\"1084.5\" y=\"-7.8\" font-family=\"Helvetica,sans-Serif\" font-size=\"14.00\">value = [233, 118, 149]</text>\n",
       "</g>\n",
       "<!-- 11&#45;&gt;13 -->\n",
       "<g id=\"edge13\" class=\"edge\">\n",
       "<title>11&#45;&gt;13</title>\n",
       "<path fill=\"none\" stroke=\"black\" d=\"M1164.35,-88.94C1164.98,-80.66 1165.66,-71.64 1166.3,-63.13\"/>\n",
       "<polygon fill=\"black\" stroke=\"black\" points=\"1169.8,-63.33 1167.06,-53.09 1162.82,-62.8 1169.8,-63.33\"/>\n",
       "</g>\n",
       "<!-- 15 -->\n",
       "<g id=\"node16\" class=\"node\">\n",
       "<title>15</title>\n",
       "<path fill=\"#fcefe6\" stroke=\"black\" d=\"M1452.5,-53C1452.5,-53 1291.5,-53 1291.5,-53 1285.5,-53 1279.5,-47 1279.5,-41 1279.5,-41 1279.5,-12 1279.5,-12 1279.5,-6 1285.5,0 1291.5,0 1291.5,0 1452.5,0 1452.5,0 1458.5,0 1464.5,-6 1464.5,-12 1464.5,-12 1464.5,-41 1464.5,-41 1464.5,-47 1458.5,-53 1452.5,-53\"/>\n",
       "<text text-anchor=\"start\" x=\"1328\" y=\"-37.8\" font-family=\"Helvetica,sans-Serif\" font-size=\"14.00\">gini = 0.631</text>\n",
       "<text text-anchor=\"start\" x=\"1314.5\" y=\"-22.8\" font-family=\"Helvetica,sans-Serif\" font-size=\"14.00\">samples = 2139</text>\n",
       "<text text-anchor=\"start\" x=\"1287.5\" y=\"-7.8\" font-family=\"Helvetica,sans-Serif\" font-size=\"14.00\">value = [956, 398, 785]</text>\n",
       "</g>\n",
       "<!-- 14&#45;&gt;15 -->\n",
       "<g id=\"edge15\" class=\"edge\">\n",
       "<title>14&#45;&gt;15</title>\n",
       "<path fill=\"none\" stroke=\"black\" d=\"M1375.99,-88.94C1375.45,-80.66 1374.86,-71.64 1374.31,-63.13\"/>\n",
       "<polygon fill=\"black\" stroke=\"black\" points=\"1377.8,-62.84 1373.66,-53.09 1370.81,-63.3 1377.8,-62.84\"/>\n",
       "</g>\n",
       "<!-- 16 -->\n",
       "<g id=\"node17\" class=\"node\">\n",
       "<title>16</title>\n",
       "<path fill=\"#fae7da\" stroke=\"black\" d=\"M1655.5,-53C1655.5,-53 1494.5,-53 1494.5,-53 1488.5,-53 1482.5,-47 1482.5,-41 1482.5,-41 1482.5,-12 1482.5,-12 1482.5,-6 1488.5,0 1494.5,0 1494.5,0 1655.5,0 1655.5,0 1661.5,0 1667.5,-6 1667.5,-12 1667.5,-12 1667.5,-41 1667.5,-41 1667.5,-47 1661.5,-53 1655.5,-53\"/>\n",
       "<text text-anchor=\"start\" x=\"1531\" y=\"-37.8\" font-family=\"Helvetica,sans-Serif\" font-size=\"14.00\">gini = 0.639</text>\n",
       "<text text-anchor=\"start\" x=\"1517.5\" y=\"-22.8\" font-family=\"Helvetica,sans-Serif\" font-size=\"14.00\">samples = 1468</text>\n",
       "<text text-anchor=\"start\" x=\"1490.5\" y=\"-7.8\" font-family=\"Helvetica,sans-Serif\" font-size=\"14.00\">value = [666, 321, 481]</text>\n",
       "</g>\n",
       "<!-- 14&#45;&gt;16 -->\n",
       "<g id=\"edge16\" class=\"edge\">\n",
       "<title>14&#45;&gt;16</title>\n",
       "<path fill=\"none\" stroke=\"black\" d=\"M1444.15,-88.94C1465.76,-78.79 1489.72,-67.54 1511.16,-57.48\"/>\n",
       "<polygon fill=\"black\" stroke=\"black\" points=\"1512.93,-60.51 1520.5,-53.09 1509.96,-54.17 1512.93,-60.51\"/>\n",
       "</g>\n",
       "<!-- 18 -->\n",
       "<g id=\"node19\" class=\"node\">\n",
       "<title>18</title>\n",
       "<path fill=\"#fcf0e8\" stroke=\"black\" d=\"M2379,-253C2379,-253 2191,-253 2191,-253 2185,-253 2179,-247 2179,-241 2179,-241 2179,-201 2179,-201 2179,-195 2185,-189 2191,-189 2191,-189 2379,-189 2379,-189 2385,-189 2391,-195 2391,-201 2391,-201 2391,-241 2391,-241 2391,-247 2385,-253 2379,-253\"/>\n",
       "<text text-anchor=\"start\" x=\"2247.5\" y=\"-238.8\" font-family=\"Helvetica,sans-Serif\" font-size=\"14.00\">x</text>\n",
       "<text text-anchor=\"start\" x=\"2256.5\" y=\"-238.8\" font-family=\"Helvetica,sans-Serif\" baseline-shift=\"sub\" font-size=\"14.00\">1</text>\n",
       "<text text-anchor=\"start\" x=\"2264.5\" y=\"-238.8\" font-family=\"Helvetica,sans-Serif\" font-size=\"14.00\"> ≤ &#45;0.73</text>\n",
       "<text text-anchor=\"start\" x=\"2241\" y=\"-224.8\" font-family=\"Helvetica,sans-Serif\" font-size=\"14.00\">gini = 0.636</text>\n",
       "<text text-anchor=\"start\" x=\"2227.5\" y=\"-210.8\" font-family=\"Helvetica,sans-Serif\" font-size=\"14.00\">samples = 6130</text>\n",
       "<text text-anchor=\"start\" x=\"2187\" y=\"-196.8\" font-family=\"Helvetica,sans-Serif\" font-size=\"14.00\">value = [2686, 1209, 2235]</text>\n",
       "</g>\n",
       "<!-- 17&#45;&gt;18 -->\n",
       "<g id=\"edge18\" class=\"edge\">\n",
       "<title>17&#45;&gt;18</title>\n",
       "<path fill=\"none\" stroke=\"black\" d=\"M2470.94,-288.99C2442.29,-278.67 2410.2,-267.11 2380.86,-256.54\"/>\n",
       "<polygon fill=\"black\" stroke=\"black\" points=\"2382.03,-253.24 2371.44,-253.14 2379.66,-259.82 2382.03,-253.24\"/>\n",
       "</g>\n",
       "<!-- 25 -->\n",
       "<g id=\"node26\" class=\"node\">\n",
       "<title>25</title>\n",
       "<path fill=\"#fefaf7\" stroke=\"black\" d=\"M2733.5,-253C2733.5,-253 2572.5,-253 2572.5,-253 2566.5,-253 2560.5,-247 2560.5,-241 2560.5,-241 2560.5,-201 2560.5,-201 2560.5,-195 2566.5,-189 2572.5,-189 2572.5,-189 2733.5,-189 2733.5,-189 2739.5,-189 2745.5,-195 2745.5,-201 2745.5,-201 2745.5,-241 2745.5,-241 2745.5,-247 2739.5,-253 2733.5,-253\"/>\n",
       "<text text-anchor=\"start\" x=\"2607\" y=\"-238.8\" font-family=\"Helvetica,sans-Serif\" font-size=\"14.00\">x</text>\n",
       "<text text-anchor=\"start\" x=\"2616\" y=\"-238.8\" font-family=\"Helvetica,sans-Serif\" baseline-shift=\"sub\" font-size=\"14.00\">10</text>\n",
       "<text text-anchor=\"start\" x=\"2632\" y=\"-238.8\" font-family=\"Helvetica,sans-Serif\" font-size=\"14.00\"> ≤ &#45;1.293</text>\n",
       "<text text-anchor=\"start\" x=\"2613.5\" y=\"-224.8\" font-family=\"Helvetica,sans-Serif\" font-size=\"14.00\">gini = 0.65</text>\n",
       "<text text-anchor=\"start\" x=\"2595.5\" y=\"-210.8\" font-family=\"Helvetica,sans-Serif\" font-size=\"14.00\">samples = 1121</text>\n",
       "<text text-anchor=\"start\" x=\"2568.5\" y=\"-196.8\" font-family=\"Helvetica,sans-Serif\" font-size=\"14.00\">value = [447, 255, 419]</text>\n",
       "</g>\n",
       "<!-- 17&#45;&gt;25 -->\n",
       "<g id=\"edge25\" class=\"edge\">\n",
       "<title>17&#45;&gt;25</title>\n",
       "<path fill=\"none\" stroke=\"black\" d=\"M2587.38,-288.99C2596.22,-279.97 2605.99,-269.99 2615.23,-260.56\"/>\n",
       "<polygon fill=\"black\" stroke=\"black\" points=\"2618,-262.74 2622.49,-253.14 2613,-257.84 2618,-262.74\"/>\n",
       "</g>\n",
       "<!-- 19 -->\n",
       "<g id=\"node20\" class=\"node\">\n",
       "<title>19</title>\n",
       "<path fill=\"#fae7d9\" stroke=\"black\" d=\"M2052.5,-153C2052.5,-153 1891.5,-153 1891.5,-153 1885.5,-153 1879.5,-147 1879.5,-141 1879.5,-141 1879.5,-101 1879.5,-101 1879.5,-95 1885.5,-89 1891.5,-89 1891.5,-89 2052.5,-89 2052.5,-89 2058.5,-89 2064.5,-95 2064.5,-101 2064.5,-101 2064.5,-141 2064.5,-141 2064.5,-147 2058.5,-153 2052.5,-153\"/>\n",
       "<text text-anchor=\"start\" x=\"1932.5\" y=\"-138.8\" font-family=\"Helvetica,sans-Serif\" font-size=\"14.00\">x</text>\n",
       "<text text-anchor=\"start\" x=\"1941.5\" y=\"-138.8\" font-family=\"Helvetica,sans-Serif\" baseline-shift=\"sub\" font-size=\"14.00\">7</text>\n",
       "<text text-anchor=\"start\" x=\"1949.5\" y=\"-138.8\" font-family=\"Helvetica,sans-Serif\" font-size=\"14.00\"> ≤ 0.964</text>\n",
       "<text text-anchor=\"start\" x=\"1928\" y=\"-124.8\" font-family=\"Helvetica,sans-Serif\" font-size=\"14.00\">gini = 0.626</text>\n",
       "<text text-anchor=\"start\" x=\"1914.5\" y=\"-110.8\" font-family=\"Helvetica,sans-Serif\" font-size=\"14.00\">samples = 1240</text>\n",
       "<text text-anchor=\"start\" x=\"1887.5\" y=\"-96.8\" font-family=\"Helvetica,sans-Serif\" font-size=\"14.00\">value = [583, 229, 428]</text>\n",
       "</g>\n",
       "<!-- 18&#45;&gt;19 -->\n",
       "<g id=\"edge19\" class=\"edge\">\n",
       "<title>18&#45;&gt;19</title>\n",
       "<path fill=\"none\" stroke=\"black\" d=\"M2185.96,-188.99C2150.44,-177.87 2110.33,-165.31 2074.51,-154.1\"/>\n",
       "<polygon fill=\"black\" stroke=\"black\" points=\"2075.12,-150.62 2064.53,-150.97 2073.03,-157.3 2075.12,-150.62\"/>\n",
       "</g>\n",
       "<!-- 22 -->\n",
       "<g id=\"node23\" class=\"node\">\n",
       "<title>22</title>\n",
       "<path fill=\"#fdf3ec\" stroke=\"black\" d=\"M2374.5,-153C2374.5,-153 2195.5,-153 2195.5,-153 2189.5,-153 2183.5,-147 2183.5,-141 2183.5,-141 2183.5,-101 2183.5,-101 2183.5,-95 2189.5,-89 2195.5,-89 2195.5,-89 2374.5,-89 2374.5,-89 2380.5,-89 2386.5,-95 2386.5,-101 2386.5,-101 2386.5,-141 2386.5,-141 2386.5,-147 2380.5,-153 2374.5,-153\"/>\n",
       "<text text-anchor=\"start\" x=\"2241.5\" y=\"-138.8\" font-family=\"Helvetica,sans-Serif\" font-size=\"14.00\">x</text>\n",
       "<text text-anchor=\"start\" x=\"2250.5\" y=\"-138.8\" font-family=\"Helvetica,sans-Serif\" baseline-shift=\"sub\" font-size=\"14.00\">10</text>\n",
       "<text text-anchor=\"start\" x=\"2266.5\" y=\"-138.8\" font-family=\"Helvetica,sans-Serif\" font-size=\"14.00\"> ≤ 0.949</text>\n",
       "<text text-anchor=\"start\" x=\"2241\" y=\"-124.8\" font-family=\"Helvetica,sans-Serif\" font-size=\"14.00\">gini = 0.638</text>\n",
       "<text text-anchor=\"start\" x=\"2227.5\" y=\"-110.8\" font-family=\"Helvetica,sans-Serif\" font-size=\"14.00\">samples = 4890</text>\n",
       "<text text-anchor=\"start\" x=\"2191.5\" y=\"-96.8\" font-family=\"Helvetica,sans-Serif\" font-size=\"14.00\">value = [2103, 980, 1807]</text>\n",
       "</g>\n",
       "<!-- 18&#45;&gt;22 -->\n",
       "<g id=\"edge22\" class=\"edge\">\n",
       "<title>18&#45;&gt;22</title>\n",
       "<path fill=\"none\" stroke=\"black\" d=\"M2285,-188.99C2285,-180.86 2285,-171.96 2285,-163.38\"/>\n",
       "<polygon fill=\"black\" stroke=\"black\" points=\"2288.5,-163.14 2285,-153.14 2281.5,-163.14 2288.5,-163.14\"/>\n",
       "</g>\n",
       "<!-- 20 -->\n",
       "<g id=\"node21\" class=\"node\">\n",
       "<title>20</title>\n",
       "<path fill=\"#fbebe0\" stroke=\"black\" d=\"M1858.5,-53C1858.5,-53 1697.5,-53 1697.5,-53 1691.5,-53 1685.5,-47 1685.5,-41 1685.5,-41 1685.5,-12 1685.5,-12 1685.5,-6 1691.5,0 1697.5,0 1697.5,0 1858.5,0 1858.5,0 1864.5,0 1870.5,-6 1870.5,-12 1870.5,-12 1870.5,-41 1870.5,-41 1870.5,-47 1864.5,-53 1858.5,-53\"/>\n",
       "<text text-anchor=\"start\" x=\"1734\" y=\"-37.8\" font-family=\"Helvetica,sans-Serif\" font-size=\"14.00\">gini = 0.627</text>\n",
       "<text text-anchor=\"start\" x=\"1720.5\" y=\"-22.8\" font-family=\"Helvetica,sans-Serif\" font-size=\"14.00\">samples = 1009</text>\n",
       "<text text-anchor=\"start\" x=\"1693.5\" y=\"-7.8\" font-family=\"Helvetica,sans-Serif\" font-size=\"14.00\">value = [464, 183, 362]</text>\n",
       "</g>\n",
       "<!-- 19&#45;&gt;20 -->\n",
       "<g id=\"edge20\" class=\"edge\">\n",
       "<title>19&#45;&gt;20</title>\n",
       "<path fill=\"none\" stroke=\"black\" d=\"M1906.86,-88.94C1885.57,-78.79 1861.98,-67.54 1840.87,-57.48\"/>\n",
       "<polygon fill=\"black\" stroke=\"black\" points=\"1842.2,-54.24 1831.67,-53.09 1839.19,-60.55 1842.2,-54.24\"/>\n",
       "</g>\n",
       "<!-- 21 -->\n",
       "<g id=\"node22\" class=\"node\">\n",
       "<title>21</title>\n",
       "<path fill=\"#f7d7bf\" stroke=\"black\" d=\"M2043.5,-53C2043.5,-53 1900.5,-53 1900.5,-53 1894.5,-53 1888.5,-47 1888.5,-41 1888.5,-41 1888.5,-12 1888.5,-12 1888.5,-6 1894.5,0 1900.5,0 1900.5,0 2043.5,0 2043.5,0 2049.5,0 2055.5,-6 2055.5,-12 2055.5,-12 2055.5,-41 2055.5,-41 2055.5,-47 2049.5,-53 2043.5,-53\"/>\n",
       "<text text-anchor=\"start\" x=\"1928\" y=\"-37.8\" font-family=\"Helvetica,sans-Serif\" font-size=\"14.00\">gini = 0.613</text>\n",
       "<text text-anchor=\"start\" x=\"1919\" y=\"-22.8\" font-family=\"Helvetica,sans-Serif\" font-size=\"14.00\">samples = 231</text>\n",
       "<text text-anchor=\"start\" x=\"1896.5\" y=\"-7.8\" font-family=\"Helvetica,sans-Serif\" font-size=\"14.00\">value = [119, 46, 66]</text>\n",
       "</g>\n",
       "<!-- 19&#45;&gt;21 -->\n",
       "<g id=\"edge21\" class=\"edge\">\n",
       "<title>19&#45;&gt;21</title>\n",
       "<path fill=\"none\" stroke=\"black\" d=\"M1972,-88.94C1972,-80.66 1972,-71.64 1972,-63.13\"/>\n",
       "<polygon fill=\"black\" stroke=\"black\" points=\"1975.5,-63.09 1972,-53.09 1968.5,-63.09 1975.5,-63.09\"/>\n",
       "</g>\n",
       "<!-- 23 -->\n",
       "<g id=\"node24\" class=\"node\">\n",
       "<title>23</title>\n",
       "<path fill=\"#fdf6f1\" stroke=\"black\" d=\"M2264.5,-53C2264.5,-53 2085.5,-53 2085.5,-53 2079.5,-53 2073.5,-47 2073.5,-41 2073.5,-41 2073.5,-12 2073.5,-12 2073.5,-6 2079.5,0 2085.5,0 2085.5,0 2264.5,0 2264.5,0 2270.5,0 2276.5,-6 2276.5,-12 2276.5,-12 2276.5,-41 2276.5,-41 2276.5,-47 2270.5,-53 2264.5,-53\"/>\n",
       "<text text-anchor=\"start\" x=\"2131\" y=\"-37.8\" font-family=\"Helvetica,sans-Serif\" font-size=\"14.00\">gini = 0.636</text>\n",
       "<text text-anchor=\"start\" x=\"2117.5\" y=\"-22.8\" font-family=\"Helvetica,sans-Serif\" font-size=\"14.00\">samples = 3763</text>\n",
       "<text text-anchor=\"start\" x=\"2081.5\" y=\"-7.8\" font-family=\"Helvetica,sans-Serif\" font-size=\"14.00\">value = [1602, 721, 1440]</text>\n",
       "</g>\n",
       "<!-- 22&#45;&gt;23 -->\n",
       "<g id=\"edge23\" class=\"edge\">\n",
       "<title>22&#45;&gt;23</title>\n",
       "<path fill=\"none\" stroke=\"black\" d=\"M2248.07,-88.94C2236.92,-79.57 2224.65,-69.25 2213.41,-59.8\"/>\n",
       "<polygon fill=\"black\" stroke=\"black\" points=\"2215.34,-56.85 2205.43,-53.09 2210.83,-62.21 2215.34,-56.85\"/>\n",
       "</g>\n",
       "<!-- 24 -->\n",
       "<g id=\"node25\" class=\"node\">\n",
       "<title>24</title>\n",
       "<path fill=\"#fae9dc\" stroke=\"black\" d=\"M2467.5,-53C2467.5,-53 2306.5,-53 2306.5,-53 2300.5,-53 2294.5,-47 2294.5,-41 2294.5,-41 2294.5,-12 2294.5,-12 2294.5,-6 2300.5,0 2306.5,0 2306.5,0 2467.5,0 2467.5,0 2473.5,0 2479.5,-6 2479.5,-12 2479.5,-12 2479.5,-41 2479.5,-41 2479.5,-47 2473.5,-53 2467.5,-53\"/>\n",
       "<text text-anchor=\"start\" x=\"2343\" y=\"-37.8\" font-family=\"Helvetica,sans-Serif\" font-size=\"14.00\">gini = 0.644</text>\n",
       "<text text-anchor=\"start\" x=\"2329.5\" y=\"-22.8\" font-family=\"Helvetica,sans-Serif\" font-size=\"14.00\">samples = 1127</text>\n",
       "<text text-anchor=\"start\" x=\"2302.5\" y=\"-7.8\" font-family=\"Helvetica,sans-Serif\" font-size=\"14.00\">value = [501, 259, 367]</text>\n",
       "</g>\n",
       "<!-- 22&#45;&gt;24 -->\n",
       "<g id=\"edge24\" class=\"edge\">\n",
       "<title>22&#45;&gt;24</title>\n",
       "<path fill=\"none\" stroke=\"black\" d=\"M2319.25,-88.94C2329.49,-79.66 2340.74,-69.45 2351.08,-60.07\"/>\n",
       "<polygon fill=\"black\" stroke=\"black\" points=\"2353.72,-62.4 2358.78,-53.09 2349.02,-57.22 2353.72,-62.4\"/>\n",
       "</g>\n",
       "<!-- 26 -->\n",
       "<g id=\"node27\" class=\"node\">\n",
       "<title>26</title>\n",
       "<path fill=\"#f7f3fd\" stroke=\"black\" d=\"M2720,-153C2720,-153 2586,-153 2586,-153 2580,-153 2574,-147 2574,-141 2574,-141 2574,-101 2574,-101 2574,-95 2580,-89 2586,-89 2586,-89 2720,-89 2720,-89 2726,-89 2732,-95 2732,-101 2732,-101 2732,-141 2732,-141 2732,-147 2726,-153 2720,-153\"/>\n",
       "<text text-anchor=\"start\" x=\"2613.5\" y=\"-138.8\" font-family=\"Helvetica,sans-Serif\" font-size=\"14.00\">x</text>\n",
       "<text text-anchor=\"start\" x=\"2622.5\" y=\"-138.8\" font-family=\"Helvetica,sans-Serif\" baseline-shift=\"sub\" font-size=\"14.00\">9</text>\n",
       "<text text-anchor=\"start\" x=\"2630.5\" y=\"-138.8\" font-family=\"Helvetica,sans-Serif\" font-size=\"14.00\"> ≤ 1.369</text>\n",
       "<text text-anchor=\"start\" x=\"2609\" y=\"-124.8\" font-family=\"Helvetica,sans-Serif\" font-size=\"14.00\">gini = 0.612</text>\n",
       "<text text-anchor=\"start\" x=\"2600\" y=\"-110.8\" font-family=\"Helvetica,sans-Serif\" font-size=\"14.00\">samples = 139</text>\n",
       "<text text-anchor=\"start\" x=\"2582\" y=\"-96.8\" font-family=\"Helvetica,sans-Serif\" font-size=\"14.00\">value = [57, 20, 62]</text>\n",
       "</g>\n",
       "<!-- 25&#45;&gt;26 -->\n",
       "<g id=\"edge26\" class=\"edge\">\n",
       "<title>25&#45;&gt;26</title>\n",
       "<path fill=\"none\" stroke=\"black\" d=\"M2653,-188.99C2653,-180.86 2653,-171.96 2653,-163.38\"/>\n",
       "<polygon fill=\"black\" stroke=\"black\" points=\"2656.5,-163.14 2653,-153.14 2649.5,-163.14 2656.5,-163.14\"/>\n",
       "</g>\n",
       "<!-- 29 -->\n",
       "<g id=\"node30\" class=\"node\">\n",
       "<title>29</title>\n",
       "<path fill=\"#fef8f5\" stroke=\"black\" d=\"M2998.5,-153C2998.5,-153 2837.5,-153 2837.5,-153 2831.5,-153 2825.5,-147 2825.5,-141 2825.5,-141 2825.5,-101 2825.5,-101 2825.5,-95 2831.5,-89 2837.5,-89 2837.5,-89 2998.5,-89 2998.5,-89 3004.5,-89 3010.5,-95 3010.5,-101 3010.5,-101 3010.5,-141 3010.5,-141 3010.5,-147 3004.5,-153 2998.5,-153\"/>\n",
       "<text text-anchor=\"start\" x=\"2872\" y=\"-138.8\" font-family=\"Helvetica,sans-Serif\" font-size=\"14.00\">x</text>\n",
       "<text text-anchor=\"start\" x=\"2881\" y=\"-138.8\" font-family=\"Helvetica,sans-Serif\" baseline-shift=\"sub\" font-size=\"14.00\">10</text>\n",
       "<text text-anchor=\"start\" x=\"2897\" y=\"-138.8\" font-family=\"Helvetica,sans-Serif\" font-size=\"14.00\"> ≤ &#45;0.732</text>\n",
       "<text text-anchor=\"start\" x=\"2874\" y=\"-124.8\" font-family=\"Helvetica,sans-Serif\" font-size=\"14.00\">gini = 0.653</text>\n",
       "<text text-anchor=\"start\" x=\"2865\" y=\"-110.8\" font-family=\"Helvetica,sans-Serif\" font-size=\"14.00\">samples = 982</text>\n",
       "<text text-anchor=\"start\" x=\"2833.5\" y=\"-96.8\" font-family=\"Helvetica,sans-Serif\" font-size=\"14.00\">value = [390, 235, 357]</text>\n",
       "</g>\n",
       "<!-- 25&#45;&gt;29 -->\n",
       "<g id=\"edge29\" class=\"edge\">\n",
       "<title>25&#45;&gt;29</title>\n",
       "<path fill=\"none\" stroke=\"black\" d=\"M2736.85,-188.99C2764.64,-178.71 2795.75,-167.21 2824.24,-156.68\"/>\n",
       "<polygon fill=\"black\" stroke=\"black\" points=\"2825.62,-159.89 2833.79,-153.14 2823.2,-153.33 2825.62,-159.89\"/>\n",
       "</g>\n",
       "<!-- 27 -->\n",
       "<g id=\"node28\" class=\"node\">\n",
       "<title>27</title>\n",
       "<path fill=\"#fdf6f1\" stroke=\"black\" d=\"M2643,-53C2643,-53 2509,-53 2509,-53 2503,-53 2497,-47 2497,-41 2497,-41 2497,-12 2497,-12 2497,-6 2503,0 2509,0 2509,0 2643,0 2643,0 2649,0 2655,-6 2655,-12 2655,-12 2655,-41 2655,-41 2655,-47 2649,-53 2643,-53\"/>\n",
       "<text text-anchor=\"start\" x=\"2532\" y=\"-37.8\" font-family=\"Helvetica,sans-Serif\" font-size=\"14.00\">gini = 0.595</text>\n",
       "<text text-anchor=\"start\" x=\"2527.5\" y=\"-22.8\" font-family=\"Helvetica,sans-Serif\" font-size=\"14.00\">samples = 95</text>\n",
       "<text text-anchor=\"start\" x=\"2505\" y=\"-7.8\" font-family=\"Helvetica,sans-Serif\" font-size=\"14.00\">value = [44, 11, 40]</text>\n",
       "</g>\n",
       "<!-- 26&#45;&gt;27 -->\n",
       "<g id=\"edge27\" class=\"edge\">\n",
       "<title>26&#45;&gt;27</title>\n",
       "<path fill=\"none\" stroke=\"black\" d=\"M2627.15,-88.94C2619.64,-79.93 2611.42,-70.05 2603.81,-60.9\"/>\n",
       "<polygon fill=\"black\" stroke=\"black\" points=\"2606.39,-58.54 2597.3,-53.09 2601.01,-63.02 2606.39,-58.54\"/>\n",
       "</g>\n",
       "<!-- 28 -->\n",
       "<g id=\"node29\" class=\"node\">\n",
       "<title>28</title>\n",
       "<path fill=\"#dac6f7\" stroke=\"black\" d=\"M2809.5,-53C2809.5,-53 2684.5,-53 2684.5,-53 2678.5,-53 2672.5,-47 2672.5,-41 2672.5,-41 2672.5,-12 2672.5,-12 2672.5,-6 2678.5,0 2684.5,0 2684.5,0 2809.5,0 2809.5,0 2815.5,0 2821.5,-6 2821.5,-12 2821.5,-12 2821.5,-41 2821.5,-41 2821.5,-47 2815.5,-53 2809.5,-53\"/>\n",
       "<text text-anchor=\"start\" x=\"2703\" y=\"-37.8\" font-family=\"Helvetica,sans-Serif\" font-size=\"14.00\">gini = 0.621</text>\n",
       "<text text-anchor=\"start\" x=\"2698.5\" y=\"-22.8\" font-family=\"Helvetica,sans-Serif\" font-size=\"14.00\">samples = 44</text>\n",
       "<text text-anchor=\"start\" x=\"2680.5\" y=\"-7.8\" font-family=\"Helvetica,sans-Serif\" font-size=\"14.00\">value = [13, 9, 22]</text>\n",
       "</g>\n",
       "<!-- 26&#45;&gt;28 -->\n",
       "<g id=\"edge28\" class=\"edge\">\n",
       "<title>26&#45;&gt;28</title>\n",
       "<path fill=\"none\" stroke=\"black\" d=\"M2684.56,-88.94C2693.91,-79.75 2704.16,-69.65 2713.62,-60.35\"/>\n",
       "<polygon fill=\"black\" stroke=\"black\" points=\"2716.32,-62.6 2720.99,-53.09 2711.41,-57.61 2716.32,-62.6\"/>\n",
       "</g>\n",
       "<!-- 30 -->\n",
       "<g id=\"node31\" class=\"node\">\n",
       "<title>30</title>\n",
       "<path fill=\"#fcf2eb\" stroke=\"black\" d=\"M2985,-53C2985,-53 2851,-53 2851,-53 2845,-53 2839,-47 2839,-41 2839,-41 2839,-12 2839,-12 2839,-6 2845,0 2851,0 2851,0 2985,0 2985,0 2991,0 2997,-6 2997,-12 2997,-12 2997,-41 2997,-41 2997,-47 2991,-53 2985,-53\"/>\n",
       "<text text-anchor=\"start\" x=\"2874\" y=\"-37.8\" font-family=\"Helvetica,sans-Serif\" font-size=\"14.00\">gini = 0.659</text>\n",
       "<text text-anchor=\"start\" x=\"2865\" y=\"-22.8\" font-family=\"Helvetica,sans-Serif\" font-size=\"14.00\">samples = 232</text>\n",
       "<text text-anchor=\"start\" x=\"2847\" y=\"-7.8\" font-family=\"Helvetica,sans-Serif\" font-size=\"14.00\">value = [92, 64, 76]</text>\n",
       "</g>\n",
       "<!-- 29&#45;&gt;30 -->\n",
       "<g id=\"edge30\" class=\"edge\">\n",
       "<title>29&#45;&gt;30</title>\n",
       "<path fill=\"none\" stroke=\"black\" d=\"M2918,-88.94C2918,-80.66 2918,-71.64 2918,-63.13\"/>\n",
       "<polygon fill=\"black\" stroke=\"black\" points=\"2921.5,-63.09 2918,-53.09 2914.5,-63.09 2921.5,-63.09\"/>\n",
       "</g>\n",
       "<!-- 31 -->\n",
       "<g id=\"node32\" class=\"node\">\n",
       "<title>31</title>\n",
       "<path fill=\"#fefaf8\" stroke=\"black\" d=\"M3187.5,-53C3187.5,-53 3026.5,-53 3026.5,-53 3020.5,-53 3014.5,-47 3014.5,-41 3014.5,-41 3014.5,-12 3014.5,-12 3014.5,-6 3020.5,0 3026.5,0 3026.5,0 3187.5,0 3187.5,0 3193.5,0 3199.5,-6 3199.5,-12 3199.5,-12 3199.5,-41 3199.5,-41 3199.5,-47 3193.5,-53 3187.5,-53\"/>\n",
       "<text text-anchor=\"start\" x=\"3067.5\" y=\"-37.8\" font-family=\"Helvetica,sans-Serif\" font-size=\"14.00\">gini = 0.65</text>\n",
       "<text text-anchor=\"start\" x=\"3054\" y=\"-22.8\" font-family=\"Helvetica,sans-Serif\" font-size=\"14.00\">samples = 750</text>\n",
       "<text text-anchor=\"start\" x=\"3022.5\" y=\"-7.8\" font-family=\"Helvetica,sans-Serif\" font-size=\"14.00\">value = [298, 171, 281]</text>\n",
       "</g>\n",
       "<!-- 29&#45;&gt;31 -->\n",
       "<g id=\"edge31\" class=\"edge\">\n",
       "<title>29&#45;&gt;31</title>\n",
       "<path fill=\"none\" stroke=\"black\" d=\"M2981.46,-88.94C3002.11,-78.84 3024.97,-67.65 3045.48,-57.61\"/>\n",
       "<polygon fill=\"black\" stroke=\"black\" points=\"3047.27,-60.63 3054.71,-53.09 3044.19,-54.34 3047.27,-60.63\"/>\n",
       "</g>\n",
       "<!-- 33 -->\n",
       "<g id=\"node34\" class=\"node\">\n",
       "<title>33</title>\n",
       "<path fill=\"#fae9dc\" stroke=\"black\" d=\"M3979,-353C3979,-353 3791,-353 3791,-353 3785,-353 3779,-347 3779,-341 3779,-341 3779,-301 3779,-301 3779,-295 3785,-289 3791,-289 3791,-289 3979,-289 3979,-289 3985,-289 3991,-295 3991,-301 3991,-301 3991,-341 3991,-341 3991,-347 3985,-353 3979,-353\"/>\n",
       "<text text-anchor=\"start\" x=\"3845.5\" y=\"-338.8\" font-family=\"Helvetica,sans-Serif\" font-size=\"14.00\">x</text>\n",
       "<text text-anchor=\"start\" x=\"3854.5\" y=\"-338.8\" font-family=\"Helvetica,sans-Serif\" baseline-shift=\"sub\" font-size=\"14.00\">8</text>\n",
       "<text text-anchor=\"start\" x=\"3862.5\" y=\"-338.8\" font-family=\"Helvetica,sans-Serif\" font-size=\"14.00\"> ≤ 1.604</text>\n",
       "<text text-anchor=\"start\" x=\"3841\" y=\"-324.8\" font-family=\"Helvetica,sans-Serif\" font-size=\"14.00\">gini = 0.635</text>\n",
       "<text text-anchor=\"start\" x=\"3823\" y=\"-310.8\" font-family=\"Helvetica,sans-Serif\" font-size=\"14.00\">samples = 14270</text>\n",
       "<text text-anchor=\"start\" x=\"3787\" y=\"-296.8\" font-family=\"Helvetica,sans-Serif\" font-size=\"14.00\">value = [6511, 2912, 4847]</text>\n",
       "</g>\n",
       "<!-- 32&#45;&gt;33 -->\n",
       "<g id=\"edge33\" class=\"edge\">\n",
       "<title>32&#45;&gt;33</title>\n",
       "<path fill=\"none\" stroke=\"black\" d=\"M3885,-388.99C3885,-380.86 3885,-371.96 3885,-363.38\"/>\n",
       "<polygon fill=\"black\" stroke=\"black\" points=\"3888.5,-363.14 3885,-353.14 3881.5,-363.14 3888.5,-363.14\"/>\n",
       "</g>\n",
       "<!-- 48 -->\n",
       "<g id=\"node49\" class=\"node\">\n",
       "<title>48</title>\n",
       "<path fill=\"#fbede3\" stroke=\"black\" d=\"M5216,-353C5216,-353 5028,-353 5028,-353 5022,-353 5016,-347 5016,-341 5016,-341 5016,-301 5016,-301 5016,-295 5022,-289 5028,-289 5028,-289 5216,-289 5216,-289 5222,-289 5228,-295 5228,-301 5228,-301 5228,-341 5228,-341 5228,-347 5222,-353 5216,-353\"/>\n",
       "<text text-anchor=\"start\" x=\"5087.5\" y=\"-338.8\" font-family=\"Helvetica,sans-Serif\" font-size=\"14.00\">x</text>\n",
       "<text text-anchor=\"start\" x=\"5096.5\" y=\"-338.8\" font-family=\"Helvetica,sans-Serif\" baseline-shift=\"sub\" font-size=\"14.00\">14</text>\n",
       "<text text-anchor=\"start\" x=\"5112.5\" y=\"-338.8\" font-family=\"Helvetica,sans-Serif\" font-size=\"14.00\"> ≤ 0.5</text>\n",
       "<text text-anchor=\"start\" x=\"5078\" y=\"-324.8\" font-family=\"Helvetica,sans-Serif\" font-size=\"14.00\">gini = 0.637</text>\n",
       "<text text-anchor=\"start\" x=\"5060\" y=\"-310.8\" font-family=\"Helvetica,sans-Serif\" font-size=\"14.00\">samples = 17103</text>\n",
       "<text text-anchor=\"start\" x=\"5024\" y=\"-296.8\" font-family=\"Helvetica,sans-Serif\" font-size=\"14.00\">value = [7605, 3468, 6030]</text>\n",
       "</g>\n",
       "<!-- 32&#45;&gt;48 -->\n",
       "<g id=\"edge48\" class=\"edge\">\n",
       "<title>32&#45;&gt;48</title>\n",
       "<path fill=\"none\" stroke=\"black\" d=\"M4000.26,-410.87C4235.74,-392.21 4769.67,-349.91 5005.88,-331.2\"/>\n",
       "<polygon fill=\"black\" stroke=\"black\" points=\"5006.18,-334.69 5015.87,-330.41 5005.62,-327.71 5006.18,-334.69\"/>\n",
       "</g>\n",
       "<!-- 34 -->\n",
       "<g id=\"node35\" class=\"node\">\n",
       "<title>34</title>\n",
       "<path fill=\"#fae8db\" stroke=\"black\" d=\"M3870,-253C3870,-253 3682,-253 3682,-253 3676,-253 3670,-247 3670,-241 3670,-241 3670,-201 3670,-201 3670,-195 3676,-189 3682,-189 3682,-189 3870,-189 3870,-189 3876,-189 3882,-195 3882,-201 3882,-201 3882,-241 3882,-241 3882,-247 3876,-253 3870,-253\"/>\n",
       "<text text-anchor=\"start\" x=\"3734\" y=\"-238.8\" font-family=\"Helvetica,sans-Serif\" font-size=\"14.00\">x</text>\n",
       "<text text-anchor=\"start\" x=\"3743\" y=\"-238.8\" font-family=\"Helvetica,sans-Serif\" baseline-shift=\"sub\" font-size=\"14.00\">1</text>\n",
       "<text text-anchor=\"start\" x=\"3751\" y=\"-238.8\" font-family=\"Helvetica,sans-Serif\" font-size=\"14.00\"> ≤ &#45;0.802</text>\n",
       "<text text-anchor=\"start\" x=\"3732\" y=\"-224.8\" font-family=\"Helvetica,sans-Serif\" font-size=\"14.00\">gini = 0.634</text>\n",
       "<text text-anchor=\"start\" x=\"3714\" y=\"-210.8\" font-family=\"Helvetica,sans-Serif\" font-size=\"14.00\">samples = 13229</text>\n",
       "<text text-anchor=\"start\" x=\"3678\" y=\"-196.8\" font-family=\"Helvetica,sans-Serif\" font-size=\"14.00\">value = [6061, 2699, 4469]</text>\n",
       "</g>\n",
       "<!-- 33&#45;&gt;34 -->\n",
       "<g id=\"edge34\" class=\"edge\">\n",
       "<title>33&#45;&gt;34</title>\n",
       "<path fill=\"none\" stroke=\"black\" d=\"M3850.51,-288.99C3840.27,-279.79 3828.94,-269.6 3818.27,-260\"/>\n",
       "<polygon fill=\"black\" stroke=\"black\" points=\"3820.41,-257.23 3810.64,-253.14 3815.73,-262.43 3820.41,-257.23\"/>\n",
       "</g>\n",
       "<!-- 41 -->\n",
       "<g id=\"node42\" class=\"node\">\n",
       "<title>41</title>\n",
       "<path fill=\"#fcf1e9\" stroke=\"black\" d=\"M4249.5,-253C4249.5,-253 4088.5,-253 4088.5,-253 4082.5,-253 4076.5,-247 4076.5,-241 4076.5,-241 4076.5,-201 4076.5,-201 4076.5,-195 4082.5,-189 4088.5,-189 4088.5,-189 4249.5,-189 4249.5,-189 4255.5,-189 4261.5,-195 4261.5,-201 4261.5,-201 4261.5,-241 4261.5,-241 4261.5,-247 4255.5,-253 4249.5,-253\"/>\n",
       "<text text-anchor=\"start\" x=\"4129.5\" y=\"-238.8\" font-family=\"Helvetica,sans-Serif\" font-size=\"14.00\">x</text>\n",
       "<text text-anchor=\"start\" x=\"4138.5\" y=\"-238.8\" font-family=\"Helvetica,sans-Serif\" baseline-shift=\"sub\" font-size=\"14.00\">1</text>\n",
       "<text text-anchor=\"start\" x=\"4146.5\" y=\"-238.8\" font-family=\"Helvetica,sans-Serif\" font-size=\"14.00\"> ≤ 2.214</text>\n",
       "<text text-anchor=\"start\" x=\"4125\" y=\"-224.8\" font-family=\"Helvetica,sans-Serif\" font-size=\"14.00\">gini = 0.639</text>\n",
       "<text text-anchor=\"start\" x=\"4111.5\" y=\"-210.8\" font-family=\"Helvetica,sans-Serif\" font-size=\"14.00\">samples = 1041</text>\n",
       "<text text-anchor=\"start\" x=\"4084.5\" y=\"-196.8\" font-family=\"Helvetica,sans-Serif\" font-size=\"14.00\">value = [450, 213, 378]</text>\n",
       "</g>\n",
       "<!-- 33&#45;&gt;41 -->\n",
       "<g id=\"edge41\" class=\"edge\">\n",
       "<title>33&#45;&gt;41</title>\n",
       "<path fill=\"none\" stroke=\"black\" d=\"M3974.86,-288.99C4004.77,-278.67 4038.27,-267.11 4068.91,-256.54\"/>\n",
       "<polygon fill=\"black\" stroke=\"black\" points=\"4070.44,-259.71 4078.75,-253.14 4068.16,-253.1 4070.44,-259.71\"/>\n",
       "</g>\n",
       "<!-- 35 -->\n",
       "<g id=\"node36\" class=\"node\">\n",
       "<title>35</title>\n",
       "<path fill=\"#fdf7f2\" stroke=\"black\" d=\"M3548,-153C3548,-153 3396,-153 3396,-153 3390,-153 3384,-147 3384,-141 3384,-141 3384,-101 3384,-101 3384,-95 3390,-89 3396,-89 3396,-89 3548,-89 3548,-89 3554,-89 3560,-95 3560,-101 3560,-101 3560,-141 3560,-141 3560,-147 3554,-153 3548,-153\"/>\n",
       "<text text-anchor=\"start\" x=\"3426\" y=\"-138.8\" font-family=\"Helvetica,sans-Serif\" font-size=\"14.00\">x</text>\n",
       "<text text-anchor=\"start\" x=\"3435\" y=\"-138.8\" font-family=\"Helvetica,sans-Serif\" baseline-shift=\"sub\" font-size=\"14.00\">11</text>\n",
       "<text text-anchor=\"start\" x=\"3451\" y=\"-138.8\" font-family=\"Helvetica,sans-Serif\" font-size=\"14.00\"> ≤ &#45;0.199</text>\n",
       "<text text-anchor=\"start\" x=\"3428\" y=\"-124.8\" font-family=\"Helvetica,sans-Serif\" font-size=\"14.00\">gini = 0.639</text>\n",
       "<text text-anchor=\"start\" x=\"3419\" y=\"-110.8\" font-family=\"Helvetica,sans-Serif\" font-size=\"14.00\">samples = 411</text>\n",
       "<text text-anchor=\"start\" x=\"3392\" y=\"-96.8\" font-family=\"Helvetica,sans-Serif\" font-size=\"14.00\">value = [173, 82, 156]</text>\n",
       "</g>\n",
       "<!-- 34&#45;&gt;35 -->\n",
       "<g id=\"edge35\" class=\"edge\">\n",
       "<title>34&#45;&gt;35</title>\n",
       "<path fill=\"none\" stroke=\"black\" d=\"M3679.81,-188.99C3644.75,-177.69 3605.09,-164.9 3569.89,-153.56\"/>\n",
       "<polygon fill=\"black\" stroke=\"black\" points=\"3570.67,-150.13 3560.08,-150.4 3568.53,-156.79 3570.67,-150.13\"/>\n",
       "</g>\n",
       "<!-- 38 -->\n",
       "<g id=\"node39\" class=\"node\">\n",
       "<title>38</title>\n",
       "<path fill=\"#fae8da\" stroke=\"black\" d=\"M3870,-153C3870,-153 3682,-153 3682,-153 3676,-153 3670,-147 3670,-141 3670,-141 3670,-101 3670,-101 3670,-95 3676,-89 3682,-89 3682,-89 3870,-89 3870,-89 3876,-89 3882,-95 3882,-101 3882,-101 3882,-141 3882,-141 3882,-147 3876,-153 3870,-153\"/>\n",
       "<text text-anchor=\"start\" x=\"3734\" y=\"-138.8\" font-family=\"Helvetica,sans-Serif\" font-size=\"14.00\">x</text>\n",
       "<text text-anchor=\"start\" x=\"3743\" y=\"-138.8\" font-family=\"Helvetica,sans-Serif\" baseline-shift=\"sub\" font-size=\"14.00\">1</text>\n",
       "<text text-anchor=\"start\" x=\"3751\" y=\"-138.8\" font-family=\"Helvetica,sans-Serif\" font-size=\"14.00\"> ≤ &#45;0.797</text>\n",
       "<text text-anchor=\"start\" x=\"3732\" y=\"-124.8\" font-family=\"Helvetica,sans-Serif\" font-size=\"14.00\">gini = 0.634</text>\n",
       "<text text-anchor=\"start\" x=\"3714\" y=\"-110.8\" font-family=\"Helvetica,sans-Serif\" font-size=\"14.00\">samples = 12818</text>\n",
       "<text text-anchor=\"start\" x=\"3678\" y=\"-96.8\" font-family=\"Helvetica,sans-Serif\" font-size=\"14.00\">value = [5888, 2617, 4313]</text>\n",
       "</g>\n",
       "<!-- 34&#45;&gt;38 -->\n",
       "<g id=\"edge38\" class=\"edge\">\n",
       "<title>34&#45;&gt;38</title>\n",
       "<path fill=\"none\" stroke=\"black\" d=\"M3776,-188.99C3776,-180.86 3776,-171.96 3776,-163.38\"/>\n",
       "<polygon fill=\"black\" stroke=\"black\" points=\"3779.5,-163.14 3776,-153.14 3772.5,-163.14 3779.5,-163.14\"/>\n",
       "</g>\n",
       "<!-- 36 -->\n",
       "<g id=\"node37\" class=\"node\">\n",
       "<title>36</title>\n",
       "<path fill=\"#f3ecfc\" stroke=\"black\" d=\"M3363,-53C3363,-53 3229,-53 3229,-53 3223,-53 3217,-47 3217,-41 3217,-41 3217,-12 3217,-12 3217,-6 3223,0 3229,0 3229,0 3363,0 3363,0 3369,0 3375,-6 3375,-12 3375,-12 3375,-41 3375,-41 3375,-47 3369,-53 3363,-53\"/>\n",
       "<text text-anchor=\"start\" x=\"3252\" y=\"-37.8\" font-family=\"Helvetica,sans-Serif\" font-size=\"14.00\">gini = 0.631</text>\n",
       "<text text-anchor=\"start\" x=\"3243\" y=\"-22.8\" font-family=\"Helvetica,sans-Serif\" font-size=\"14.00\">samples = 196</text>\n",
       "<text text-anchor=\"start\" x=\"3225\" y=\"-7.8\" font-family=\"Helvetica,sans-Serif\" font-size=\"14.00\">value = [74, 36, 86]</text>\n",
       "</g>\n",
       "<!-- 35&#45;&gt;36 -->\n",
       "<g id=\"edge36\" class=\"edge\">\n",
       "<title>35&#45;&gt;36</title>\n",
       "<path fill=\"none\" stroke=\"black\" d=\"M3412.9,-88.94C3393.77,-78.88 3372.58,-67.75 3353.55,-57.75\"/>\n",
       "<polygon fill=\"black\" stroke=\"black\" points=\"3355.17,-54.64 3344.69,-53.09 3351.92,-60.84 3355.17,-54.64\"/>\n",
       "</g>\n",
       "<!-- 37 -->\n",
       "<g id=\"node38\" class=\"node\">\n",
       "<title>37</title>\n",
       "<path fill=\"#fae6d7\" stroke=\"black\" d=\"M3539,-53C3539,-53 3405,-53 3405,-53 3399,-53 3393,-47 3393,-41 3393,-41 3393,-12 3393,-12 3393,-6 3399,0 3405,0 3405,0 3539,0 3539,0 3545,0 3551,-6 3551,-12 3551,-12 3551,-41 3551,-41 3551,-47 3545,-53 3539,-53\"/>\n",
       "<text text-anchor=\"start\" x=\"3428\" y=\"-37.8\" font-family=\"Helvetica,sans-Serif\" font-size=\"14.00\">gini = 0.636</text>\n",
       "<text text-anchor=\"start\" x=\"3419\" y=\"-22.8\" font-family=\"Helvetica,sans-Serif\" font-size=\"14.00\">samples = 215</text>\n",
       "<text text-anchor=\"start\" x=\"3401\" y=\"-7.8\" font-family=\"Helvetica,sans-Serif\" font-size=\"14.00\">value = [99, 46, 70]</text>\n",
       "</g>\n",
       "<!-- 35&#45;&gt;37 -->\n",
       "<g id=\"edge37\" class=\"edge\">\n",
       "<title>35&#45;&gt;37</title>\n",
       "<path fill=\"none\" stroke=\"black\" d=\"M3472,-88.94C3472,-80.66 3472,-71.64 3472,-63.13\"/>\n",
       "<polygon fill=\"black\" stroke=\"black\" points=\"3475.5,-63.09 3472,-53.09 3468.5,-63.09 3475.5,-63.09\"/>\n",
       "</g>\n",
       "<!-- 39 -->\n",
       "<g id=\"node40\" class=\"node\">\n",
       "<title>39</title>\n",
       "<path fill=\"#f7d8c2\" stroke=\"black\" d=\"M3733,-53C3733,-53 3581,-53 3581,-53 3575,-53 3569,-47 3569,-41 3569,-41 3569,-12 3569,-12 3569,-6 3575,0 3581,0 3581,0 3733,0 3733,0 3739,0 3745,-6 3745,-12 3745,-12 3745,-41 3745,-41 3745,-47 3739,-53 3733,-53\"/>\n",
       "<text text-anchor=\"start\" x=\"3613\" y=\"-37.8\" font-family=\"Helvetica,sans-Serif\" font-size=\"14.00\">gini = 0.602</text>\n",
       "<text text-anchor=\"start\" x=\"3604\" y=\"-22.8\" font-family=\"Helvetica,sans-Serif\" font-size=\"14.00\">samples = 394</text>\n",
       "<text text-anchor=\"start\" x=\"3577\" y=\"-7.8\" font-family=\"Helvetica,sans-Serif\" font-size=\"14.00\">value = [206, 65, 123]</text>\n",
       "</g>\n",
       "<!-- 38&#45;&gt;39 -->\n",
       "<g id=\"edge39\" class=\"edge\">\n",
       "<title>38&#45;&gt;39</title>\n",
       "<path fill=\"none\" stroke=\"black\" d=\"M3736.04,-88.94C3723.75,-79.38 3710.2,-68.85 3697.84,-59.25\"/>\n",
       "<polygon fill=\"black\" stroke=\"black\" points=\"3699.97,-56.46 3689.92,-53.09 3695.67,-61.99 3699.97,-56.46\"/>\n",
       "</g>\n",
       "<!-- 40 -->\n",
       "<g id=\"node41\" class=\"node\">\n",
       "<title>40</title>\n",
       "<path fill=\"#fae8db\" stroke=\"black\" d=\"M3963,-53C3963,-53 3775,-53 3775,-53 3769,-53 3763,-47 3763,-41 3763,-41 3763,-12 3763,-12 3763,-6 3769,0 3775,0 3775,0 3963,0 3963,0 3969,0 3975,-6 3975,-12 3975,-12 3975,-41 3975,-41 3975,-47 3969,-53 3963,-53\"/>\n",
       "<text text-anchor=\"start\" x=\"3825\" y=\"-37.8\" font-family=\"Helvetica,sans-Serif\" font-size=\"14.00\">gini = 0.635</text>\n",
       "<text text-anchor=\"start\" x=\"3807\" y=\"-22.8\" font-family=\"Helvetica,sans-Serif\" font-size=\"14.00\">samples = 12424</text>\n",
       "<text text-anchor=\"start\" x=\"3771\" y=\"-7.8\" font-family=\"Helvetica,sans-Serif\" font-size=\"14.00\">value = [5682, 2552, 4190]</text>\n",
       "</g>\n",
       "<!-- 38&#45;&gt;40 -->\n",
       "<g id=\"edge40\" class=\"edge\">\n",
       "<title>38&#45;&gt;40</title>\n",
       "<path fill=\"none\" stroke=\"black\" d=\"M3807.23,-88.94C3816.47,-79.75 3826.62,-69.65 3835.97,-60.35\"/>\n",
       "<polygon fill=\"black\" stroke=\"black\" points=\"3838.65,-62.62 3843.27,-53.09 3833.71,-57.66 3838.65,-62.62\"/>\n",
       "</g>\n",
       "<!-- 42 -->\n",
       "<g id=\"node43\" class=\"node\">\n",
       "<title>42</title>\n",
       "<path fill=\"#fcefe6\" stroke=\"black\" d=\"M4249.5,-153C4249.5,-153 4088.5,-153 4088.5,-153 4082.5,-153 4076.5,-147 4076.5,-141 4076.5,-141 4076.5,-101 4076.5,-101 4076.5,-95 4082.5,-89 4088.5,-89 4088.5,-89 4249.5,-89 4249.5,-89 4255.5,-89 4261.5,-95 4261.5,-101 4261.5,-101 4261.5,-141 4261.5,-141 4261.5,-147 4255.5,-153 4249.5,-153\"/>\n",
       "<text text-anchor=\"start\" x=\"4125.5\" y=\"-138.8\" font-family=\"Helvetica,sans-Serif\" font-size=\"14.00\">x</text>\n",
       "<text text-anchor=\"start\" x=\"4134.5\" y=\"-138.8\" font-family=\"Helvetica,sans-Serif\" baseline-shift=\"sub\" font-size=\"14.00\">10</text>\n",
       "<text text-anchor=\"start\" x=\"4150.5\" y=\"-138.8\" font-family=\"Helvetica,sans-Serif\" font-size=\"14.00\"> ≤ 1.229</text>\n",
       "<text text-anchor=\"start\" x=\"4129.5\" y=\"-124.8\" font-family=\"Helvetica,sans-Serif\" font-size=\"14.00\">gini = 0.64</text>\n",
       "<text text-anchor=\"start\" x=\"4116\" y=\"-110.8\" font-family=\"Helvetica,sans-Serif\" font-size=\"14.00\">samples = 996</text>\n",
       "<text text-anchor=\"start\" x=\"4084.5\" y=\"-96.8\" font-family=\"Helvetica,sans-Serif\" font-size=\"14.00\">value = [435, 207, 354]</text>\n",
       "</g>\n",
       "<!-- 41&#45;&gt;42 -->\n",
       "<g id=\"edge42\" class=\"edge\">\n",
       "<title>41&#45;&gt;42</title>\n",
       "<path fill=\"none\" stroke=\"black\" d=\"M4169,-188.99C4169,-180.86 4169,-171.96 4169,-163.38\"/>\n",
       "<polygon fill=\"black\" stroke=\"black\" points=\"4172.5,-163.14 4169,-153.14 4165.5,-163.14 4172.5,-163.14\"/>\n",
       "</g>\n",
       "<!-- 45 -->\n",
       "<g id=\"node46\" class=\"node\">\n",
       "<title>45</title>\n",
       "<path fill=\"#d9c4f7\" stroke=\"black\" d=\"M4499.5,-153C4499.5,-153 4374.5,-153 4374.5,-153 4368.5,-153 4362.5,-147 4362.5,-141 4362.5,-141 4362.5,-101 4362.5,-101 4362.5,-95 4368.5,-89 4374.5,-89 4374.5,-89 4499.5,-89 4499.5,-89 4505.5,-89 4511.5,-95 4511.5,-101 4511.5,-101 4511.5,-141 4511.5,-141 4511.5,-147 4505.5,-153 4499.5,-153\"/>\n",
       "<text text-anchor=\"start\" x=\"4391\" y=\"-138.8\" font-family=\"Helvetica,sans-Serif\" font-size=\"14.00\">x</text>\n",
       "<text text-anchor=\"start\" x=\"4400\" y=\"-138.8\" font-family=\"Helvetica,sans-Serif\" baseline-shift=\"sub\" font-size=\"14.00\">10</text>\n",
       "<text text-anchor=\"start\" x=\"4416\" y=\"-138.8\" font-family=\"Helvetica,sans-Serif\" font-size=\"14.00\"> ≤ &#45;1.293</text>\n",
       "<text text-anchor=\"start\" x=\"4393\" y=\"-124.8\" font-family=\"Helvetica,sans-Serif\" font-size=\"14.00\">gini = 0.587</text>\n",
       "<text text-anchor=\"start\" x=\"4388.5\" y=\"-110.8\" font-family=\"Helvetica,sans-Serif\" font-size=\"14.00\">samples = 45</text>\n",
       "<text text-anchor=\"start\" x=\"4370.5\" y=\"-96.8\" font-family=\"Helvetica,sans-Serif\" font-size=\"14.00\">value = [15, 6, 24]</text>\n",
       "</g>\n",
       "<!-- 41&#45;&gt;45 -->\n",
       "<g id=\"edge45\" class=\"edge\">\n",
       "<title>41&#45;&gt;45</title>\n",
       "<path fill=\"none\" stroke=\"black\" d=\"M4253.8,-188.99C4285.34,-177.46 4321.12,-164.38 4352.63,-152.85\"/>\n",
       "<polygon fill=\"black\" stroke=\"black\" points=\"4354.07,-156.05 4362.26,-149.33 4351.66,-149.48 4354.07,-156.05\"/>\n",
       "</g>\n",
       "<!-- 43 -->\n",
       "<g id=\"node44\" class=\"node\">\n",
       "<title>43</title>\n",
       "<path fill=\"#fdf4ed\" stroke=\"black\" d=\"M4165.5,-53C4165.5,-53 4004.5,-53 4004.5,-53 3998.5,-53 3992.5,-47 3992.5,-41 3992.5,-41 3992.5,-12 3992.5,-12 3992.5,-6 3998.5,0 4004.5,0 4004.5,0 4165.5,0 4165.5,0 4171.5,0 4177.5,-6 4177.5,-12 4177.5,-12 4177.5,-41 4177.5,-41 4177.5,-47 4171.5,-53 4165.5,-53\"/>\n",
       "<text text-anchor=\"start\" x=\"4041\" y=\"-37.8\" font-family=\"Helvetica,sans-Serif\" font-size=\"14.00\">gini = 0.644</text>\n",
       "<text text-anchor=\"start\" x=\"4032\" y=\"-22.8\" font-family=\"Helvetica,sans-Serif\" font-size=\"14.00\">samples = 814</text>\n",
       "<text text-anchor=\"start\" x=\"4000.5\" y=\"-7.8\" font-family=\"Helvetica,sans-Serif\" font-size=\"14.00\">value = [342, 176, 296]</text>\n",
       "</g>\n",
       "<!-- 42&#45;&gt;43 -->\n",
       "<g id=\"edge43\" class=\"edge\">\n",
       "<title>42&#45;&gt;43</title>\n",
       "<path fill=\"none\" stroke=\"black\" d=\"M4140.8,-88.94C4132.53,-79.84 4123.46,-69.85 4115.08,-60.63\"/>\n",
       "<polygon fill=\"black\" stroke=\"black\" points=\"4117.55,-58.14 4108.24,-53.09 4112.37,-62.85 4117.55,-58.14\"/>\n",
       "</g>\n",
       "<!-- 44 -->\n",
       "<g id=\"node45\" class=\"node\">\n",
       "<title>44</title>\n",
       "<path fill=\"#f8dbc7\" stroke=\"black\" d=\"M4341,-53C4341,-53 4207,-53 4207,-53 4201,-53 4195,-47 4195,-41 4195,-41 4195,-12 4195,-12 4195,-6 4201,0 4207,0 4207,0 4341,0 4341,0 4347,0 4353,-6 4353,-12 4353,-12 4353,-41 4353,-41 4353,-47 4347,-53 4341,-53\"/>\n",
       "<text text-anchor=\"start\" x=\"4230\" y=\"-37.8\" font-family=\"Helvetica,sans-Serif\" font-size=\"14.00\">gini = 0.608</text>\n",
       "<text text-anchor=\"start\" x=\"4221\" y=\"-22.8\" font-family=\"Helvetica,sans-Serif\" font-size=\"14.00\">samples = 182</text>\n",
       "<text text-anchor=\"start\" x=\"4203\" y=\"-7.8\" font-family=\"Helvetica,sans-Serif\" font-size=\"14.00\">value = [93, 31, 58]</text>\n",
       "</g>\n",
       "<!-- 42&#45;&gt;44 -->\n",
       "<g id=\"edge44\" class=\"edge\">\n",
       "<title>42&#45;&gt;44</title>\n",
       "<path fill=\"none\" stroke=\"black\" d=\"M4204.26,-88.94C4214.9,-79.57 4226.61,-69.25 4237.34,-59.8\"/>\n",
       "<polygon fill=\"black\" stroke=\"black\" points=\"4239.76,-62.33 4244.95,-53.09 4235.13,-57.07 4239.76,-62.33\"/>\n",
       "</g>\n",
       "<!-- 46 -->\n",
       "<g id=\"node47\" class=\"node\">\n",
       "<title>46</title>\n",
       "<path fill=\"#8139e5\" stroke=\"black\" d=\"M4490.5,-53C4490.5,-53 4383.5,-53 4383.5,-53 4377.5,-53 4371.5,-47 4371.5,-41 4371.5,-41 4371.5,-12 4371.5,-12 4371.5,-6 4377.5,0 4383.5,0 4383.5,0 4490.5,0 4490.5,0 4496.5,0 4502.5,-6 4502.5,-12 4502.5,-12 4502.5,-41 4502.5,-41 4502.5,-47 4496.5,-53 4490.5,-53\"/>\n",
       "<text text-anchor=\"start\" x=\"4402\" y=\"-37.8\" font-family=\"Helvetica,sans-Serif\" font-size=\"14.00\">gini = 0.0</text>\n",
       "<text text-anchor=\"start\" x=\"4393\" y=\"-22.8\" font-family=\"Helvetica,sans-Serif\" font-size=\"14.00\">samples = 3</text>\n",
       "<text text-anchor=\"start\" x=\"4379.5\" y=\"-7.8\" font-family=\"Helvetica,sans-Serif\" font-size=\"14.00\">value = [0, 0, 3]</text>\n",
       "</g>\n",
       "<!-- 45&#45;&gt;46 -->\n",
       "<g id=\"edge46\" class=\"edge\">\n",
       "<title>45&#45;&gt;46</title>\n",
       "<path fill=\"none\" stroke=\"black\" d=\"M4437,-88.94C4437,-80.66 4437,-71.64 4437,-63.13\"/>\n",
       "<polygon fill=\"black\" stroke=\"black\" points=\"4440.5,-63.09 4437,-53.09 4433.5,-63.09 4440.5,-63.09\"/>\n",
       "</g>\n",
       "<!-- 47 -->\n",
       "<g id=\"node48\" class=\"node\">\n",
       "<title>47</title>\n",
       "<path fill=\"#e3d3f9\" stroke=\"black\" d=\"M4657.5,-53C4657.5,-53 4532.5,-53 4532.5,-53 4526.5,-53 4520.5,-47 4520.5,-41 4520.5,-41 4520.5,-12 4520.5,-12 4520.5,-6 4526.5,0 4532.5,0 4532.5,0 4657.5,0 4657.5,0 4663.5,0 4669.5,-6 4669.5,-12 4669.5,-12 4669.5,-41 4669.5,-41 4669.5,-47 4663.5,-53 4657.5,-53\"/>\n",
       "<text text-anchor=\"start\" x=\"4551\" y=\"-37.8\" font-family=\"Helvetica,sans-Serif\" font-size=\"14.00\">gini = 0.602</text>\n",
       "<text text-anchor=\"start\" x=\"4546.5\" y=\"-22.8\" font-family=\"Helvetica,sans-Serif\" font-size=\"14.00\">samples = 42</text>\n",
       "<text text-anchor=\"start\" x=\"4528.5\" y=\"-7.8\" font-family=\"Helvetica,sans-Serif\" font-size=\"14.00\">value = [15, 6, 21]</text>\n",
       "</g>\n",
       "<!-- 45&#45;&gt;47 -->\n",
       "<g id=\"edge47\" class=\"edge\">\n",
       "<title>45&#45;&gt;47</title>\n",
       "<path fill=\"none\" stroke=\"black\" d=\"M4490.05,-88.94C4507,-79.02 4525.74,-68.05 4542.64,-58.15\"/>\n",
       "<polygon fill=\"black\" stroke=\"black\" points=\"4544.43,-61.16 4551.29,-53.09 4540.89,-55.12 4544.43,-61.16\"/>\n",
       "</g>\n",
       "<!-- 49 -->\n",
       "<g id=\"node50\" class=\"node\">\n",
       "<title>49</title>\n",
       "<path fill=\"#fbeee4\" stroke=\"black\" d=\"M5216,-253C5216,-253 5028,-253 5028,-253 5022,-253 5016,-247 5016,-241 5016,-241 5016,-201 5016,-201 5016,-195 5022,-189 5028,-189 5028,-189 5216,-189 5216,-189 5222,-189 5228,-195 5228,-201 5228,-201 5228,-241 5228,-241 5228,-247 5222,-253 5216,-253\"/>\n",
       "<text text-anchor=\"start\" x=\"5087.5\" y=\"-238.8\" font-family=\"Helvetica,sans-Serif\" font-size=\"14.00\">x</text>\n",
       "<text text-anchor=\"start\" x=\"5096.5\" y=\"-238.8\" font-family=\"Helvetica,sans-Serif\" baseline-shift=\"sub\" font-size=\"14.00\">20</text>\n",
       "<text text-anchor=\"start\" x=\"5112.5\" y=\"-238.8\" font-family=\"Helvetica,sans-Serif\" font-size=\"14.00\"> ≤ 0.5</text>\n",
       "<text text-anchor=\"start\" x=\"5078\" y=\"-224.8\" font-family=\"Helvetica,sans-Serif\" font-size=\"14.00\">gini = 0.637</text>\n",
       "<text text-anchor=\"start\" x=\"5060\" y=\"-210.8\" font-family=\"Helvetica,sans-Serif\" font-size=\"14.00\">samples = 16180</text>\n",
       "<text text-anchor=\"start\" x=\"5024\" y=\"-196.8\" font-family=\"Helvetica,sans-Serif\" font-size=\"14.00\">value = [7168, 3264, 5748]</text>\n",
       "</g>\n",
       "<!-- 48&#45;&gt;49 -->\n",
       "<g id=\"edge49\" class=\"edge\">\n",
       "<title>48&#45;&gt;49</title>\n",
       "<path fill=\"none\" stroke=\"black\" d=\"M5122,-288.99C5122,-280.86 5122,-271.96 5122,-263.38\"/>\n",
       "<polygon fill=\"black\" stroke=\"black\" points=\"5125.5,-263.14 5122,-253.14 5118.5,-263.14 5125.5,-263.14\"/>\n",
       "</g>\n",
       "<!-- 56 -->\n",
       "<g id=\"node57\" class=\"node\">\n",
       "<title>56</title>\n",
       "<path fill=\"#f9e1cf\" stroke=\"black\" d=\"M5753.5,-253C5753.5,-253 5592.5,-253 5592.5,-253 5586.5,-253 5580.5,-247 5580.5,-241 5580.5,-241 5580.5,-201 5580.5,-201 5580.5,-195 5586.5,-189 5592.5,-189 5592.5,-189 5753.5,-189 5753.5,-189 5759.5,-189 5765.5,-195 5765.5,-201 5765.5,-201 5765.5,-241 5765.5,-241 5765.5,-247 5759.5,-253 5753.5,-253\"/>\n",
       "<text text-anchor=\"start\" x=\"5633.5\" y=\"-238.8\" font-family=\"Helvetica,sans-Serif\" font-size=\"14.00\">x</text>\n",
       "<text text-anchor=\"start\" x=\"5642.5\" y=\"-238.8\" font-family=\"Helvetica,sans-Serif\" baseline-shift=\"sub\" font-size=\"14.00\">4</text>\n",
       "<text text-anchor=\"start\" x=\"5650.5\" y=\"-238.8\" font-family=\"Helvetica,sans-Serif\" font-size=\"14.00\"> ≤ 0.951</text>\n",
       "<text text-anchor=\"start\" x=\"5629\" y=\"-224.8\" font-family=\"Helvetica,sans-Serif\" font-size=\"14.00\">gini = 0.634</text>\n",
       "<text text-anchor=\"start\" x=\"5620\" y=\"-210.8\" font-family=\"Helvetica,sans-Serif\" font-size=\"14.00\">samples = 923</text>\n",
       "<text text-anchor=\"start\" x=\"5588.5\" y=\"-196.8\" font-family=\"Helvetica,sans-Serif\" font-size=\"14.00\">value = [437, 204, 282]</text>\n",
       "</g>\n",
       "<!-- 48&#45;&gt;56 -->\n",
       "<g id=\"edge56\" class=\"edge\">\n",
       "<title>48&#45;&gt;56</title>\n",
       "<path fill=\"none\" stroke=\"black\" d=\"M5228.24,-301.1C5326.95,-283.55 5473,-257.57 5570.5,-240.23\"/>\n",
       "<polygon fill=\"black\" stroke=\"black\" points=\"5571.13,-243.67 5580.37,-238.48 5569.91,-236.78 5571.13,-243.67\"/>\n",
       "</g>\n",
       "<!-- 50 -->\n",
       "<g id=\"node51\" class=\"node\">\n",
       "<title>50</title>\n",
       "<path fill=\"#fbede3\" stroke=\"black\" d=\"M5108,-153C5108,-153 4920,-153 4920,-153 4914,-153 4908,-147 4908,-141 4908,-141 4908,-101 4908,-101 4908,-95 4914,-89 4920,-89 4920,-89 5108,-89 5108,-89 5114,-89 5120,-95 5120,-101 5120,-101 5120,-141 5120,-141 5120,-147 5114,-153 5108,-153\"/>\n",
       "<text text-anchor=\"start\" x=\"4972\" y=\"-138.8\" font-family=\"Helvetica,sans-Serif\" font-size=\"14.00\">x</text>\n",
       "<text text-anchor=\"start\" x=\"4981\" y=\"-138.8\" font-family=\"Helvetica,sans-Serif\" baseline-shift=\"sub\" font-size=\"14.00\">1</text>\n",
       "<text text-anchor=\"start\" x=\"4989\" y=\"-138.8\" font-family=\"Helvetica,sans-Serif\" font-size=\"14.00\"> ≤ &#45;0.764</text>\n",
       "<text text-anchor=\"start\" x=\"4970\" y=\"-124.8\" font-family=\"Helvetica,sans-Serif\" font-size=\"14.00\">gini = 0.636</text>\n",
       "<text text-anchor=\"start\" x=\"4952\" y=\"-110.8\" font-family=\"Helvetica,sans-Serif\" font-size=\"14.00\">samples = 15679</text>\n",
       "<text text-anchor=\"start\" x=\"4916\" y=\"-96.8\" font-family=\"Helvetica,sans-Serif\" font-size=\"14.00\">value = [6973, 3147, 5559]</text>\n",
       "</g>\n",
       "<!-- 49&#45;&gt;50 -->\n",
       "<g id=\"edge50\" class=\"edge\">\n",
       "<title>49&#45;&gt;50</title>\n",
       "<path fill=\"none\" stroke=\"black\" d=\"M5087.83,-188.99C5077.68,-179.79 5066.45,-169.6 5055.88,-160\"/>\n",
       "<polygon fill=\"black\" stroke=\"black\" points=\"5058.08,-157.27 5048.32,-153.14 5053.37,-162.45 5058.08,-157.27\"/>\n",
       "</g>\n",
       "<!-- 53 -->\n",
       "<g id=\"node54\" class=\"node\">\n",
       "<title>53</title>\n",
       "<path fill=\"#fefdfb\" stroke=\"black\" d=\"M5310.5,-153C5310.5,-153 5149.5,-153 5149.5,-153 5143.5,-153 5137.5,-147 5137.5,-141 5137.5,-141 5137.5,-101 5137.5,-101 5137.5,-95 5143.5,-89 5149.5,-89 5149.5,-89 5310.5,-89 5310.5,-89 5316.5,-89 5322.5,-95 5322.5,-101 5322.5,-101 5322.5,-141 5322.5,-141 5322.5,-147 5316.5,-153 5310.5,-153\"/>\n",
       "<text text-anchor=\"start\" x=\"5186.5\" y=\"-138.8\" font-family=\"Helvetica,sans-Serif\" font-size=\"14.00\">x</text>\n",
       "<text text-anchor=\"start\" x=\"5195.5\" y=\"-138.8\" font-family=\"Helvetica,sans-Serif\" baseline-shift=\"sub\" font-size=\"14.00\">10</text>\n",
       "<text text-anchor=\"start\" x=\"5211.5\" y=\"-138.8\" font-family=\"Helvetica,sans-Serif\" font-size=\"14.00\"> ≤ 1.509</text>\n",
       "<text text-anchor=\"start\" x=\"5186\" y=\"-124.8\" font-family=\"Helvetica,sans-Serif\" font-size=\"14.00\">gini = 0.652</text>\n",
       "<text text-anchor=\"start\" x=\"5177\" y=\"-110.8\" font-family=\"Helvetica,sans-Serif\" font-size=\"14.00\">samples = 501</text>\n",
       "<text text-anchor=\"start\" x=\"5145.5\" y=\"-96.8\" font-family=\"Helvetica,sans-Serif\" font-size=\"14.00\">value = [195, 117, 189]</text>\n",
       "</g>\n",
       "<!-- 49&#45;&gt;53 -->\n",
       "<g id=\"edge53\" class=\"edge\">\n",
       "<title>49&#45;&gt;53</title>\n",
       "<path fill=\"none\" stroke=\"black\" d=\"M5156.17,-188.99C5166.32,-179.79 5177.55,-169.6 5188.12,-160\"/>\n",
       "<polygon fill=\"black\" stroke=\"black\" points=\"5190.63,-162.45 5195.68,-153.14 5185.92,-157.27 5190.63,-162.45\"/>\n",
       "</g>\n",
       "<!-- 51 -->\n",
       "<g id=\"node52\" class=\"node\">\n",
       "<title>51</title>\n",
       "<path fill=\"#fcf3ec\" stroke=\"black\" d=\"M4878.5,-53C4878.5,-53 4699.5,-53 4699.5,-53 4693.5,-53 4687.5,-47 4687.5,-41 4687.5,-41 4687.5,-12 4687.5,-12 4687.5,-6 4693.5,0 4699.5,0 4699.5,0 4878.5,0 4878.5,0 4884.5,0 4890.5,-6 4890.5,-12 4890.5,-12 4890.5,-41 4890.5,-41 4890.5,-47 4884.5,-53 4878.5,-53\"/>\n",
       "<text text-anchor=\"start\" x=\"4745\" y=\"-37.8\" font-family=\"Helvetica,sans-Serif\" font-size=\"14.00\">gini = 0.641</text>\n",
       "<text text-anchor=\"start\" x=\"4731.5\" y=\"-22.8\" font-family=\"Helvetica,sans-Serif\" font-size=\"14.00\">samples = 3119</text>\n",
       "<text text-anchor=\"start\" x=\"4695.5\" y=\"-7.8\" font-family=\"Helvetica,sans-Serif\" font-size=\"14.00\">value = [1333, 644, 1142]</text>\n",
       "</g>\n",
       "<!-- 50&#45;&gt;51 -->\n",
       "<g id=\"edge51\" class=\"edge\">\n",
       "<title>50&#45;&gt;51</title>\n",
       "<path fill=\"none\" stroke=\"black\" d=\"M4938.45,-88.94C4913.32,-78.61 4885.42,-67.14 4860.6,-56.94\"/>\n",
       "<polygon fill=\"black\" stroke=\"black\" points=\"4861.83,-53.66 4851.25,-53.09 4859.17,-60.13 4861.83,-53.66\"/>\n",
       "</g>\n",
       "<!-- 52 -->\n",
       "<g id=\"node53\" class=\"node\">\n",
       "<title>52</title>\n",
       "<path fill=\"#fbece1\" stroke=\"black\" d=\"M5108,-53C5108,-53 4920,-53 4920,-53 4914,-53 4908,-47 4908,-41 4908,-41 4908,-12 4908,-12 4908,-6 4914,0 4920,0 4920,0 5108,0 5108,0 5114,0 5120,-6 5120,-12 5120,-12 5120,-41 5120,-41 5120,-47 5114,-53 5108,-53\"/>\n",
       "<text text-anchor=\"start\" x=\"4970\" y=\"-37.8\" font-family=\"Helvetica,sans-Serif\" font-size=\"14.00\">gini = 0.635</text>\n",
       "<text text-anchor=\"start\" x=\"4952\" y=\"-22.8\" font-family=\"Helvetica,sans-Serif\" font-size=\"14.00\">samples = 12560</text>\n",
       "<text text-anchor=\"start\" x=\"4916\" y=\"-7.8\" font-family=\"Helvetica,sans-Serif\" font-size=\"14.00\">value = [5640, 2503, 4417]</text>\n",
       "</g>\n",
       "<!-- 50&#45;&gt;52 -->\n",
       "<g id=\"edge52\" class=\"edge\">\n",
       "<title>50&#45;&gt;52</title>\n",
       "<path fill=\"none\" stroke=\"black\" d=\"M5014,-88.94C5014,-80.66 5014,-71.64 5014,-63.13\"/>\n",
       "<polygon fill=\"black\" stroke=\"black\" points=\"5017.5,-63.09 5014,-53.09 5010.5,-63.09 5017.5,-63.09\"/>\n",
       "</g>\n",
       "<!-- 54 -->\n",
       "<g id=\"node55\" class=\"node\">\n",
       "<title>54</title>\n",
       "<path fill=\"#fbf9fe\" stroke=\"black\" d=\"M5310.5,-53C5310.5,-53 5149.5,-53 5149.5,-53 5143.5,-53 5137.5,-47 5137.5,-41 5137.5,-41 5137.5,-12 5137.5,-12 5137.5,-6 5143.5,0 5149.5,0 5149.5,0 5310.5,0 5310.5,0 5316.5,0 5322.5,-6 5322.5,-12 5322.5,-12 5322.5,-41 5322.5,-41 5322.5,-47 5316.5,-53 5310.5,-53\"/>\n",
       "<text text-anchor=\"start\" x=\"5186\" y=\"-37.8\" font-family=\"Helvetica,sans-Serif\" font-size=\"14.00\">gini = 0.652</text>\n",
       "<text text-anchor=\"start\" x=\"5177\" y=\"-22.8\" font-family=\"Helvetica,sans-Serif\" font-size=\"14.00\">samples = 465</text>\n",
       "<text text-anchor=\"start\" x=\"5145.5\" y=\"-7.8\" font-family=\"Helvetica,sans-Serif\" font-size=\"14.00\">value = [173, 110, 182]</text>\n",
       "</g>\n",
       "<!-- 53&#45;&gt;54 -->\n",
       "<g id=\"edge54\" class=\"edge\">\n",
       "<title>53&#45;&gt;54</title>\n",
       "<path fill=\"none\" stroke=\"black\" d=\"M5230,-88.94C5230,-80.66 5230,-71.64 5230,-63.13\"/>\n",
       "<polygon fill=\"black\" stroke=\"black\" points=\"5233.5,-63.09 5230,-53.09 5226.5,-63.09 5233.5,-63.09\"/>\n",
       "</g>\n",
       "<!-- 55 -->\n",
       "<g id=\"node56\" class=\"node\">\n",
       "<title>55</title>\n",
       "<path fill=\"#f2be99\" stroke=\"black\" d=\"M5469,-53C5469,-53 5353,-53 5353,-53 5347,-53 5341,-47 5341,-41 5341,-41 5341,-12 5341,-12 5341,-6 5347,0 5353,0 5353,0 5469,0 5469,0 5475,0 5481,-6 5481,-12 5481,-12 5481,-41 5481,-41 5481,-47 5475,-53 5469,-53\"/>\n",
       "<text text-anchor=\"start\" x=\"5367\" y=\"-37.8\" font-family=\"Helvetica,sans-Serif\" font-size=\"14.00\">gini = 0.551</text>\n",
       "<text text-anchor=\"start\" x=\"5362.5\" y=\"-22.8\" font-family=\"Helvetica,sans-Serif\" font-size=\"14.00\">samples = 36</text>\n",
       "<text text-anchor=\"start\" x=\"5349\" y=\"-7.8\" font-family=\"Helvetica,sans-Serif\" font-size=\"14.00\">value = [22, 7, 7]</text>\n",
       "</g>\n",
       "<!-- 53&#45;&gt;55 -->\n",
       "<g id=\"edge55\" class=\"edge\">\n",
       "<title>53&#45;&gt;55</title>\n",
       "<path fill=\"none\" stroke=\"black\" d=\"M5290.77,-88.94C5310.46,-78.88 5332.25,-67.75 5351.81,-57.75\"/>\n",
       "<polygon fill=\"black\" stroke=\"black\" points=\"5353.61,-60.76 5360.92,-53.09 5350.43,-54.52 5353.61,-60.76\"/>\n",
       "</g>\n",
       "<!-- 57 -->\n",
       "<g id=\"node58\" class=\"node\">\n",
       "<title>57</title>\n",
       "<path fill=\"#fae5d6\" stroke=\"black\" d=\"M5753.5,-153C5753.5,-153 5592.5,-153 5592.5,-153 5586.5,-153 5580.5,-147 5580.5,-141 5580.5,-141 5580.5,-101 5580.5,-101 5580.5,-95 5586.5,-89 5592.5,-89 5592.5,-89 5753.5,-89 5753.5,-89 5759.5,-89 5765.5,-95 5765.5,-101 5765.5,-101 5765.5,-141 5765.5,-141 5765.5,-147 5759.5,-153 5753.5,-153\"/>\n",
       "<text text-anchor=\"start\" x=\"5629.5\" y=\"-138.8\" font-family=\"Helvetica,sans-Serif\" font-size=\"14.00\">x</text>\n",
       "<text text-anchor=\"start\" x=\"5638.5\" y=\"-138.8\" font-family=\"Helvetica,sans-Serif\" baseline-shift=\"sub\" font-size=\"14.00\">10</text>\n",
       "<text text-anchor=\"start\" x=\"5654.5\" y=\"-138.8\" font-family=\"Helvetica,sans-Serif\" font-size=\"14.00\"> ≤ 1.509</text>\n",
       "<text text-anchor=\"start\" x=\"5629\" y=\"-124.8\" font-family=\"Helvetica,sans-Serif\" font-size=\"14.00\">gini = 0.641</text>\n",
       "<text text-anchor=\"start\" x=\"5620\" y=\"-110.8\" font-family=\"Helvetica,sans-Serif\" font-size=\"14.00\">samples = 785</text>\n",
       "<text text-anchor=\"start\" x=\"5588.5\" y=\"-96.8\" font-family=\"Helvetica,sans-Serif\" font-size=\"14.00\">value = [357, 182, 246]</text>\n",
       "</g>\n",
       "<!-- 56&#45;&gt;57 -->\n",
       "<g id=\"edge57\" class=\"edge\">\n",
       "<title>56&#45;&gt;57</title>\n",
       "<path fill=\"none\" stroke=\"black\" d=\"M5673,-188.99C5673,-180.86 5673,-171.96 5673,-163.38\"/>\n",
       "<polygon fill=\"black\" stroke=\"black\" points=\"5676.5,-163.14 5673,-153.14 5669.5,-163.14 5676.5,-163.14\"/>\n",
       "</g>\n",
       "<!-- 60 -->\n",
       "<g id=\"node61\" class=\"node\">\n",
       "<title>60</title>\n",
       "<path fill=\"#f4c9aa\" stroke=\"black\" d=\"M6011,-153C6011,-153 5877,-153 5877,-153 5871,-153 5865,-147 5865,-141 5865,-141 5865,-101 5865,-101 5865,-95 5871,-89 5877,-89 5877,-89 6011,-89 6011,-89 6017,-89 6023,-95 6023,-101 6023,-101 6023,-141 6023,-141 6023,-147 6017,-153 6011,-153\"/>\n",
       "<text text-anchor=\"start\" x=\"5898\" y=\"-138.8\" font-family=\"Helvetica,sans-Serif\" font-size=\"14.00\">x</text>\n",
       "<text text-anchor=\"start\" x=\"5907\" y=\"-138.8\" font-family=\"Helvetica,sans-Serif\" baseline-shift=\"sub\" font-size=\"14.00\">10</text>\n",
       "<text text-anchor=\"start\" x=\"5923\" y=\"-138.8\" font-family=\"Helvetica,sans-Serif\" font-size=\"14.00\"> ≤ &#45;0.732</text>\n",
       "<text text-anchor=\"start\" x=\"5904.5\" y=\"-124.8\" font-family=\"Helvetica,sans-Serif\" font-size=\"14.00\">gini = 0.57</text>\n",
       "<text text-anchor=\"start\" x=\"5891\" y=\"-110.8\" font-family=\"Helvetica,sans-Serif\" font-size=\"14.00\">samples = 138</text>\n",
       "<text text-anchor=\"start\" x=\"5873\" y=\"-96.8\" font-family=\"Helvetica,sans-Serif\" font-size=\"14.00\">value = [80, 22, 36]</text>\n",
       "</g>\n",
       "<!-- 56&#45;&gt;60 -->\n",
       "<g id=\"edge60\" class=\"edge\">\n",
       "<title>56&#45;&gt;60</title>\n",
       "<path fill=\"none\" stroke=\"black\" d=\"M5758.75,-188.99C5789.52,-177.86 5824.27,-165.3 5855.3,-154.08\"/>\n",
       "<polygon fill=\"black\" stroke=\"black\" points=\"5856.58,-157.33 5864.8,-150.64 5854.2,-150.75 5856.58,-157.33\"/>\n",
       "</g>\n",
       "<!-- 58 -->\n",
       "<g id=\"node59\" class=\"node\">\n",
       "<title>58</title>\n",
       "<path fill=\"#f9e4d5\" stroke=\"black\" d=\"M5672.5,-53C5672.5,-53 5511.5,-53 5511.5,-53 5505.5,-53 5499.5,-47 5499.5,-41 5499.5,-41 5499.5,-12 5499.5,-12 5499.5,-6 5505.5,0 5511.5,0 5511.5,0 5672.5,0 5672.5,0 5678.5,0 5684.5,-6 5684.5,-12 5684.5,-12 5684.5,-41 5684.5,-41 5684.5,-47 5678.5,-53 5672.5,-53\"/>\n",
       "<text text-anchor=\"start\" x=\"5548\" y=\"-37.8\" font-family=\"Helvetica,sans-Serif\" font-size=\"14.00\">gini = 0.642</text>\n",
       "<text text-anchor=\"start\" x=\"5539\" y=\"-22.8\" font-family=\"Helvetica,sans-Serif\" font-size=\"14.00\">samples = 741</text>\n",
       "<text text-anchor=\"start\" x=\"5507.5\" y=\"-7.8\" font-family=\"Helvetica,sans-Serif\" font-size=\"14.00\">value = [337, 176, 228]</text>\n",
       "</g>\n",
       "<!-- 57&#45;&gt;58 -->\n",
       "<g id=\"edge58\" class=\"edge\">\n",
       "<title>57&#45;&gt;58</title>\n",
       "<path fill=\"none\" stroke=\"black\" d=\"M5645.8,-88.94C5637.83,-79.84 5629.09,-69.85 5621.01,-60.63\"/>\n",
       "<polygon fill=\"black\" stroke=\"black\" points=\"5623.63,-58.31 5614.41,-53.09 5618.36,-62.92 5623.63,-58.31\"/>\n",
       "</g>\n",
       "<!-- 59 -->\n",
       "<g id=\"node60\" class=\"node\">\n",
       "<title>59</title>\n",
       "<path fill=\"#fdf5f0\" stroke=\"black\" d=\"M5839.5,-53C5839.5,-53 5714.5,-53 5714.5,-53 5708.5,-53 5702.5,-47 5702.5,-41 5702.5,-41 5702.5,-12 5702.5,-12 5702.5,-6 5708.5,0 5714.5,0 5714.5,0 5839.5,0 5839.5,0 5845.5,0 5851.5,-6 5851.5,-12 5851.5,-12 5851.5,-41 5851.5,-41 5851.5,-47 5845.5,-53 5839.5,-53\"/>\n",
       "<text text-anchor=\"start\" x=\"5733\" y=\"-37.8\" font-family=\"Helvetica,sans-Serif\" font-size=\"14.00\">gini = 0.607</text>\n",
       "<text text-anchor=\"start\" x=\"5728.5\" y=\"-22.8\" font-family=\"Helvetica,sans-Serif\" font-size=\"14.00\">samples = 44</text>\n",
       "<text text-anchor=\"start\" x=\"5710.5\" y=\"-7.8\" font-family=\"Helvetica,sans-Serif\" font-size=\"14.00\">value = [20, 6, 18]</text>\n",
       "</g>\n",
       "<!-- 57&#45;&gt;59 -->\n",
       "<g id=\"edge59\" class=\"edge\">\n",
       "<title>57&#45;&gt;59</title>\n",
       "<path fill=\"none\" stroke=\"black\" d=\"M5707.92,-88.94C5718.46,-79.57 5730.06,-69.25 5740.69,-59.8\"/>\n",
       "<polygon fill=\"black\" stroke=\"black\" points=\"5743.08,-62.35 5748.23,-53.09 5738.43,-57.12 5743.08,-62.35\"/>\n",
       "</g>\n",
       "<!-- 61 -->\n",
       "<g id=\"node62\" class=\"node\">\n",
       "<title>61</title>\n",
       "<path fill=\"#f0b68d\" stroke=\"black\" d=\"M6006.5,-53C6006.5,-53 5881.5,-53 5881.5,-53 5875.5,-53 5869.5,-47 5869.5,-41 5869.5,-41 5869.5,-12 5869.5,-12 5869.5,-6 5875.5,0 5881.5,0 5881.5,0 6006.5,0 6006.5,0 6012.5,0 6018.5,-6 6018.5,-12 6018.5,-12 6018.5,-41 6018.5,-41 6018.5,-47 6012.5,-53 6006.5,-53\"/>\n",
       "<text text-anchor=\"start\" x=\"5900\" y=\"-37.8\" font-family=\"Helvetica,sans-Serif\" font-size=\"14.00\">gini = 0.487</text>\n",
       "<text text-anchor=\"start\" x=\"5895.5\" y=\"-22.8\" font-family=\"Helvetica,sans-Serif\" font-size=\"14.00\">samples = 58</text>\n",
       "<text text-anchor=\"start\" x=\"5877.5\" y=\"-7.8\" font-family=\"Helvetica,sans-Serif\" font-size=\"14.00\">value = [39, 6, 13]</text>\n",
       "</g>\n",
       "<!-- 60&#45;&gt;61 -->\n",
       "<g id=\"edge61\" class=\"edge\">\n",
       "<title>60&#45;&gt;61</title>\n",
       "<path fill=\"none\" stroke=\"black\" d=\"M5944,-88.94C5944,-80.66 5944,-71.64 5944,-63.13\"/>\n",
       "<polygon fill=\"black\" stroke=\"black\" points=\"5947.5,-63.09 5944,-53.09 5940.5,-63.09 5947.5,-63.09\"/>\n",
       "</g>\n",
       "<!-- 62 -->\n",
       "<g id=\"node63\" class=\"node\">\n",
       "<title>62</title>\n",
       "<path fill=\"#f7d7c0\" stroke=\"black\" d=\"M6182,-53C6182,-53 6048,-53 6048,-53 6042,-53 6036,-47 6036,-41 6036,-41 6036,-12 6036,-12 6036,-6 6042,0 6048,0 6048,0 6182,0 6182,0 6188,0 6194,-6 6194,-12 6194,-12 6194,-41 6194,-41 6194,-47 6188,-53 6182,-53\"/>\n",
       "<text text-anchor=\"start\" x=\"6071\" y=\"-37.8\" font-family=\"Helvetica,sans-Serif\" font-size=\"14.00\">gini = 0.615</text>\n",
       "<text text-anchor=\"start\" x=\"6066.5\" y=\"-22.8\" font-family=\"Helvetica,sans-Serif\" font-size=\"14.00\">samples = 80</text>\n",
       "<text text-anchor=\"start\" x=\"6044\" y=\"-7.8\" font-family=\"Helvetica,sans-Serif\" font-size=\"14.00\">value = [41, 16, 23]</text>\n",
       "</g>\n",
       "<!-- 60&#45;&gt;62 -->\n",
       "<g id=\"edge62\" class=\"edge\">\n",
       "<title>60&#45;&gt;62</title>\n",
       "<path fill=\"none\" stroke=\"black\" d=\"M6001.42,-88.94C6019.93,-78.93 6040.41,-67.85 6058.83,-57.88\"/>\n",
       "<polygon fill=\"black\" stroke=\"black\" points=\"6060.56,-60.93 6067.69,-53.09 6057.23,-54.77 6060.56,-60.93\"/>\n",
       "</g>\n",
       "</g>\n",
       "</svg>\n"
      ],
      "text/plain": [
       "<graphviz.sources.Source at 0x7fe732553a00>"
      ]
     },
     "execution_count": 145,
     "metadata": {},
     "output_type": "execute_result"
    }
   ],
   "source": [
    "from sklearn.model_selection import train_test_split\n",
    "from sklearn.tree import DecisionTreeClassifier, export_graphviz\n",
    "from sklearn.pipeline import Pipeline\n",
    "from sklearn.compose import ColumnTransformer\n",
    "from sklearn.preprocessing import OneHotEncoder\n",
    "import graphviz \n",
    "\n",
    "rf = Pipeline([\n",
    "    (\"preprocessor\",preprocessor),\n",
    "    (\"classifier\",DecisionTreeClassifier(max_depth=5,random_state=42))\n",
    "])\n",
    "\n",
    "# Run the grid search\n",
    "rf.fit(dev_X, dev_y)\n",
    "\n",
    "dot_data = export_graphviz(rf.named_steps['classifier'], out_file=None,\n",
    "                           filled=True, rounded=True, special_characters=True)\n",
    "graph = graphviz.Source(dot_data)\n",
    "graph.render('decision_tree', format='png')\n",
    "graph"
   ]
  },
  {
   "cell_type": "markdown",
   "id": "5bd6d959-9e58-474f-83a0-1ae1fc20e87c",
   "metadata": {},
   "source": [
    "<h3> Checking on the test set </h3>"
   ]
  },
  {
   "cell_type": "code",
   "execution_count": null,
   "id": "cbebb238-845f-43d9-8733-36e3eb274d4f",
   "metadata": {},
   "outputs": [],
   "source": []
  },
  {
   "cell_type": "code",
   "execution_count": null,
   "id": "8f8bfb9b-4d3a-4995-9bf8-6fff9796485e",
   "metadata": {},
   "outputs": [],
   "source": []
  },
  {
   "cell_type": "code",
   "execution_count": null,
   "id": "e947612a-83c2-4705-8e60-40ccaeded46e",
   "metadata": {},
   "outputs": [],
   "source": []
  },
  {
   "cell_type": "code",
   "execution_count": null,
   "id": "62a259e4-1a33-4dc6-9e1c-1e702ce199b2",
   "metadata": {},
   "outputs": [],
   "source": []
  },
  {
   "cell_type": "code",
   "execution_count": null,
   "id": "759522ff-0681-4832-a1a2-689dff7705ef",
   "metadata": {},
   "outputs": [],
   "source": []
  },
  {
   "cell_type": "code",
   "execution_count": null,
   "id": "00cdc327-37c8-420f-9fff-72bb8adb255a",
   "metadata": {},
   "outputs": [],
   "source": []
  },
  {
   "cell_type": "code",
   "execution_count": null,
   "id": "b703b04c-076f-4cef-ae56-4febdf0fded2",
   "metadata": {},
   "outputs": [],
   "source": []
  },
  {
   "cell_type": "code",
   "execution_count": null,
   "id": "c71490e8-76aa-46f6-b94a-751149a0f0d4",
   "metadata": {},
   "outputs": [],
   "source": []
  },
  {
   "cell_type": "code",
   "execution_count": null,
   "id": "192eec2c-9b15-4282-87f7-85692455d312",
   "metadata": {},
   "outputs": [],
   "source": []
  }
 ],
 "metadata": {
  "kernelspec": {
   "display_name": "Python 3 (ipykernel)",
   "language": "python",
   "name": "python3"
  },
  "language_info": {
   "codemirror_mode": {
    "name": "ipython",
    "version": 3
   },
   "file_extension": ".py",
   "mimetype": "text/x-python",
   "name": "python",
   "nbconvert_exporter": "python",
   "pygments_lexer": "ipython3",
   "version": "3.10.6"
  }
 },
 "nbformat": 4,
 "nbformat_minor": 5
}
